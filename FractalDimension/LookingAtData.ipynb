{
 "cells": [
  {
   "cell_type": "code",
   "execution_count": 1,
   "metadata": {},
   "outputs": [],
   "source": [
    "import pathlib\n",
    "cwd = pathlib.Path.cwd()\n",
    "import pandas"
   ]
  },
  {
   "cell_type": "code",
   "execution_count": 5,
   "metadata": {},
   "outputs": [],
   "source": [
    "folder_path = cwd / \"TE_Images_ForPaper\" / \"Exon2Exon\" / \"Cancer\"\n",
    "# data: pathlib.Path = folder_path / \"E2ENormal.pkl\"\n",
    "save_file_path = folder_path / \"E2ENormal.pkl\"\n"
   ]
  },
  {
   "cell_type": "code",
   "execution_count": 6,
   "metadata": {},
   "outputs": [],
   "source": [
    "master_data = pandas.read_pickle(save_file_path)"
   ]
  },
  {
   "cell_type": "code",
   "execution_count": 7,
   "metadata": {},
   "outputs": [
    {
     "name": "stdout",
     "output_type": "stream",
     "text": [
      "           X         Y  Chrm           Seq  Gndex\n",
      "0   0.163818  0.587402  chr5  tgtggtATTGCC      0\n",
      "1   0.852783  0.308594  chr5  AACCAGCGTTGG      0\n",
      "0   0.252197  0.901855  chr2  TCTGTCGAAATG      1\n",
      "1   0.426025  0.599365  chr2  CGGTGTGTCGAG      1\n",
      "2   0.389893  0.290283  chr2  GGTTAGGTACCG      1\n",
      "..       ...       ...   ...           ...    ...\n",
      "7   0.604248  0.316162  chr2  CCAAGGTGTTTC   9999\n",
      "8   0.251709  0.414795  chr2  CATTTGGAAAGC   9999\n",
      "9   0.448242  0.496338  chr2  GACCCGGCATCA   9999\n",
      "10  0.269043  0.436523  chr2  ACCCTGGAGACT   9999\n",
      "11  0.311523  0.441895  chr2  TAGACGGACCCA   9999\n",
      "\n",
      "[115521 rows x 5 columns]\n"
     ]
    }
   ],
   "source": [
    "print(master_data)"
   ]
  }
 ],
 "metadata": {
  "kernelspec": {
   "display_name": "thesis",
   "language": "python",
   "name": "python3"
  },
  "language_info": {
   "codemirror_mode": {
    "name": "ipython",
    "version": 3
   },
   "file_extension": ".py",
   "mimetype": "text/x-python",
   "name": "python",
   "nbconvert_exporter": "python",
   "pygments_lexer": "ipython3",
   "version": "3.10.8"
  }
 },
 "nbformat": 4,
 "nbformat_minor": 2
}
