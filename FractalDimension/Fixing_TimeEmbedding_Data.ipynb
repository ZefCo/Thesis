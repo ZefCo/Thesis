{
 "cells": [
  {
   "cell_type": "code",
   "execution_count": 9,
   "metadata": {},
   "outputs": [],
   "source": [
    "import ExonExonData as eed\n",
    "import pathlib\n",
    "cwd = pathlib.Path.cwd()\n",
    "import pandas\n",
    "import pickle\n",
    "from Heatmaps import heatmapv2 as heatmap\n",
    "from Heatmaps import _undigitize_seq as undigit\n",
    "from TimeEmbedding import time_embedding_1D as te_1d\n",
    "from ExonExonPlots import plots_v2\n",
    "from TimeEmbedding import time_embedding_v2\n",
    "from TimeEmbedding import matplotfigure"
   ]
  },
  {
   "cell_type": "code",
   "execution_count": 5,
   "metadata": {},
   "outputs": [],
   "source": [
    "drg_data = pandas.read_excel(cwd.parent / \"Data_Files\" / \"Primates\" / \"Genetics\" / \"Homo_sapiens\" / \"Exon_Intron_Data\" / \"Intron.xlsx\", sheet_name = \"sheet1\")\n",
    "anterior = drg_data[\"Anterior_20\"]\n",
    "posterior = drg_data[\"Posterior_20\"]\n",
    "\n",
    "anterior = anterior.apply(lambda x : x[0:6])\n",
    "posterior = posterior.apply(lambda x : x[len(x) - 6: len(x)])\n",
    "\n",
    "master_data = pandas.DataFrame()\n",
    "master_data[\"Anterior\"] = anterior\n",
    "master_data[\"Posterior\"] = posterior"
   ]
  },
  {
   "cell_type": "code",
   "execution_count": 6,
   "metadata": {},
   "outputs": [
    {
     "name": "stdout",
     "output_type": "stream",
     "text": [
      "Generating points\n",
      "Saving to file\n",
      "Reopening file\n",
      "Generating Plots\n"
     ]
    }
   ],
   "source": [
    "plots_v2(master_data, cwd / \"TE_Images_ForPaper\" / \"Exon2Exon\" / \"Cancer\" / \"Dump.pkl\", cwd / \"TE_Images_ForPaper\" / \"Exon2Exon\" / \"Cancer\" / \"E2ETest.png\")\n"
   ]
  },
  {
   "cell_type": "code",
   "execution_count": 7,
   "metadata": {},
   "outputs": [],
   "source": [
    "# score_keys(k = 6)\n",
    "# exit()\n",
    "# species = \"Mouse\"\n",
    "# species = \"Chimp\"\n",
    "species = \"Homo_sapiens\"\n",
    "# species = \"Fly\"\n",
    "\n",
    "linux_path = f\"/media/ethanspeakman/Elements/\"\n",
    "windows_path = f\"F:/\"\n",
    "\n",
    "data_path = windows_path\n",
    "\n",
    "# Non Zoomed Picture\n",
    "exon_dict_file = f\"{species}_ImFucked\"\n",
    "intron_dict_file = f\"{species}_ImFucked\"\n",
    "x_lim = None\n",
    "y_lim = None\n",
    "x_ticks = {0.0: 0.0, 1.0: 1.0}\n",
    "y_ticks = {0.0: 0.0, 1.0: 1.0}\n",
    "s = 0.01\n",
    "bfa = None\n",
    "inches = 20\n",
    "exon_png_file = f\"{species}_ImFucked\"\n",
    "intron_png_file = f\"{species}_ImFucked\"\n",
    "box_1 = [0.75, 0.00, 0.25, 0.25, \"red\", 4, True, 0.2]\n",
    "bfa = [box_1]\n",
    "bfa = None\n",
    "border = 8\n",
    "# bfa = None\n",
    "textsize = 40\n",
    "n = 100_000\n",
    "data_set = 1\n",
    "x_title, y_title = \"X\", \"Y\"\n",
    "label_coords = [0.5, -0.02, -0.02, 0.5]  # [None, None, -0.1, 0.5] for \"Data_zoomed_x0875y00625T\""
   ]
  },
  {
   "cell_type": "code",
   "execution_count": 10,
   "metadata": {},
   "outputs": [
    {
     "name": "stdout",
     "output_type": "stream",
     "text": [
      "<class 'AttributeError'>\n",
      "'dict' object has no attribute 'sample'\n"
     ]
    },
    {
     "ename": "AttributeError",
     "evalue": "'dict' object has no attribute 'shape'",
     "output_type": "error",
     "traceback": [
      "\u001b[1;31m---------------------------------------------------------------------------\u001b[0m",
      "\u001b[1;31mAttributeError\u001b[0m                            Traceback (most recent call last)",
      "File \u001b[1;32md:\\Coding\\Thesis\\FractalDimension\\TimeEmbedding.py:608\u001b[0m, in \u001b[0;36mtime_embedding_v2\u001b[1;34m(data, n, k_p, k_m, gap, backwards, nucsequence, PyPu, sequence_name, classification_name, x_lim, y_lim, exon_outfile, intron_outfile, inter_outfile, *args, **kwargs)\u001b[0m\n\u001b[0;32m    607\u001b[0m \u001b[38;5;28;01mtry\u001b[39;00m:\n\u001b[1;32m--> 608\u001b[0m     data \u001b[38;5;241m=\u001b[39m \u001b[43mdata\u001b[49m\u001b[38;5;241;43m.\u001b[39;49m\u001b[43msample\u001b[49m(n \u001b[38;5;241m=\u001b[39m n)\u001b[38;5;241m.\u001b[39mreset_index()\n\u001b[0;32m    609\u001b[0m \u001b[38;5;28;01mexcept\u001b[39;00m \u001b[38;5;167;01mValueError\u001b[39;00m \u001b[38;5;28;01mas\u001b[39;00m e:\n",
      "\u001b[1;31mAttributeError\u001b[0m: 'dict' object has no attribute 'sample'",
      "\nDuring handling of the above exception, another exception occurred:\n",
      "\u001b[1;31mAttributeError\u001b[0m                            Traceback (most recent call last)",
      "Cell \u001b[1;32mIn[10], line 1\u001b[0m\n\u001b[1;32m----> 1\u001b[0m \u001b[43mtime_embedding_v2\u001b[49m\u001b[43m(\u001b[49m\u001b[43mcwd\u001b[49m\u001b[38;5;241;43m.\u001b[39;49m\u001b[43mparent\u001b[49m\u001b[43m \u001b[49m\u001b[38;5;241;43m/\u001b[39;49m\u001b[43m \u001b[49m\u001b[38;5;124;43m\"\u001b[39;49m\u001b[38;5;124;43mData_Files\u001b[39;49m\u001b[38;5;124;43m\"\u001b[39;49m\u001b[43m \u001b[49m\u001b[38;5;241;43m/\u001b[39;49m\u001b[43m \u001b[49m\u001b[38;5;124;43m\"\u001b[39;49m\u001b[38;5;124;43mPrimates\u001b[39;49m\u001b[38;5;124;43m\"\u001b[39;49m\u001b[43m \u001b[49m\u001b[38;5;241;43m/\u001b[39;49m\u001b[43m \u001b[49m\u001b[38;5;124;43m\"\u001b[39;49m\u001b[38;5;124;43mGenetics\u001b[39;49m\u001b[38;5;124;43m\"\u001b[39;49m\u001b[43m \u001b[49m\u001b[38;5;241;43m/\u001b[39;49m\u001b[43m \u001b[49m\u001b[38;5;124;43m\"\u001b[39;49m\u001b[38;5;124;43mHomo_sapiens\u001b[39;49m\u001b[38;5;124;43m\"\u001b[39;49m\u001b[43m \u001b[49m\u001b[38;5;241;43m/\u001b[39;49m\u001b[43m \u001b[49m\u001b[38;5;124;43m\"\u001b[39;49m\u001b[38;5;124;43mCleaned_Data\u001b[39;49m\u001b[38;5;124;43m\"\u001b[39;49m\u001b[43m \u001b[49m\u001b[38;5;241;43m/\u001b[39;49m\u001b[43m \u001b[49m\u001b[38;5;124;43m\"\u001b[39;49m\u001b[38;5;124;43mData_Set_1_cleaned_dict.pkl\u001b[39;49m\u001b[38;5;124;43m\"\u001b[39;49m\u001b[43m,\u001b[49m\u001b[43m \u001b[49m\n\u001b[0;32m      2\u001b[0m \u001b[43m                \u001b[49m\u001b[43mn\u001b[49m\u001b[43m \u001b[49m\u001b[38;5;241;43m=\u001b[39;49m\u001b[43m \u001b[49m\u001b[43mn\u001b[49m\u001b[43m,\u001b[49m\u001b[43m \u001b[49m\n\u001b[0;32m      3\u001b[0m \u001b[43m                \u001b[49m\u001b[43mx_lim\u001b[49m\u001b[43m \u001b[49m\u001b[38;5;241;43m=\u001b[39;49m\u001b[43m \u001b[49m\u001b[43mx_lim\u001b[49m\u001b[43m,\u001b[49m\u001b[43m \u001b[49m\u001b[43my_lim\u001b[49m\u001b[43m \u001b[49m\u001b[38;5;241;43m=\u001b[39;49m\u001b[43m \u001b[49m\u001b[43my_lim\u001b[49m\u001b[43m,\u001b[49m\u001b[43m \u001b[49m\n\u001b[0;32m      4\u001b[0m \u001b[43m                \u001b[49m\u001b[43mexon_outfile\u001b[49m\u001b[43m \u001b[49m\u001b[38;5;241;43m=\u001b[39;49m\u001b[43m \u001b[49m\u001b[43mcwd\u001b[49m\u001b[43m \u001b[49m\u001b[38;5;241;43m/\u001b[39;49m\u001b[43m \u001b[49m\u001b[38;5;124;43m\"\u001b[39;49m\u001b[38;5;124;43mTE_Images_ForPaper\u001b[39;49m\u001b[38;5;124;43m\"\u001b[39;49m\u001b[43m \u001b[49m\u001b[38;5;241;43m/\u001b[39;49m\u001b[43m \u001b[49m\u001b[38;5;124;43m\"\u001b[39;49m\u001b[38;5;124;43mDict\u001b[39;49m\u001b[38;5;124;43m\"\u001b[39;49m\u001b[43m \u001b[49m\u001b[38;5;241;43m/\u001b[39;49m\u001b[43m \u001b[49m\u001b[38;5;124;43mf\u001b[39;49m\u001b[38;5;124;43m\"\u001b[39;49m\u001b[38;5;132;43;01m{\u001b[39;49;00m\u001b[43mexon_dict_file\u001b[49m\u001b[38;5;132;43;01m}\u001b[39;49;00m\u001b[38;5;124;43m.pkl\u001b[39;49m\u001b[38;5;124;43m\"\u001b[39;49m\u001b[43m,\u001b[49m\n\u001b[0;32m      5\u001b[0m \u001b[43m                \u001b[49m\u001b[43mintron_outfile\u001b[49m\u001b[43m \u001b[49m\u001b[38;5;241;43m=\u001b[39;49m\u001b[43m \u001b[49m\u001b[43mcwd\u001b[49m\u001b[43m \u001b[49m\u001b[38;5;241;43m/\u001b[39;49m\u001b[43m \u001b[49m\u001b[38;5;124;43m\"\u001b[39;49m\u001b[38;5;124;43mTE_Images_ForPaper\u001b[39;49m\u001b[38;5;124;43m\"\u001b[39;49m\u001b[43m \u001b[49m\u001b[38;5;241;43m/\u001b[39;49m\u001b[43m \u001b[49m\u001b[38;5;124;43m\"\u001b[39;49m\u001b[38;5;124;43mDict\u001b[39;49m\u001b[38;5;124;43m\"\u001b[39;49m\u001b[43m \u001b[49m\u001b[38;5;241;43m/\u001b[39;49m\u001b[43m \u001b[49m\u001b[38;5;124;43mf\u001b[39;49m\u001b[38;5;124;43m\"\u001b[39;49m\u001b[38;5;132;43;01m{\u001b[39;49;00m\u001b[43mintron_dict_file\u001b[49m\u001b[38;5;132;43;01m}\u001b[39;49;00m\u001b[38;5;124;43m.pkl\u001b[39;49m\u001b[38;5;124;43m\"\u001b[39;49m\u001b[43m)\u001b[49m\n\u001b[0;32m      7\u001b[0m matplotfigure(cwd \u001b[38;5;241m/\u001b[39m \u001b[38;5;124m\"\u001b[39m\u001b[38;5;124mTE_Images_ForPaper\u001b[39m\u001b[38;5;124m\"\u001b[39m \u001b[38;5;241m/\u001b[39m \u001b[38;5;124m\"\u001b[39m\u001b[38;5;124mDict\u001b[39m\u001b[38;5;124m\"\u001b[39m \u001b[38;5;241m/\u001b[39m \u001b[38;5;124mf\u001b[39m\u001b[38;5;124m\"\u001b[39m\u001b[38;5;132;01m{\u001b[39;00mexon_dict_file\u001b[38;5;132;01m}\u001b[39;00m\u001b[38;5;124m.pkl\u001b[39m\u001b[38;5;124m\"\u001b[39m,\n\u001b[0;32m      8\u001b[0m                 cwd \u001b[38;5;241m/\u001b[39m \u001b[38;5;124m\"\u001b[39m\u001b[38;5;124mTE_Images_ForPaper\u001b[39m\u001b[38;5;124m\"\u001b[39m \u001b[38;5;241m/\u001b[39m \u001b[38;5;124m\"\u001b[39m\u001b[38;5;124mExon\u001b[39m\u001b[38;5;124m\"\u001b[39m,\n\u001b[0;32m      9\u001b[0m                 \u001b[38;5;124mf\u001b[39m\u001b[38;5;124m\"\u001b[39m\u001b[38;5;132;01m{\u001b[39;00mexon_png_file\u001b[38;5;132;01m}\u001b[39;00m\u001b[38;5;124m\"\u001b[39m,\n\u001b[1;32m   (...)\u001b[0m\n\u001b[0;32m     19\u001b[0m                 textsize \u001b[38;5;241m=\u001b[39m textsize,\n\u001b[0;32m     20\u001b[0m                 dot_size \u001b[38;5;241m=\u001b[39m s, label_coords \u001b[38;5;241m=\u001b[39m label_coords)\n\u001b[0;32m     22\u001b[0m matplotfigure(cwd \u001b[38;5;241m/\u001b[39m \u001b[38;5;124m\"\u001b[39m\u001b[38;5;124mTE_Images_ForPaper\u001b[39m\u001b[38;5;124m\"\u001b[39m \u001b[38;5;241m/\u001b[39m \u001b[38;5;124m\"\u001b[39m\u001b[38;5;124mDict\u001b[39m\u001b[38;5;124m\"\u001b[39m \u001b[38;5;241m/\u001b[39m \u001b[38;5;124mf\u001b[39m\u001b[38;5;124m\"\u001b[39m\u001b[38;5;132;01m{\u001b[39;00mintron_dict_file\u001b[38;5;132;01m}\u001b[39;00m\u001b[38;5;124m.pkl\u001b[39m\u001b[38;5;124m\"\u001b[39m,\n\u001b[0;32m     23\u001b[0m                 cwd \u001b[38;5;241m/\u001b[39m \u001b[38;5;124m\"\u001b[39m\u001b[38;5;124mTE_Images_ForPaper\u001b[39m\u001b[38;5;124m\"\u001b[39m \u001b[38;5;241m/\u001b[39m \u001b[38;5;124m\"\u001b[39m\u001b[38;5;124mIntron\u001b[39m\u001b[38;5;124m\"\u001b[39m,\n\u001b[0;32m     24\u001b[0m                 \u001b[38;5;124mf\u001b[39m\u001b[38;5;124m\"\u001b[39m\u001b[38;5;132;01m{\u001b[39;00mintron_png_file\u001b[38;5;132;01m}\u001b[39;00m\u001b[38;5;124m\"\u001b[39m,\n\u001b[1;32m   (...)\u001b[0m\n\u001b[0;32m     34\u001b[0m                 textsize \u001b[38;5;241m=\u001b[39m textsize,\n\u001b[0;32m     35\u001b[0m                 dot_size \u001b[38;5;241m=\u001b[39m s, label_coords \u001b[38;5;241m=\u001b[39m label_coords)\n",
      "File \u001b[1;32md:\\Coding\\Thesis\\FractalDimension\\TimeEmbedding.py:614\u001b[0m, in \u001b[0;36mtime_embedding_v2\u001b[1;34m(data, n, k_p, k_m, gap, backwards, nucsequence, PyPu, sequence_name, classification_name, x_lim, y_lim, exon_outfile, intron_outfile, inter_outfile, *args, **kwargs)\u001b[0m\n\u001b[0;32m    612\u001b[0m \u001b[38;5;28mprint\u001b[39m(\u001b[38;5;28mtype\u001b[39m(e))\n\u001b[0;32m    613\u001b[0m \u001b[38;5;28mprint\u001b[39m(e)\n\u001b[1;32m--> 614\u001b[0m \u001b[38;5;28mprint\u001b[39m(\u001b[43mdata\u001b[49m\u001b[38;5;241;43m.\u001b[39;49m\u001b[43mshape\u001b[49m)\n\u001b[0;32m    615\u001b[0m \u001b[38;5;28mprint\u001b[39m(n)\n\u001b[0;32m    616\u001b[0m exit()\n",
      "\u001b[1;31mAttributeError\u001b[0m: 'dict' object has no attribute 'shape'"
     ]
    }
   ],
   "source": [
    "time_embedding_v2(cwd.parent / \"Data_Files\" / \"Primates\" / \"Genetics\" / \"Homo_sapiens\" / \"Cleaned_Data\" / \"Data_Set_1_frame.pkl\", \n",
    "                n = n, \n",
    "                x_lim = x_lim, y_lim = y_lim, \n",
    "                exon_outfile = cwd / \"TE_Images_ForPaper\" / \"Dict\" / f\"{exon_dict_file}.pkl\",\n",
    "                intron_outfile = cwd / \"TE_Images_ForPaper\" / \"Dict\" / f\"{intron_dict_file}.pkl\")\n",
    "\n",
    "matplotfigure(cwd / \"TE_Images_ForPaper\" / \"Dict\" / f\"{exon_dict_file}.pkl\",\n",
    "                cwd / \"TE_Images_ForPaper\" / \"Exon\",\n",
    "                f\"{exon_png_file}\",\n",
    "                default_title = False,\n",
    "            #   transpose=False,\n",
    "            #   x_lim=x_lim, y_lim=y_lim,\n",
    "                x_title = x_title, y_title = y_title,\n",
    "                border= border,\n",
    "                x_tick_marks=x_ticks, y_tick_marks=y_ticks,\n",
    "                inches = inches,\n",
    "                title = f\"{species} Exon\",\n",
    "                box_fill_arrow = bfa,\n",
    "                textsize = textsize,\n",
    "                dot_size = s, label_coords = label_coords)\n",
    "\n",
    "matplotfigure(cwd / \"TE_Images_ForPaper\" / \"Dict\" / f\"{intron_dict_file}.pkl\",\n",
    "                cwd / \"TE_Images_ForPaper\" / \"Intron\",\n",
    "                f\"{intron_png_file}\",\n",
    "                default_title = False,\n",
    "            #   transpose=False,\n",
    "            #   x_lim=x_lim, y_lim=y_lim,\n",
    "                x_title = x_title, y_title = y_title,\n",
    "                border= border,\n",
    "                x_tick_marks=x_ticks, y_tick_marks=y_ticks,\n",
    "                inches = inches,\n",
    "                title = f\"{species} Intron\",\n",
    "                box_fill_arrow = bfa,\n",
    "                textsize = textsize,\n",
    "                dot_size = s, label_coords = label_coords)"
   ]
  }
 ],
 "metadata": {
  "kernelspec": {
   "display_name": "thesis",
   "language": "python",
   "name": "python3"
  },
  "language_info": {
   "codemirror_mode": {
    "name": "ipython",
    "version": 3
   },
   "file_extension": ".py",
   "mimetype": "text/x-python",
   "name": "python",
   "nbconvert_exporter": "python",
   "pygments_lexer": "ipython3",
   "version": "3.10.8"
  }
 },
 "nbformat": 4,
 "nbformat_minor": 2
}
