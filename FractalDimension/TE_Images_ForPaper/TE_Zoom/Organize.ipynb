{
 "cells": [
  {
   "cell_type": "code",
   "execution_count": 6,
   "metadata": {},
   "outputs": [],
   "source": [
    "import pathlib\n",
    "cwd = pathlib.Path.cwd()\n",
    "import os\n",
    "import shutil"
   ]
  },
  {
   "cell_type": "code",
   "execution_count": 7,
   "metadata": {},
   "outputs": [],
   "source": [
    "def create_dir(directory: pathlib.Path or str):\n",
    "    '''\n",
    "    '''\n",
    "    if isinstance(directory, str):\n",
    "        directory: pathlib.Path = pathlib.Path(directory)\n",
    "\n",
    "    directory.mkdir(parents = True, exist_ok = True)\n"
   ]
  },
  {
   "cell_type": "code",
   "execution_count": 8,
   "metadata": {},
   "outputs": [],
   "source": [
    "def split_xye(file: str):\n",
    "    '''\n",
    "    returns as x, y, extension\n",
    "    '''\n",
    "    split = file.split(\"_\")\n",
    "\n",
    "    return split[1], split[0], split[2]"
   ]
  },
  {
   "cell_type": "code",
   "execution_count": 9,
   "metadata": {},
   "outputs": [],
   "source": [
    "def split_ce(file: str):\n",
    "    '''\n",
    "    returns as classification, extension/suffix\n",
    "    '''\n",
    "    split = file.split(\".\")\n",
    "\n",
    "    return split[0], split[1]"
   ]
  },
  {
   "cell_type": "markdown",
   "metadata": {},
   "source": [
    "Meant to clean up the folder to make it easier to read and find files.\n",
    "\n",
    "Will do it as such: $N_n... N_2 N_1 | N^1 N^2 ... N^n$\n",
    "\n",
    "from x side, folder structure is:\n",
    "$N^1_i$ -> $N^2_j$ -> $N^3_k$ -> ... \n",
    "\n",
    "and files will be named: $N_k N_{k-1} N_{k-2} ... N_1$ _ $N^1 ... N^{k-2} N^{k-1} N^k$.png\n",
    "\n",
    "\n",
    "First, walk through the existing folders and get a list of the file paths."
   ]
  },
  {
   "cell_type": "code",
   "execution_count": 10,
   "metadata": {},
   "outputs": [
    {
     "ename": "",
     "evalue": "",
     "output_type": "error",
     "traceback": [
      "\u001b[1;31mThe Kernel crashed while executing code in the current cell or a previous cell. \n",
      "\u001b[1;31mPlease review the code in the cell(s) to identify a possible cause of the failure. \n",
      "\u001b[1;31mClick <a href='https://aka.ms/vscodeJupyterKernelCrash'>here</a> for more info. \n",
      "\u001b[1;31mView Jupyter <a href='command:jupyter.viewOutput'>log</a> for further details."
     ]
    }
   ],
   "source": [
    "c: str\n",
    "for root, directory, files in os.walk(cwd):\n",
    "    for file in files:\n",
    "        if file.endswith(\".png\"):\n",
    "            x, y, e = split_xye(file)\n",
    "            c, e = split_ce(e)\n",
    "\n",
    "            path = f\"{cwd}\\\\{c.capitalize()}\"\n",
    "            for n in x:\n",
    "                path = f\"{path}\\\\{n}\"\n",
    "            create_dir(path)\n",
    "            path = f\"{path}\\\\{file}\"\n",
    "            try:\n",
    "                shutil.copy(f\"{root}\\\\{file}\", path)\n",
    "                os.remove(f\"{root}\\\\{file}\")\n",
    "            except shutil.SameFileError as e:\n",
    "                continue\n",
    "            except Exception as e:\n",
    "                print(type(e))\n",
    "                continue\n"
   ]
  }
 ],
 "metadata": {
  "kernelspec": {
   "display_name": "thesis",
   "language": "python",
   "name": "python3"
  },
  "language_info": {
   "codemirror_mode": {
    "name": "ipython",
    "version": 3
   },
   "file_extension": ".py",
   "mimetype": "text/x-python",
   "name": "python",
   "nbconvert_exporter": "python",
   "pygments_lexer": "ipython3",
   "version": "3.10.8"
  }
 },
 "nbformat": 4,
 "nbformat_minor": 2
}
