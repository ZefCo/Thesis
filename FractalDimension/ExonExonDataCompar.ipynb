{
 "cells": [
  {
   "cell_type": "code",
   "execution_count": 1,
   "metadata": {},
   "outputs": [],
   "source": [
    "import ExonExonData as eed\n",
    "import pathlib\n",
    "import re\n",
    "cwd = pathlib.Path.cwd()\n",
    "import pandas\n",
    "import pickle\n",
    "from Heatmaps import heatmapv2 as heatmap\n",
    "from Heatmaps import _undigitize_seq as undigit\n",
    "from TimeEmbedding import time_embedding as te\n",
    "from ExonExonData import gen_plot"
   ]
  },
  {
   "cell_type": "code",
   "execution_count": 2,
   "metadata": {},
   "outputs": [],
   "source": [
    "expected_data = cwd.parent / \"Data_Files\"/ \"Fusion_AllConfidence.pkl\"\n",
    "expected_data: pandas.DataFrame = pandas.read_pickle(expected_data)\n",
    "\n",
    "# ut_data = cwd.parent / \"Data_Files\"/ \"UTData_fs.csv\"\n",
    "# ut_data: pandas.DataFrame = pandas.read_csv(ut_data)"
   ]
  },
  {
   "cell_type": "code",
   "execution_count": 9,
   "metadata": {},
   "outputs": [
    {
     "name": "stdout",
     "output_type": "stream",
     "text": [
      "['CDS/splice-site', 'exon/splice-site', 'intron', \"3'UTR\", 'CDS', \"5'UTR/splice-site\", 'exon', \"3'UTR/splice-site\", 'intergenic', \"5'UTR\", 'UTR/splice-site']\n",
      "['intergenic', 'CDS/splice-site', 'CDS', 'intron', 'exon/splice-site', 'exon', \"5'UTR/splice-site\", \"3'UTR/splice-site\", \"5'UTR\", \"3'UTR\"]\n"
     ]
    }
   ],
   "source": [
    "# print(expected_data.columns)\n",
    "expected_data[\"site1\"] = expected_data[\"site1\"].astype(\"category\")\n",
    "expected_data[\"site2\"] = expected_data[\"site2\"].astype(\"category\")\n",
    "\n",
    "print(list(expected_data[\"site1\"].unique()))\n",
    "print(list(expected_data[\"site2\"].unique()))\n",
    "\n",
    "# narrow down to just CDS\n"
   ]
  },
  {
   "cell_type": "code",
   "execution_count": 4,
   "metadata": {},
   "outputs": [
    {
     "name": "stdout",
     "output_type": "stream",
     "text": [
      "             Henst            Tenst DataType Source Ctype  Hgene  Hchr  \\\n",
      "0  ENST00000370243  ENST00000370225     TCGA     RV  UCEC  BCAR3  chr1   \n",
      "1  ENST00000370247  ENST00000370225     TCGA     RV  UCEC  BCAR3  chr1   \n",
      "2  ENST00000379446  ENST00000340645     TCGA     RV  UCEC  NEDD9  chr6   \n",
      "3  ENST00000379446  ENST00000393667     TCGA     RV  UCEC  NEDD9  chr6   \n",
      "4  ENST00000379433  ENST00000340645     TCGA     RV  UCEC  NEDD9  chr6   \n",
      "\n",
      "          Hbp Hstrand   Tgene  Tchr          Tbp Tstrand  BreakPoint  \\\n",
      "0  94054534.0       -   ABCA4  chr1   94495187.0       -      1204.0   \n",
      "1  94054534.0       -   ABCA4  chr1   94495187.0       -       823.0   \n",
      "2  11213514.0       -  GOLGB1  chr3  121388202.0       -       626.0   \n",
      "3  11213514.0       -  GOLGB1  chr3  121388202.0       -       626.0   \n",
      "4  11213514.0       -  GOLGB1  chr3  121388202.0       -       602.0   \n",
      "\n",
      "                                                 Seq  \\\n",
      "0  GAGCGCGCTGGGACTCCCCGAGACGTGGCCCACGGCGGGGAGCGCT...   \n",
      "1  AGACTAGCCTGGGAGAAGGAGCCGACTCACTCCCCCGGCTGCCGAC...   \n",
      "2  ACAACAGTGAGCTCAGAGACTTGAGGGAGGCGCTGCGACTGACAAG...   \n",
      "3  ACAACAGTGAGCTCAGAGACTTGAGGGAGGCGCTGCGACTGACAAG...   \n",
      "4  GGGAGGCGCTGCGACTGACAAGCGGCTCTGCCCGGGACCTTCTCGC...   \n",
      "\n",
      "                                                Hseq  \\\n",
      "0  GAGCGCGCTGGGACTCCCCGAGACGTGGCCCACGGCGGGGAGCGCT...   \n",
      "1  AGACTAGCCTGGGAGAAGGAGCCGACTCACTCCCCCGGCTGCCGAC...   \n",
      "2  ACAACAGTGAGCTCAGAGACTTGAGGGAGGCGCTGCGACTGACAAG...   \n",
      "3  ACAACAGTGAGCTCAGAGACTTGAGGGAGGCGCTGCGACTGACAAG...   \n",
      "4  GGGAGGCGCTGCGACTGACAAGCGGCTCTGCCCGGGACCTTCTCGC...   \n",
      "\n",
      "                                                Tseq  Length  \\\n",
      "0  GGAGTACCCCTGTGGCAACTCAACACCCTGGAAGACTCCTTCTGTG...  4074.0   \n",
      "1  GGAGTACCCCTGTGGCAACTCAACACCCTGGAAGACTCCTTCTGTG...  3693.0   \n",
      "2  TTCTCTCAGCTACTGGAAGAGAAAAACACCCTTTCCATTCAGCTCT...  2525.0   \n",
      "3  TTCTCTCAGCTACTGGAAGAGAAAAACACCCTTTCCATTCAGCTCT...  2536.0   \n",
      "4  TTCTCTCAGCTACTGGAAGAGAAAAACACCCTTTCCATTCAGCTCT...  2501.0   \n",
      "\n",
      "            Unnamed: 18           Unnamed: 19  \n",
      "0  CCCAGGGGAAACCTCCTCAG  GGAGTACCCCTGTGGCAACT  \n",
      "1  CCCAGGGGAAACCTCCTCAG  GGAGTACCCCTGTGGCAACT  \n",
      "2  GGCCCCACGTGGGTAAAAAG  TTCTCTCAGCTACTGGAAGA  \n",
      "3  GGCCCCACGTGGGTAAAAAG  TTCTCTCAGCTACTGGAAGA  \n",
      "4  GGCCCCACGTGGGTAAAAAG  TTCTCTCAGCTACTGGAAGA  \n"
     ]
    }
   ],
   "source": [
    "print(ut_data.head())\n"
   ]
  },
  {
   "cell_type": "code",
   "execution_count": 5,
   "metadata": {},
   "outputs": [
    {
     "name": "stdout",
     "output_type": "stream",
     "text": [
      "['CANCER TYPE', 'Shipment Number', 'XS_MODEL', '#gene1', 'gene2', 'strand1(gene/fusion)', 'strand2(gene/fusion)', 'breakpoint1', 'breakpoint2', 'site1', 'site2', 'type', 'split_reads1', 'split_reads2', 'discordant_mates', 'coverage1', 'coverage2', 'confidence', 'reading_frame', 'tags', 'retained_protein_domains', 'closest_genomic_breakpoint1', 'closest_genomic_breakpoint2', 'gene_id1', 'gene_id2', 'transcript_id1', 'transcript_id2', 'direction1', 'direction2', 'filters', 'fusion_transcript', 'peptide_sequence', 'read_identifiers', 'Tail', 'Head']\n"
     ]
    }
   ],
   "source": [
    "print(list(expected_data.columns))"
   ]
  },
  {
   "cell_type": "code",
   "execution_count": 6,
   "metadata": {},
   "outputs": [
    {
     "name": "stdout",
     "output_type": "stream",
     "text": [
      "['Henst', 'Tenst', 'DataType', 'Source', 'Ctype', 'Hgene', 'Hchr', 'Hbp', 'Hstrand', 'Tgene', 'Tchr', 'Tbp', 'Tstrand', 'BreakPoint', 'Seq', 'Hseq', 'Tseq', 'Length', 'Unnamed: 18', 'Unnamed: 19']\n"
     ]
    }
   ],
   "source": [
    "print(list(ut_data.columns))"
   ]
  },
  {
   "cell_type": "code",
   "execution_count": 7,
   "metadata": {},
   "outputs": [
    {
     "name": "stdout",
     "output_type": "stream",
     "text": [
      "['Henst', 'Tenst', 'DataType', 'Source', 'Ctype', 'Hgene', 'Hchr', 'Hbp', 'Hstrand', 'Tgene', 'Tchr', 'Tbp', 'Tstrand', 'BreakPoint', 'Seq', 'Head', 'Tail', 'Length', 'Unnamed: 18', 'Unnamed: 19']\n"
     ]
    }
   ],
   "source": [
    "ut_data = ut_data.rename(columns = {\"Hseq\": \"Head\", \"Tseq\": \"Tail\"})\n",
    "print(list(ut_data.columns))\n",
    "\n",
    "ut_data.to_pickle(cwd.parent / \"Data_Files\"/ \"UTData_fs.pkl\")"
   ]
  }
 ],
 "metadata": {
  "kernelspec": {
   "display_name": "thesis",
   "language": "python",
   "name": "python3"
  },
  "language_info": {
   "codemirror_mode": {
    "name": "ipython",
    "version": 3
   },
   "file_extension": ".py",
   "mimetype": "text/x-python",
   "name": "python",
   "nbconvert_exporter": "python",
   "pygments_lexer": "ipython3",
   "version": "3.10.8"
  }
 },
 "nbformat": 4,
 "nbformat_minor": 2
}
