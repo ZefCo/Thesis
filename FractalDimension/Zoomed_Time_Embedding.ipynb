{
 "cells": [
  {
   "cell_type": "code",
   "execution_count": 1,
   "metadata": {},
   "outputs": [],
   "source": [
    "import ExonExonData as eed\n",
    "import pathlib\n",
    "cwd = pathlib.Path.cwd()\n",
    "import pandas\n",
    "import pickle\n",
    "from Heatmaps import heatmapv2 as heatmap\n",
    "from Heatmaps import _undigitize_seq as undigit\n",
    "from TimeEmbedding import time_embedding_1D as te_1d\n",
    "from ExonExonPlots import plots_v2\n",
    "from TimeEmbedding import time_embedding_v2\n",
    "from TimeEmbedding import matplotfigure"
   ]
  },
  {
   "cell_type": "code",
   "execution_count": 2,
   "metadata": {},
   "outputs": [],
   "source": [
    "def limit(data: dict, x_lim: list, y_lim: list):\n",
    "    '''\n",
    "    Takes in the dict. This will limit the xy cords.\n",
    "    The reason for doing this: instead of doing a limit on the same data set 16 times (for a total of 96 minutes)\n",
    "    I can do it once then filter the data as needed each time.\n",
    "    '''\n",
    "    filtered_data = {}\n",
    "    for key, xy in data.items():\n",
    "        xy = xy[(x_lim[1] >= xy[:, 0]) & (xy[:, 0] >= x_lim[0])]\n",
    "        xy = xy[(y_lim[1] >= xy[:, 1]) & (xy[:, 1] >= y_lim[0])]\n",
    "\n",
    "        filtered_data[key] = xy\n",
    "\n",
    "    return filtered_data\n"
   ]
  },
  {
   "cell_type": "code",
   "execution_count": 23,
   "metadata": {},
   "outputs": [],
   "source": [
    "create_dir = lambda x: x.parent.mkdir(parents = True, exist_ok = True)\n",
    "master_data_file = cwd.parent / \"Data_Files\" / \"Primates\" / \"Genetics\" / \"Homo_sapiens\" / \"Cleaned_Data\" / \"Data_Set_C_frame.pkl\"\n",
    "e_data_file = cwd.parent / \"Data_Files\" / \"Primates\" / \"Homo_sapiens\" / \"EI_Data\" / \"E_Data_dict.pkl\"\n",
    "i_data_file = cwd.parent / \"Data_Files\" / \"Primates\" / \"Homo_sapiens\" / \"EI_Data\" / \"I_Data_dict.pkl\"\n",
    "e_data_file.parent.mkdir(parents = True, exist_ok = True)\n",
    "kmer = 6\n",
    "\n",
    "# ant_post_box -> [[x0, x1], [y0, y1]]\n",
    "aa_box = [[0.0, 0.25], [0.0, 0.25]]\n",
    "aa_eof = cwd / \"TE_Images_ForPaper\" / \"TE_Zoom\" / \"Exon\" / \"at_exon.png\"\n",
    "create_dir(aa_eof)\n",
    "aa_iof = cwd / \"TE_Images_ForPaper\" / \"TE_Zoom\" / \"Intron\" / \"AA_intron.png\"\n",
    "create_dir(aa_iof)\n",
    "\n",
    "ag_box = [[0.0, 0.25], [0.25, 0.5]]\n",
    "ag_eof = cwd / \"TE_Images_ForPaper\" / \"TE_Zoom\" / \"Exon\" / \"AG_exon.png\"\n",
    "create_dir(ag_eof)\n",
    "ag_iof = cwd / \"TE_Images_ForPaper\" / \"TE_Zoom\" / \"Intron\" / \"AG_intron.png\"\n",
    "create_dir(ag_iof)\n",
    "\n",
    "at_box = [[0.0, 0.25], [0.5, 0.75]]\n",
    "at_eof = cwd / \"TE_Images_ForPaper\" / \"TE_Zoom\" / \"Exon\" / \"AT_exon.png\"\n",
    "create_dir(at_eof)\n",
    "at_iof = cwd / \"TE_Images_ForPaper\" / \"TE_Zoom\" / \"Intron\" / \"AT_intron.png\"\n",
    "create_dir(at_iof)\n",
    "\n",
    "ac_box = [[0.0, 0.25], [0.75, 1.0]]\n",
    "ac_eof = cwd / \"TE_Images_ForPaper\" / \"TE_Zoom\" / \"Exon\" / \"AC_exon.png\"\n",
    "create_dir(ac_eof)\n",
    "ac_iof = cwd / \"TE_Images_ForPaper\" / \"TE_Zoom\" / \"Intron\" / \"AC_intron.png\"\n",
    "create_dir(ac_iof)\n",
    "\n",
    "ga_box = [[0.25, 0.5], [0.0, 0.25]]\n",
    "ga_eof = cwd / \"TE_Images_ForPaper\" / \"TE_Zoom\" / \"Exon\" / \"GA_exon.png\"\n",
    "create_dir(ga_eof)\n",
    "ga_iof = cwd / \"TE_Images_ForPaper\" / \"TE_Zoom\" / \"Intron\" / \"GA_intron.png\"\n",
    "create_dir(ga_iof)\n",
    "\n",
    "gg_box = [[0.25, 0.5], [0.25, 0.5]]\n",
    "gg_eof = cwd / \"TE_Images_ForPaper\" / \"TE_Zoom\" / \"Exon\" / \"GG_exon.png\"\n",
    "create_dir(gg_eof)\n",
    "gg_iof = cwd / \"TE_Images_ForPaper\" / \"TE_Zoom\" / \"Intron\" / \"GG_intron.png\"\n",
    "create_dir(gg_iof)\n",
    "\n",
    "gt_box = [[0.25, 0.5], [0.5, 0.75]]\n",
    "gt_eof = cwd / \"TE_Images_ForPaper\" / \"TE_Zoom\" / \"Exon\" / \"GT_exon.png\"\n",
    "create_dir(gt_eof)\n",
    "gt_iof = cwd / \"TE_Images_ForPaper\" / \"TE_Zoom\" / \"Intron\" / \"GT_intron.png\"\n",
    "create_dir(gt_iof)\n",
    "\n",
    "gc_box = [[0.25, 0.5], [0.75, 1.0]]\n",
    "gc_eof = cwd / \"TE_Images_ForPaper\" / \"TE_Zoom\" / \"Exon\" / \"GC_exon.png\"\n",
    "create_dir(gc_eof)\n",
    "gc_iof = cwd / \"TE_Images_ForPaper\" / \"TE_Zoom\" / \"Intron\" / \"GC_intron.png\"\n",
    "create_dir(gc_iof)\n",
    "\n",
    "\n",
    "ta_box = [[0.5, 0.75], [0.0, 0.25]]\n",
    "ta_eof = cwd / \"TE_Images_ForPaper\" / \"TE_Zoom\" / \"Exon\" / \"TA_exon.png\"\n",
    "create_dir(ta_eof)\n",
    "ta_iof = cwd / \"TE_Images_ForPaper\" / \"TE_Zoom\" / \"Intron\" / \"TA_intron.png\"\n",
    "create_dir(ta_iof)\n",
    "\n",
    "tg_box = [[0.5, 0.75], [0.25, 0.5]]\n",
    "tg_eof = cwd / \"TE_Images_ForPaper\" / \"TE_Zoom\" / \"Exon\" / \"TG_exon.png\"\n",
    "create_dir(tg_eof)\n",
    "tg_iof = cwd / \"TE_Images_ForPaper\" / \"TE_Zoom\" / \"Intron\" / \"TG_intron.png\"\n",
    "create_dir(tg_iof)\n",
    "\n",
    "tt_box = [[0.5, 0.75], [0.5, 0.75]]\n",
    "tt_eof = cwd / \"TE_Images_ForPaper\" / \"TE_Zoom\" / \"Exon\" / \"TT_exon.png\"\n",
    "create_dir(tt_eof)\n",
    "tt_iof = cwd / \"TE_Images_ForPaper\" / \"TE_Zoom\" / \"Intron\" / \"TT_intron.png\"\n",
    "create_dir(tt_iof)\n",
    "\n",
    "tc_box = [[0.5, 0.75], [0.75, 1.0]]\n",
    "tc_eof = cwd / \"TE_Images_ForPaper\" / \"TE_Zoom\" / \"Exon\" / \"TC_exon.png\"\n",
    "create_dir(tc_eof)\n",
    "tc_iof = cwd / \"TE_Images_ForPaper\" / \"TE_Zoom\" / \"Intron\" / \"TC_intron.png\"\n",
    "create_dir(tc_iof)\n",
    "\n",
    "ca_box = [[0.75, 1.0], [0.0, 0.25]]\n",
    "ca_eof = cwd / \"TE_Images_ForPaper\" / \"TE_Zoom\" / \"Exon\" / \"CA_exon.png\"\n",
    "create_dir(ca_eof)\n",
    "ca_iof = cwd / \"TE_Images_ForPaper\" / \"TE_Zoom\" / \"Intron\" / \"CA_intron.png\"\n",
    "create_dir(ca_iof)\n",
    "\n",
    "cg_box = [[0.75, 1.0], [0.25, 0.5]]\n",
    "cg_eof = cwd / \"TE_Images_ForPaper\" / \"TE_Zoom\" / \"Exon\" / \"CG_exon.png\"\n",
    "create_dir(cg_eof)\n",
    "cg_iof = cwd / \"TE_Images_ForPaper\" / \"TE_Zoom\" / \"Intron\" / \"CG_intron.png\"\n",
    "create_dir(cg_iof)\n",
    "\n",
    "ct_box = [[0.75, 1.0], [0.5, 0.75]]\n",
    "ct_eof = cwd / \"TE_Images_ForPaper\" / \"TE_Zoom\" / \"Exon\" / \"CT_exon.png\"\n",
    "create_dir(ct_eof)\n",
    "ct_iof = cwd / \"TE_Images_ForPaper\" / \"TE_Zoom\" / \"Intron\" / \"CT_intron.png\"\n",
    "create_dir(ct_iof)\n",
    "\n",
    "cc_box = [[0.75, 1.0], [0.75, 1.0]]\n",
    "cc_eof = cwd / \"TE_Images_ForPaper\" / \"TE_Zoom\" / \"Exon\" / \"CC_exon.png\"\n",
    "create_dir(cc_eof)\n",
    "cc_iof = cwd / \"TE_Images_ForPaper\" / \"TE_Zoom\" / \"Intron\" / \"CC_intron.png\"\n",
    "create_dir(cc_iof)\n"
   ]
  },
  {
   "cell_type": "code",
   "execution_count": 4,
   "metadata": {},
   "outputs": [],
   "source": [
    "master_data: pandas.DataFrame = pandas.read_pickle(master_data_file)"
   ]
  },
  {
   "cell_type": "code",
   "execution_count": 5,
   "metadata": {},
   "outputs": [
    {
     "data": {
      "text/html": [
       "<div>\n",
       "<style scoped>\n",
       "    .dataframe tbody tr th:only-of-type {\n",
       "        vertical-align: middle;\n",
       "    }\n",
       "\n",
       "    .dataframe tbody tr th {\n",
       "        vertical-align: top;\n",
       "    }\n",
       "\n",
       "    .dataframe thead th {\n",
       "        text-align: right;\n",
       "    }\n",
       "</style>\n",
       "<table border=\"1\" class=\"dataframe\">\n",
       "  <thead>\n",
       "    <tr style=\"text-align: right;\">\n",
       "      <th></th>\n",
       "      <th>index</th>\n",
       "      <th>NCIBName</th>\n",
       "      <th>Classificaion</th>\n",
       "      <th>Seq</th>\n",
       "    </tr>\n",
       "  </thead>\n",
       "  <tbody>\n",
       "    <tr>\n",
       "      <th>0</th>\n",
       "      <td>0</td>\n",
       "      <td>NM_001375617.1</td>\n",
       "      <td>exon</td>\n",
       "      <td>GTCAGTGTGGAGGAGACTGAG</td>\n",
       "    </tr>\n",
       "    <tr>\n",
       "      <th>1</th>\n",
       "      <td>1</td>\n",
       "      <td>NM_001375617.1</td>\n",
       "      <td>exon</td>\n",
       "      <td>TATTCTACCTTGTAAATACTGTTATTTGTATATACTGTAAATGATG...</td>\n",
       "    </tr>\n",
       "    <tr>\n",
       "      <th>2</th>\n",
       "      <td>2</td>\n",
       "      <td>NM_001375617.1</td>\n",
       "      <td>exon</td>\n",
       "      <td>GCCACTGCAGAACAAATTAGACTTGCACAGATGATTTCGGACCATA...</td>\n",
       "    </tr>\n",
       "    <tr>\n",
       "      <th>3</th>\n",
       "      <td>3</td>\n",
       "      <td>NM_001375617.1</td>\n",
       "      <td>exon</td>\n",
       "      <td>TTGATTGATATTACAGGCAAGAACCAGGATGAATGTGTGATTGCTT...</td>\n",
       "    </tr>\n",
       "    <tr>\n",
       "      <th>4</th>\n",
       "      <td>4</td>\n",
       "      <td>NM_001375617.1</td>\n",
       "      <td>exon</td>\n",
       "      <td>CATTCCTGGGAGATGGTCGGGAAGAAGAAGGGAGTCTCAGGCCAGA...</td>\n",
       "    </tr>\n",
       "  </tbody>\n",
       "</table>\n",
       "</div>"
      ],
      "text/plain": [
       "   index        NCIBName Classificaion  \\\n",
       "0      0  NM_001375617.1          exon   \n",
       "1      1  NM_001375617.1          exon   \n",
       "2      2  NM_001375617.1          exon   \n",
       "3      3  NM_001375617.1          exon   \n",
       "4      4  NM_001375617.1          exon   \n",
       "\n",
       "                                                 Seq  \n",
       "0                              GTCAGTGTGGAGGAGACTGAG  \n",
       "1  TATTCTACCTTGTAAATACTGTTATTTGTATATACTGTAAATGATG...  \n",
       "2  GCCACTGCAGAACAAATTAGACTTGCACAGATGATTTCGGACCATA...  \n",
       "3  TTGATTGATATTACAGGCAAGAACCAGGATGAATGTGTGATTGCTT...  \n",
       "4  CATTCCTGGGAGATGGTCGGGAAGAAGAAGGGAGTCTCAGGCCAGA...  "
      ]
     },
     "execution_count": 5,
     "metadata": {},
     "output_type": "execute_result"
    }
   ],
   "source": [
    "master_data.head()"
   ]
  },
  {
   "cell_type": "code",
   "execution_count": 6,
   "metadata": {},
   "outputs": [
    {
     "name": "stdout",
     "output_type": "stream",
     "text": [
      "Index(['level_0', 'index', 'NCIBName', 'Classificaion', 'Seq'], dtype='object')\n",
      "Finished row 0 of 50000\n",
      "<class 'KeyError'>\n",
      "758\n",
      "758\n",
      "Finished row 1000 of 50000\n",
      "Finished row 2000 of 50000\n",
      "Finished row 3000 of 50000\n",
      "Finished row 4000 of 50000\n",
      "Finished row 5000 of 50000\n",
      "Finished row 6000 of 50000\n",
      "Finished row 7000 of 50000\n",
      "Finished row 8000 of 50000\n",
      "Finished row 9000 of 50000\n",
      "<class 'KeyError'>\n",
      "9361\n",
      "9361\n",
      "Finished row 10000 of 50000\n",
      "<class 'KeyError'>\n",
      "10489\n",
      "10489\n",
      "Finished row 11000 of 50000\n",
      "Finished row 12000 of 50000\n",
      "<class 'KeyError'>\n",
      "12628\n",
      "12628\n",
      "Finished row 13000 of 50000\n",
      "Finished row 14000 of 50000\n",
      "Finished row 15000 of 50000\n",
      "Finished row 16000 of 50000\n",
      "<class 'KeyError'>\n",
      "16627\n",
      "16627\n",
      "Finished row 17000 of 50000\n",
      "Finished row 18000 of 50000\n",
      "<class 'KeyError'>\n",
      "18626\n",
      "18626\n",
      "Finished row 19000 of 50000\n",
      "Finished row 20000 of 50000\n",
      "<class 'KeyError'>\n",
      "20389\n",
      "20389\n",
      "Finished row 21000 of 50000\n",
      "<class 'KeyError'>\n",
      "21389\n",
      "21389\n",
      "<class 'KeyError'>\n",
      "21432\n",
      "21432\n",
      "Finished row 22000 of 50000\n",
      "Finished row 23000 of 50000\n",
      "Finished row 24000 of 50000\n",
      "Finished row 25000 of 50000\n",
      "<class 'KeyError'>\n",
      "25388\n",
      "25388\n",
      "Finished row 26000 of 50000\n",
      "Finished row 27000 of 50000\n",
      "Finished row 28000 of 50000\n",
      "<class 'KeyError'>\n",
      "28416\n",
      "28416\n",
      "Finished row 29000 of 50000\n",
      "<class 'KeyError'>\n",
      "29930\n",
      "29930\n",
      "<class 'KeyError'>\n",
      "30000\n",
      "30000\n",
      "<class 'KeyError'>\n",
      "30862\n",
      "30862\n",
      "Finished row 31000 of 50000\n",
      "Finished row 32000 of 50000\n",
      "<class 'KeyError'>\n",
      "32028\n",
      "32028\n",
      "<class 'KeyError'>\n",
      "32626\n",
      "32626\n",
      "Finished row 33000 of 50000\n",
      "<class 'KeyError'>\n",
      "33995\n",
      "33995\n",
      "Finished row 34000 of 50000\n",
      "Finished row 35000 of 50000\n",
      "Finished row 36000 of 50000\n",
      "Finished row 37000 of 50000\n",
      "<class 'KeyError'>\n",
      "37035\n",
      "37035\n",
      "Finished row 38000 of 50000\n",
      "Finished row 39000 of 50000\n",
      "Finished row 40000 of 50000\n",
      "Finished row 41000 of 50000\n",
      "Finished row 42000 of 50000\n",
      "<class 'KeyError'>\n",
      "42166\n",
      "42166\n",
      "<class 'KeyError'>\n",
      "43000\n",
      "43000\n",
      "Finished row 44000 of 50000\n",
      "Finished row 45000 of 50000\n",
      "<class 'KeyError'>\n",
      "45209\n",
      "45209\n",
      "Finished row 46000 of 50000\n",
      "<class 'KeyError'>\n",
      "46901\n",
      "46901\n",
      "Finished row 47000 of 50000\n",
      "Finished row 48000 of 50000\n",
      "Finished row 49000 of 50000\n",
      "<class 'dict'> <class 'dict'> <class 'dict'>\n"
     ]
    }
   ],
   "source": [
    "n = 50_000\n",
    "e_frame, i_frame, _ = time_embedding_v2(master_data, n, k_p = kmer, k_m = kmer,\n",
    "                                        return_file = True)"
   ]
  },
  {
   "cell_type": "code",
   "execution_count": 25,
   "metadata": {},
   "outputs": [],
   "source": [
    "with open(e_data_file, \"wb\") as file:\n",
    "    pickle.dump(e_frame, file)\n",
    "\n",
    "with open(i_data_file, \"wb\") as file:\n",
    "    pickle.dump(i_frame, file)"
   ]
  },
  {
   "cell_type": "markdown",
   "metadata": {},
   "source": [
    "AA Box"
   ]
  },
  {
   "cell_type": "code",
   "execution_count": 7,
   "metadata": {},
   "outputs": [
    {
     "name": "stdout",
     "output_type": "stream",
     "text": [
      "Output image to d:\\Coding\\Thesis\\FractalDimension\\TE_Images_ForPaper\\TE_Zoom\\Exon\\at_exon.png\n",
      "Output image to d:\\Coding\\Thesis\\FractalDimension\\TE_Images_ForPaper\\TE_Zoom\\Intron\\AA_intron.png\n"
     ]
    }
   ],
   "source": [
    "aa_eframe = limit(e_frame, aa_box[0], aa_box[1])\n",
    "aa_iframe = limit(i_frame, aa_box[0], aa_box[1])\n",
    "matplotfigure(aa_eframe, dir = aa_eof.parent, file_name = aa_eof.name)\n",
    "matplotfigure(aa_iframe, dir = aa_iof.parent, file_name = aa_iof.name)"
   ]
  },
  {
   "cell_type": "markdown",
   "metadata": {},
   "source": [
    "AG Box"
   ]
  },
  {
   "cell_type": "code",
   "execution_count": 8,
   "metadata": {},
   "outputs": [
    {
     "name": "stdout",
     "output_type": "stream",
     "text": [
      "Output image to d:\\Coding\\Thesis\\FractalDimension\\TE_Images_ForPaper\\TE_Zoom\\Exon\\AG_exon.png\n",
      "Output image to d:\\Coding\\Thesis\\FractalDimension\\TE_Images_ForPaper\\TE_Zoom\\Intron\\AG_intron.png\n"
     ]
    }
   ],
   "source": [
    "ag_eframe = limit(e_frame, ag_box[0], ag_box[1])\n",
    "ag_iframe = limit(i_frame, ag_box[0], ag_box[1])\n",
    "matplotfigure(ag_eframe, dir = ag_eof.parent, file_name = ag_eof.name)\n",
    "matplotfigure(ag_iframe, dir = ag_iof.parent, file_name = ag_iof.name)"
   ]
  },
  {
   "cell_type": "markdown",
   "metadata": {},
   "source": [
    "AT Box"
   ]
  },
  {
   "cell_type": "code",
   "execution_count": 9,
   "metadata": {},
   "outputs": [
    {
     "name": "stdout",
     "output_type": "stream",
     "text": [
      "Output image to d:\\Coding\\Thesis\\FractalDimension\\TE_Images_ForPaper\\TE_Zoom\\Exon\\AT_exon.png\n",
      "Output image to d:\\Coding\\Thesis\\FractalDimension\\TE_Images_ForPaper\\TE_Zoom\\Intron\\AT_intron.png\n"
     ]
    }
   ],
   "source": [
    "at_eframe = limit(e_frame, at_box[0], at_box[1])\n",
    "at_iframe = limit(i_frame, at_box[0], at_box[1])\n",
    "matplotfigure(at_eframe, dir = at_eof.parent, file_name = at_eof.name)\n",
    "matplotfigure(at_iframe, dir = at_iof.parent, file_name = at_iof.name)"
   ]
  },
  {
   "cell_type": "markdown",
   "metadata": {},
   "source": [
    "AC Box"
   ]
  },
  {
   "cell_type": "code",
   "execution_count": 10,
   "metadata": {},
   "outputs": [
    {
     "name": "stdout",
     "output_type": "stream",
     "text": [
      "Output image to d:\\Coding\\Thesis\\FractalDimension\\TE_Images_ForPaper\\TE_Zoom\\Exon\\AC_exon.png\n",
      "Output image to d:\\Coding\\Thesis\\FractalDimension\\TE_Images_ForPaper\\TE_Zoom\\Intron\\AC_intron.png\n"
     ]
    }
   ],
   "source": [
    "ac_eframe = limit(e_frame, ac_box[0], ac_box[1])\n",
    "ac_iframe = limit(i_frame, ac_box[0], ac_box[1])\n",
    "matplotfigure(ac_eframe, dir = ac_eof.parent, file_name = ac_eof.name)\n",
    "matplotfigure(ac_iframe, dir = ac_iof.parent, file_name = ac_iof.name)"
   ]
  },
  {
   "cell_type": "markdown",
   "metadata": {},
   "source": [
    "GA Box"
   ]
  },
  {
   "cell_type": "code",
   "execution_count": 11,
   "metadata": {},
   "outputs": [
    {
     "name": "stdout",
     "output_type": "stream",
     "text": [
      "Output image to d:\\Coding\\Thesis\\FractalDimension\\TE_Images_ForPaper\\TE_Zoom\\Exon\\GA_exon.png\n",
      "Output image to d:\\Coding\\Thesis\\FractalDimension\\TE_Images_ForPaper\\TE_Zoom\\Intron\\GA_intron.png\n"
     ]
    }
   ],
   "source": [
    "ga_eframe = limit(e_frame, ga_box[0], ga_box[1])\n",
    "ga_iframe = limit(i_frame, ga_box[0], ga_box[1])\n",
    "matplotfigure(ga_eframe, dir = ga_eof.parent, file_name = ga_eof.name)\n",
    "matplotfigure(ga_iframe, dir = ga_iof.parent, file_name = ga_iof.name)"
   ]
  },
  {
   "cell_type": "markdown",
   "metadata": {},
   "source": [
    "GG Box"
   ]
  },
  {
   "cell_type": "code",
   "execution_count": 12,
   "metadata": {},
   "outputs": [
    {
     "name": "stdout",
     "output_type": "stream",
     "text": [
      "Output image to d:\\Coding\\Thesis\\FractalDimension\\TE_Images_ForPaper\\TE_Zoom\\Exon\\GG_exon.png\n",
      "Output image to d:\\Coding\\Thesis\\FractalDimension\\TE_Images_ForPaper\\TE_Zoom\\Intron\\GG_intron.png\n"
     ]
    }
   ],
   "source": [
    "gg_eframe = limit(e_frame, gg_box[0], gg_box[1])\n",
    "gg_iframe = limit(i_frame, gg_box[0], gg_box[1])\n",
    "matplotfigure(gg_eframe, dir = gg_eof.parent, file_name = gg_eof.name)\n",
    "matplotfigure(gg_iframe, dir = gg_iof.parent, file_name = gg_iof.name)"
   ]
  },
  {
   "cell_type": "markdown",
   "metadata": {},
   "source": [
    "GC Box"
   ]
  },
  {
   "cell_type": "code",
   "execution_count": 26,
   "metadata": {},
   "outputs": [
    {
     "name": "stdout",
     "output_type": "stream",
     "text": [
      "Output image to d:\\Coding\\Thesis\\FractalDimension\\TE_Images_ForPaper\\TE_Zoom\\Exon\\GC_exon.png\n",
      "Output image to d:\\Coding\\Thesis\\FractalDimension\\TE_Images_ForPaper\\TE_Zoom\\Intron\\GC_intron.png\n"
     ]
    }
   ],
   "source": [
    "gc_eframe = limit(e_frame, gc_box[0], gc_box[1])\n",
    "gc_iframe = limit(i_frame, gc_box[0], gc_box[1])\n",
    "matplotfigure(gc_eframe, dir = gc_eof.parent, file_name = gc_eof.name)\n",
    "matplotfigure(gc_iframe, dir = gc_iof.parent, file_name = gc_iof.name)"
   ]
  },
  {
   "cell_type": "markdown",
   "metadata": {},
   "source": [
    "TA Box"
   ]
  },
  {
   "cell_type": "code",
   "execution_count": 27,
   "metadata": {},
   "outputs": [
    {
     "name": "stdout",
     "output_type": "stream",
     "text": [
      "Output image to d:\\Coding\\Thesis\\FractalDimension\\TE_Images_ForPaper\\TE_Zoom\\Exon\\TA_exon.png\n",
      "Output image to d:\\Coding\\Thesis\\FractalDimension\\TE_Images_ForPaper\\TE_Zoom\\Intron\\TA_intron.png\n"
     ]
    }
   ],
   "source": [
    "ta_eframe = limit(e_frame, ta_box[0], ta_box[1])\n",
    "ta_iframe = limit(i_frame, ta_box[0], ta_box[1])\n",
    "matplotfigure(ta_eframe, dir = ta_eof.parent, file_name = ta_eof.name)\n",
    "matplotfigure(ta_iframe, dir = ta_iof.parent, file_name = ta_iof.name)"
   ]
  },
  {
   "cell_type": "markdown",
   "metadata": {},
   "source": [
    "TG Box"
   ]
  },
  {
   "cell_type": "code",
   "execution_count": 28,
   "metadata": {},
   "outputs": [
    {
     "name": "stdout",
     "output_type": "stream",
     "text": [
      "Output image to d:\\Coding\\Thesis\\FractalDimension\\TE_Images_ForPaper\\TE_Zoom\\Exon\\TG_exon.png\n",
      "Output image to d:\\Coding\\Thesis\\FractalDimension\\TE_Images_ForPaper\\TE_Zoom\\Intron\\TG_intron.png\n"
     ]
    }
   ],
   "source": [
    "tg_eframe = limit(e_frame, tg_box[0], tg_box[1])\n",
    "tg_iframe = limit(i_frame, tg_box[0], tg_box[1])\n",
    "matplotfigure(tg_eframe, dir = tg_eof.parent, file_name = tg_eof.name)\n",
    "matplotfigure(tg_iframe, dir = tg_iof.parent, file_name = tg_iof.name)"
   ]
  },
  {
   "cell_type": "markdown",
   "metadata": {},
   "source": [
    "TT Bos"
   ]
  },
  {
   "cell_type": "code",
   "execution_count": 29,
   "metadata": {},
   "outputs": [
    {
     "name": "stdout",
     "output_type": "stream",
     "text": [
      "Output image to d:\\Coding\\Thesis\\FractalDimension\\TE_Images_ForPaper\\TE_Zoom\\Exon\\TT_exon.png\n",
      "Output image to d:\\Coding\\Thesis\\FractalDimension\\TE_Images_ForPaper\\TE_Zoom\\Intron\\TT_intron.png\n"
     ]
    }
   ],
   "source": [
    "tt_eframe = limit(e_frame, tt_box[0], tt_box[1])\n",
    "tt_iframe = limit(i_frame, tt_box[0], tt_box[1])\n",
    "matplotfigure(tt_eframe, dir = tt_eof.parent, file_name = tt_eof.name)\n",
    "matplotfigure(tt_iframe, dir = tt_iof.parent, file_name = tt_iof.name)"
   ]
  },
  {
   "cell_type": "markdown",
   "metadata": {},
   "source": [
    "TC Box"
   ]
  },
  {
   "cell_type": "code",
   "execution_count": 30,
   "metadata": {},
   "outputs": [
    {
     "name": "stdout",
     "output_type": "stream",
     "text": [
      "Output image to d:\\Coding\\Thesis\\FractalDimension\\TE_Images_ForPaper\\TE_Zoom\\Exon\\TC_exon.png\n",
      "Output image to d:\\Coding\\Thesis\\FractalDimension\\TE_Images_ForPaper\\TE_Zoom\\Intron\\TC_intron.png\n"
     ]
    }
   ],
   "source": [
    "tc_eframe = limit(e_frame, tc_box[0], tc_box[1])\n",
    "tc_iframe = limit(i_frame, tc_box[0], tc_box[1])\n",
    "matplotfigure(tc_eframe, dir = tc_eof.parent, file_name = tc_eof.name)\n",
    "matplotfigure(tc_iframe, dir = tc_iof.parent, file_name = tc_iof.name)"
   ]
  },
  {
   "cell_type": "markdown",
   "metadata": {},
   "source": [
    "CA Box"
   ]
  },
  {
   "cell_type": "code",
   "execution_count": 31,
   "metadata": {},
   "outputs": [
    {
     "name": "stdout",
     "output_type": "stream",
     "text": [
      "Output image to d:\\Coding\\Thesis\\FractalDimension\\TE_Images_ForPaper\\TE_Zoom\\Exon\\CA_exon.png\n",
      "Output image to d:\\Coding\\Thesis\\FractalDimension\\TE_Images_ForPaper\\TE_Zoom\\Intron\\CA_intron.png\n"
     ]
    }
   ],
   "source": [
    "ca_eframe = limit(e_frame, ca_box[0], ca_box[1])\n",
    "ca_iframe = limit(i_frame, ca_box[0], ca_box[1])\n",
    "matplotfigure(ca_eframe, dir = ca_eof.parent, file_name = ca_eof.name)\n",
    "matplotfigure(ca_iframe, dir = ca_iof.parent, file_name = ca_iof.name)"
   ]
  },
  {
   "cell_type": "markdown",
   "metadata": {},
   "source": [
    "CG Box"
   ]
  },
  {
   "cell_type": "code",
   "execution_count": 32,
   "metadata": {},
   "outputs": [
    {
     "name": "stdout",
     "output_type": "stream",
     "text": [
      "Output image to d:\\Coding\\Thesis\\FractalDimension\\TE_Images_ForPaper\\TE_Zoom\\Exon\\CG_exon.png\n",
      "Output image to d:\\Coding\\Thesis\\FractalDimension\\TE_Images_ForPaper\\TE_Zoom\\Intron\\CG_intron.png\n"
     ]
    }
   ],
   "source": [
    "cg_eframe = limit(e_frame, cg_box[0], cg_box[1])\n",
    "cg_iframe = limit(i_frame, cg_box[0], cg_box[1])\n",
    "matplotfigure(cg_eframe, dir = cg_eof.parent, file_name = cg_eof.name)\n",
    "matplotfigure(cg_iframe, dir = cg_iof.parent, file_name = cg_iof.name)"
   ]
  },
  {
   "cell_type": "markdown",
   "metadata": {},
   "source": [
    "CT Box"
   ]
  },
  {
   "cell_type": "code",
   "execution_count": 33,
   "metadata": {},
   "outputs": [
    {
     "name": "stdout",
     "output_type": "stream",
     "text": [
      "Output image to d:\\Coding\\Thesis\\FractalDimension\\TE_Images_ForPaper\\TE_Zoom\\Exon\\CT_exon.png\n",
      "Output image to d:\\Coding\\Thesis\\FractalDimension\\TE_Images_ForPaper\\TE_Zoom\\Intron\\CT_intron.png\n"
     ]
    }
   ],
   "source": [
    "ct_eframe = limit(e_frame, ct_box[0], ct_box[1])\n",
    "ct_iframe = limit(i_frame, ct_box[0], ct_box[1])\n",
    "matplotfigure(ct_eframe, dir = ct_eof.parent, file_name = ct_eof.name)\n",
    "matplotfigure(ct_iframe, dir = ct_iof.parent, file_name = ct_iof.name)"
   ]
  },
  {
   "cell_type": "markdown",
   "metadata": {},
   "source": [
    "CC Box"
   ]
  },
  {
   "cell_type": "code",
   "execution_count": 34,
   "metadata": {},
   "outputs": [
    {
     "name": "stdout",
     "output_type": "stream",
     "text": [
      "Output image to d:\\Coding\\Thesis\\FractalDimension\\TE_Images_ForPaper\\TE_Zoom\\Exon\\CC_exon.png\n",
      "Output image to d:\\Coding\\Thesis\\FractalDimension\\TE_Images_ForPaper\\TE_Zoom\\Intron\\CC_intron.png\n"
     ]
    }
   ],
   "source": [
    "cc_eframe = limit(e_frame, cc_box[0], cc_box[1])\n",
    "cc_iframe = limit(i_frame, cc_box[0], cc_box[1])\n",
    "matplotfigure(cc_eframe, dir = cc_eof.parent, file_name = cc_eof.name)\n",
    "matplotfigure(cc_iframe, dir = cc_iof.parent, file_name = cc_iof.name)"
   ]
  }
 ],
 "metadata": {
  "kernelspec": {
   "display_name": "thesis",
   "language": "python",
   "name": "python3"
  },
  "language_info": {
   "codemirror_mode": {
    "name": "ipython",
    "version": 3
   },
   "file_extension": ".py",
   "mimetype": "text/x-python",
   "name": "python",
   "nbconvert_exporter": "python",
   "pygments_lexer": "ipython3",
   "version": "3.10.8"
  }
 },
 "nbformat": 4,
 "nbformat_minor": 2
}
