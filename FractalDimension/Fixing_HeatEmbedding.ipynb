{
 "cells": [
  {
   "cell_type": "code",
   "execution_count": 3,
   "metadata": {},
   "outputs": [],
   "source": [
    "import ExonExonData as eed\n",
    "import pathlib\n",
    "cwd = pathlib.Path.cwd()\n",
    "import pandas\n",
    "import numpy\n",
    "import pickle\n",
    "from Heatmaps import heat_embedding\n",
    "from Heatmaps import heatmapv2 as heatmap\n",
    "from Heatmaps import _undigitize_seq as undigit\n"
   ]
  },
  {
   "cell_type": "code",
   "execution_count": null,
   "metadata": {},
   "outputs": [],
   "source": [
    "data_file = cwd.parent / \"Data_Files\" / \"Primates\" / \"Genetics\" / \"Homo_sapiens\" / \"Cleaned_Data\" / \"Data_Set_2_frame.pkl\"\n",
    "transform = numpy.log2"
   ]
  },
  {
   "cell_type": "code",
   "execution_count": null,
   "metadata": {},
   "outputs": [],
   "source": [
    "_, exon, intron, _, _, exon_max, exon_min, intron_max, intron_min = heat_embedding(data_file,\n",
    "                                                                                    # n = n,\n",
    "                                                                                    # k_m = k, k_p = k,\n",
    "                                                                                    just_import = True,\n",
    "                                                                                    log_transform = transform)  # Just import is turned on because I have one dictionary with all the data. I'll use that one set for all the images from now on. Just makes things a little faster and easier.\n"
   ]
  }
 ],
 "metadata": {
  "kernelspec": {
   "display_name": "thesis",
   "language": "python",
   "name": "python3"
  },
  "language_info": {
   "codemirror_mode": {
    "name": "ipython",
    "version": 3
   },
   "file_extension": ".py",
   "mimetype": "text/x-python",
   "name": "python",
   "nbconvert_exporter": "python",
   "pygments_lexer": "ipython3",
   "version": "3.10.8"
  }
 },
 "nbformat": 4,
 "nbformat_minor": 2
}
