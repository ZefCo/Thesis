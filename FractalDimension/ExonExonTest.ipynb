{
 "cells": [
  {
   "cell_type": "code",
   "execution_count": 1,
   "metadata": {},
   "outputs": [],
   "source": [
    "import pandas\n",
    "import pathlib\n",
    "cwd = pathlib.Path.cwd()\n",
    "import GeneClass as Gene\n",
    "import pickle\n",
    "import random\n",
    "import numpy as np\n",
    "from matplotlib import pyplot as plt\n",
    "from TimeEmbedding import time_embedding as te"
   ]
  },
  {
   "cell_type": "code",
   "execution_count": 7,
   "metadata": {},
   "outputs": [
    {
     "name": "stdout",
     "output_type": "stream",
     "text": [
      "     X    Y Chrm\n",
      "0  NaN  NaN  NaN\n",
      "1  NaN  NaN  NaN\n",
      "2  NaN  NaN  NaN\n",
      "3  NaN  NaN  NaN\n",
      "4  NaN  NaN  NaN\n",
      "5  NaN  NaN  NaN\n",
      "6  NaN  NaN  NaN\n",
      "7  NaN  NaN  NaN\n",
      "8  NaN  NaN  NaN\n"
     ]
    }
   ],
   "source": [
    "index = 10\n",
    "xy_points: pandas.DataFrame = pandas.DataFrame(None, index = [i for i in range(index - 1)], columns = [\"X\", \"Y\", \"Chrm\"])\n",
    "print(xy_points)\n"
   ]
  },
  {
   "cell_type": "code",
   "execution_count": 8,
   "metadata": {},
   "outputs": [],
   "source": [
    "xy_points[\"Regrets\"] = 10"
   ]
  },
  {
   "cell_type": "code",
   "execution_count": 9,
   "metadata": {},
   "outputs": [
    {
     "name": "stdout",
     "output_type": "stream",
     "text": [
      "     X    Y Chrm  Regrets\n",
      "0  NaN  NaN  NaN       10\n",
      "1  NaN  NaN  NaN       10\n",
      "2  NaN  NaN  NaN       10\n",
      "3  NaN  NaN  NaN       10\n",
      "4  NaN  NaN  NaN       10\n",
      "5  NaN  NaN  NaN       10\n",
      "6  NaN  NaN  NaN       10\n",
      "7  NaN  NaN  NaN       10\n",
      "8  NaN  NaN  NaN       10\n"
     ]
    }
   ],
   "source": [
    "print(xy_points)"
   ]
  }
 ],
 "metadata": {
  "kernelspec": {
   "display_name": "thesis",
   "language": "python",
   "name": "python3"
  },
  "language_info": {
   "codemirror_mode": {
    "name": "ipython",
    "version": 3
   },
   "file_extension": ".py",
   "mimetype": "text/x-python",
   "name": "python",
   "nbconvert_exporter": "python",
   "pygments_lexer": "ipython3",
   "version": "3.10.8"
  }
 },
 "nbformat": 4,
 "nbformat_minor": 2
}
