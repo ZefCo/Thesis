{
 "cells": [
  {
   "cell_type": "code",
   "execution_count": 1,
   "metadata": {},
   "outputs": [],
   "source": [
    "import pandas\n",
    "import pathlib\n",
    "cwd = pathlib.Path.cwd()\n",
    "import pickle\n",
    "import Heatmaps as heat\n",
    "import MomentCalculations as MC"
   ]
  },
  {
   "cell_type": "code",
   "execution_count": 2,
   "metadata": {},
   "outputs": [
    {
     "name": "stdout",
     "output_type": "stream",
     "text": [
      "          A         G         T         C\n",
      "A  1.258365  1.090726  0.943510  1.004032\n",
      "G  1.088235  0.955263  1.017302  0.651568\n",
      "T  0.953127  1.003376  1.215813  1.019055\n",
      "C  0.989051  0.687131  1.008320  0.994569\n",
      "          A         G         T         C\n",
      "A  0.087015  0.070613  0.057700  0.062850\n",
      "G  0.070384  0.058683  0.064008  0.035680\n",
      "T  0.058504  0.062793  0.082670  0.064162\n",
      "C  0.061555  0.038130  0.063223  0.062030\n",
      "          A         G         T         C\n",
      "A  0.087015  0.070613  0.057700  0.062850\n",
      "G  0.070384  0.058683  0.064008  0.035680\n",
      "T  0.058504  0.062793  0.082670  0.064162\n",
      "C  0.061555  0.038130  0.063223  0.062030\n",
      "1.0\n"
     ]
    }
   ],
   "source": [
    "with open(cwd / \"Dicts\" / \"Exon_1mer_LT.pkl\", \"rb\") as file:\n",
    "    data_LT = pickle.load(file)\n",
    "\n",
    "print(data_LT)\n",
    "\n",
    "data_unLT = MC._unrenormalize(data_LT, 2)\n",
    "print(data_unLT)\n",
    "\n",
    "with open(cwd / \"Dicts\" / \"Exon_1mer.pkl\", \"rb\") as file:\n",
    "    data = pickle.load(file)\n",
    "\n",
    "print(data)\n",
    "print(data.to_numpy().sum())"
   ]
  },
  {
   "cell_type": "code",
   "execution_count": 3,
   "metadata": {},
   "outputs": [],
   "source": [
    "_, exon, intron, _, _, exon_max, exon_min, intron_max, intron_min = heat.heat_embedding(cwd / \"TE_Images_ForPaper\" / \"Dict\" / \"Seq_For_Images_n100000_minLength12.pkl\",\n",
    "                                                                                        n = 10_000,\n",
    "                                                                                        k_m = 1, k_p = 1,\n",
    "                                                                                        just_import = False)\n",
    "\n",
    "# These are normalized by 4**s"
   ]
  },
  {
   "cell_type": "code",
   "execution_count": 4,
   "metadata": {},
   "outputs": [
    {
     "name": "stdout",
     "output_type": "stream",
     "text": [
      "{'A': {'A': 1.3807488867171425, 'G': 1.1310405114809807, 'T': 0.9174642789228853, 'C': 0.98914578778421}, 'G': {'A': 1.1331369931571065, 'G': 0.94738266183164, 'T': 0.9992270642917894, 'C': 0.6203088147783037}, 'T': {'A': 0.9043177494231364, 'G': 1.0229241189053262, 'T': 1.3075839467781258, 'C': 1.014152197379587}, 'C': {'A': 1.0114426651050274, 'G': 0.5756847860330423, 'T': 1.033497349596834, 'C': 1.0119421878148624}}\n"
     ]
    }
   ],
   "source": [
    "print(exon) "
   ]
  },
  {
   "cell_type": "code",
   "execution_count": 5,
   "metadata": {},
   "outputs": [
    {
     "name": "stdout",
     "output_type": "stream",
     "text": [
      "          0         1         2         3\n",
      "3  0.063215  0.035980  0.064594  0.063246\n",
      "2  0.056520  0.063933  0.081724  0.063385\n",
      "1  0.070821  0.059211  0.062452  0.038769\n",
      "0  0.086297  0.070690  0.057342  0.061822\n",
      "1.0\n"
     ]
    }
   ],
   "source": [
    "exon_2 = pandas.DataFrame(exon)\n",
    "# print(exon_2)\n",
    "\n",
    "exon_2 = heat._reorder_frame(exon_2)\n",
    "exon_2 = MC._unrenormalize(exon_2, 2, log2=False)\n",
    "print(exon_2)\n",
    "print(exon_2.to_numpy().sum())"
   ]
  },
  {
   "cell_type": "code",
   "execution_count": 9,
   "metadata": {},
   "outputs": [
    {
     "name": "stdout",
     "output_type": "stream",
     "text": [
      "[WindowsPath('d:/Coding/Thesis/FractalDimension/Dicts/Exon_1mer.pkl'), WindowsPath('d:/Coding/Thesis/FractalDimension/Dicts/Exon_1mer_LT.pkl'), WindowsPath('d:/Coding/Thesis/FractalDimension/Dicts/Exon_2mer.pkl'), WindowsPath('d:/Coding/Thesis/FractalDimension/Dicts/Exon_2mer_LT.pkl'), WindowsPath('d:/Coding/Thesis/FractalDimension/Dicts/Exon_3mer.pkl'), WindowsPath('d:/Coding/Thesis/FractalDimension/Dicts/Exon_3mer_LT.pkl'), WindowsPath('d:/Coding/Thesis/FractalDimension/Dicts/Exon_4mer.pkl'), WindowsPath('d:/Coding/Thesis/FractalDimension/Dicts/Exon_4mer_LT.pkl'), WindowsPath('d:/Coding/Thesis/FractalDimension/Dicts/Exon_5mer.pkl'), WindowsPath('d:/Coding/Thesis/FractalDimension/Dicts/Exon_5mer_LT.pkl'), WindowsPath('d:/Coding/Thesis/FractalDimension/Dicts/Exon_6mer.pkl'), WindowsPath('d:/Coding/Thesis/FractalDimension/Dicts/Exon_6mer_LT.pkl'), WindowsPath('d:/Coding/Thesis/FractalDimension/Dicts/Intron_1mer.pkl'), WindowsPath('d:/Coding/Thesis/FractalDimension/Dicts/Intron_1mer_LT.pkl'), WindowsPath('d:/Coding/Thesis/FractalDimension/Dicts/Intron_2mer.pkl'), WindowsPath('d:/Coding/Thesis/FractalDimension/Dicts/Intron_2mer_LT.pkl'), WindowsPath('d:/Coding/Thesis/FractalDimension/Dicts/Intron_3mer.pkl'), WindowsPath('d:/Coding/Thesis/FractalDimension/Dicts/Intron_3mer_LT.pkl'), WindowsPath('d:/Coding/Thesis/FractalDimension/Dicts/Intron_4mer.pkl'), WindowsPath('d:/Coding/Thesis/FractalDimension/Dicts/Intron_4mer_LT.pkl'), WindowsPath('d:/Coding/Thesis/FractalDimension/Dicts/Intron_5mer.pkl'), WindowsPath('d:/Coding/Thesis/FractalDimension/Dicts/Intron_5mer_LT.pkl'), WindowsPath('d:/Coding/Thesis/FractalDimension/Dicts/Intron_6mer.pkl'), WindowsPath('d:/Coding/Thesis/FractalDimension/Dicts/Intron_6mer_LT.pkl')]\n",
      "24\n"
     ]
    }
   ],
   "source": [
    "testing = pathlib.Path(cwd / \"Dicts\")\n",
    "testing = list(testing.iterdir())\n",
    "print(testing)\n",
    "print(len(testing))\n"
   ]
  }
 ],
 "metadata": {
  "kernelspec": {
   "display_name": "thesis",
   "language": "python",
   "name": "python3"
  },
  "language_info": {
   "codemirror_mode": {
    "name": "ipython",
    "version": 3
   },
   "file_extension": ".py",
   "mimetype": "text/x-python",
   "name": "python",
   "nbconvert_exporter": "python",
   "pygments_lexer": "ipython3",
   "version": "3.10.8"
  }
 },
 "nbformat": 4,
 "nbformat_minor": 2
}
