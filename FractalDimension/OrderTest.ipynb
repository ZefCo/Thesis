{
 "cells": [
  {
   "cell_type": "code",
   "execution_count": 1,
   "metadata": {},
   "outputs": [],
   "source": [
    "import re\n",
    "import pandas\n",
    "import random\n",
    "import pathlib\n",
    "cwd = pathlib.Path.cwd()\n",
    "import pickle"
   ]
  },
  {
   "cell_type": "code",
   "execution_count": 9,
   "metadata": {},
   "outputs": [
    {
     "name": "stdout",
     "output_type": "stream",
     "text": [
      "        index        NCIBName Classificaion  \\\n",
      "0      117355  NM_001377417.1          exon   \n",
      "1       94210  NM_001130055.4        intron   \n",
      "2       69387  NM_001370328.1        intron   \n",
      "3       76137  NM_001135820.2          exon   \n",
      "4      146127  NM_001385643.1          exon   \n",
      "...       ...             ...           ...   \n",
      "99995    2140  NM_001308049.2        intron   \n",
      "99996   82335  NM_001282378.2          exon   \n",
      "99997  141513  NM_001285461.2          exon   \n",
      "99998   87335     NM_017925.7        intron   \n",
      "99999   29928  NM_001362667.2        intron   \n",
      "\n",
      "                                                     Seq  Length  \n",
      "0      GAAAGAACTTGTCTTCTTAACTTATACATAGCGTTTGTCGTTCGGG...      87  \n",
      "1      TGCGGTCGGTTCCTGCGCCGCTGGTTCCTCCTCCTTAGCCGCCTGC...      68  \n",
      "2      GGTTCGACCAAGAGGCTCGGAGAACTCAGACAAACGTGGTCCGGAC...     202  \n",
      "3      GTAGACCTCGTATAAAACTCCTATAAGGATTTTACTAACGTTCACG...     343  \n",
      "4      GGACCACTGACATTTAGGGATGTGGCCATAGAATTCTCTCTGGAGG...     127  \n",
      "...                                                  ...     ...  \n",
      "99995  GAAGACTCCTACTCTCCTCCGAAAGATTGCCTCCCACTCTTCCTAC...     124  \n",
      "99996  GACAAGCTGACAAAGAGCCTGACATACATCCTGGGAAACCAGGACA...      96  \n",
      "99997  GGGAAGGAGCAGTTGACCCCAATGACCCTAACAAGGCAAATACACT...     142  \n",
      "99998  AGGCATTTGACAATGAATATGGAATTGCATACAATAGTCTGTCTTC...    2245  \n",
      "99999  GTCTCCAGTCTCGCACCCACTACCGCCACGGGGCCGGCAGGCGCCG...     209  \n",
      "\n",
      "[99696 rows x 5 columns]\n",
      "(67902, 5)\n",
      "(31794, 5)\n"
     ]
    }
   ],
   "source": [
    "something = cwd / \"TE_Images_ForPaper\\Dict\\Seq_For_Images_n100000_minLength12.pkl\"\n",
    "\n",
    "with open(something, \"rb\") as file:\n",
    "    data = pickle.load(file)\n",
    "\n",
    "print(data)\n",
    "exons = data[data[\"Classificaion\"] == \"exon\"]\n",
    "introns = data[data[\"Classificaion\"] == \"intron\"]\n",
    "\n",
    "print(exons.shape)\n",
    "print(introns.shape)"
   ]
  },
  {
   "cell_type": "code",
   "execution_count": 23,
   "metadata": {},
   "outputs": [
    {
     "name": "stdout",
     "output_type": "stream",
     "text": [
      "          G         A         C         T\n",
      "A  1.131492  1.393348  1.004972  0.922185\n",
      "G  0.940865  1.127209  0.571826  1.024277\n",
      "C  0.610252  0.984336  0.991237  1.010626\n",
      "T  1.005299  0.935555  1.024874  1.321647\n"
     ]
    }
   ],
   "source": [
    "with open(cwd / \"TE_Images_ForPaper\" / \"Dict\" / \"Heat_DS2_Exon.pkl\", \"rb\") as file:\n",
    "    data = pickle.load(file)\n",
    "\n",
    "# with open (cwd / \"Dicts\" / \"Exon_1mer.pkl\", \"rb\") as file:\n",
    "#     data = pickle.load(file)\n",
    "    \n",
    "data = pandas.DataFrame(data)\n",
    "print(data)"
   ]
  },
  {
   "cell_type": "code",
   "execution_count": 16,
   "metadata": {},
   "outputs": [],
   "source": [
    "\n",
    "species = \"Mouse\"\n",
    "# exon_dict_file = f\"{species}_ExonData_n100000_DS1_kp6_km6\"\n",
    "data_set = 1\n",
    "\n",
    "\n",
    "with open(pathlib.Path(f\"D:\\Downloads\\GeneData\\{species}\\Selected{species}Dict/Data_Set_{data_set}_histogram.pkl\"), \"rb\") as file:\n",
    "    data = pickle.load(file)\n",
    "\n",
    "data[\"Length\"] = data[\"Seq\"].apply(len)\n",
    "data = data[data[\"Length\"] >= 12]\n",
    "data.to_pickle(cwd / \"TE_Images_ForPaper\" / \"Dict\" / f\"{species}_Seq_For_Images.pkl\")\n",
    "# # print(data)\n",
    "# eata = data[data[\"Classificaion\"] == \"exon\"]\n",
    "# iata = data[data[\"Classificaion\"] == \"intron\"]\n",
    "# print(eata.shape)\n",
    "# print(iata.shape)"
   ]
  },
  {
   "cell_type": "code",
   "execution_count": 8,
   "metadata": {},
   "outputs": [],
   "source": [
    "def digitize_seq(seq: str):\n",
    "    '''\n",
    "    Converts a sequence into a digial version - OK not digital but a numerical version, but I like this name better.\n",
    "    '''\n",
    "    digital_version = \"\"\n",
    "    for n in seq:\n",
    "        dn = \"0\" if n in \"A\" else \"1\" if n in \"G\" else \"2\" if n in \"T\" else \"3\" if n in \"C\" else \"5\"\n",
    "        digital_version = f\"{digital_version}{dn}\"\n",
    "\n",
    "    return digital_version\n",
    "\n",
    "\n",
    "def random_seq(n: int):\n",
    "    '''\n",
    "    Generates a random sequene of length n\n",
    "    '''\n",
    "    seq = \"\"\n",
    "    for _ in range(n):\n",
    "        nuc = random.randint(0, 3)\n",
    "        nuc = \"A\" if nuc == 0 else \"C\" if nuc == 1 else \"G\" if nuc == 2 else \"T\"\n",
    "        seq = f\"{seq}{nuc}\"\n",
    "\n",
    "    return seq \n"
   ]
  },
  {
   "cell_type": "code",
   "execution_count": 10,
   "metadata": {},
   "outputs": [
    {
     "name": "stdout",
     "output_type": "stream",
     "text": [
      "['CCCGC', 'GTAGC', 'AGCAG', 'TGAGG', 'CCTAT', 'GCGCA', 'CCTGC', 'GACTC', 'ACGCT', 'ACCAT']\n",
      "['33313', '12013', '01301', '21011', '33202', '13130', '33213', '10323', '03132', '03302']\n",
      "['01301', '03132', '03302', '10323', '12013', '13130', '21011', '33202', '33213', '33313']\n"
     ]
    }
   ],
   "source": [
    "# seqs = [random_seq(5) for _ in range(10)]\n",
    "# print(seqs)\n",
    "# dseqs = [digitize_seq(seq) for seq in seqs]\n",
    "# print(dseqs)\n",
    "# print(sorted(dseqs))"
   ]
  },
  {
   "cell_type": "code",
   "execution_count": 5,
   "metadata": {},
   "outputs": [
    {
     "name": "stdout",
     "output_type": "stream",
     "text": [
      "              NCIBName Classificaion  \\\n",
      "0       NM_001352843.2          exon   \n",
      "1       NM_001352843.2          exon   \n",
      "2       NM_001352843.2          exon   \n",
      "3       NM_001352843.2          exon   \n",
      "4       NM_001352843.2          exon   \n",
      "...                ...           ...   \n",
      "154071  NM_001319061.2          exon   \n",
      "154072  NM_001319061.2          exon   \n",
      "154073  NM_001319061.2          exon   \n",
      "154074  NM_001319061.2        intron   \n",
      "154075  NM_001319061.2        intron   \n",
      "\n",
      "                                                      Seq  \n",
      "0       AGCAATAGTTAAAAATAAAGGATGGTATGTGGTTTACATGTCGTGA...  \n",
      "1       GTAGACACCTTCGACCTACAGTCGTTCCGAACTTTACTCTCGAACC...  \n",
      "2       GACCCAGACTTCAAAGTAGTATAGACGAAGTTAAAATTCCAACCTA...  \n",
      "3       GGGGTCAACGAAACTCGAACTACCAGTACTCAAGAAGTCTTTGGAA...  \n",
      "4       GAAGCCACCCACTGTTTTTGTAATAAATGTACCGGGTCGGGTAACG...  \n",
      "...                                                   ...  \n",
      "154071  GACGGCTACATTGATTTCATGGAGTACGTGGCAGCGCTCAGCTTGG...  \n",
      "154072  GCCATTCGCGCCATTAACCCCTGCAGCGATACCACCATGACTGCAG...  \n",
      "154073  GGGAACTCTCCCTGGAAGAGTTTATAGAGGGCGTCCAGAAGGACCA...  \n",
      "154074  GGGAACTCTCCCTGGAAGAGTTTATAGAGGGCGTCCAGAAGGACCA...  \n",
      "154075  GGGAACTCTCCCTGGAAGAGTTTATAGAGGGCGTCCAGAAGGACCA...  \n",
      "\n",
      "[154076 rows x 3 columns]\n",
      "<class 'pandas.core.frame.DataFrame'>\n"
     ]
    }
   ],
   "source": [
    "linux_path = f\"/media/ethanspeakman/Elements/\"\n",
    "windows_path = f\"F:/\"\n",
    "\n",
    "data_path = windows_path\n",
    "data_set = 2\n",
    "path = f\"{data_path}/Gene_Data_Sets/Data_Set_{data_set}_histogram.pkl\"\n",
    "\n",
    "with open(path, \"rb\") as file:\n",
    "    data = pickle.load(file)\n",
    "\n",
    "print(data)\n",
    "print(type(data))\n"
   ]
  }
 ],
 "metadata": {
  "kernelspec": {
   "display_name": "thesis",
   "language": "python",
   "name": "python3"
  },
  "language_info": {
   "codemirror_mode": {
    "name": "ipython",
    "version": 3
   },
   "file_extension": ".py",
   "mimetype": "text/x-python",
   "name": "python",
   "nbconvert_exporter": "python",
   "pygments_lexer": "ipython3",
   "version": "3.10.8"
  }
 },
 "nbformat": 4,
 "nbformat_minor": 2
}
