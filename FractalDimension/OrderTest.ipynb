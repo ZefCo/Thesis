{
 "cells": [
  {
   "cell_type": "code",
   "execution_count": 3,
   "metadata": {},
   "outputs": [],
   "source": [
    "import re\n",
    "import random\n",
    "import pathlib\n",
    "import pickle"
   ]
  },
  {
   "cell_type": "code",
   "execution_count": 8,
   "metadata": {},
   "outputs": [],
   "source": [
    "#def digitize_seq(seq: str):\n",
    "    '''\n",
    "    Converts a sequence into a digial version - OK not digital but a numerical version, but I like this name better.\n",
    "    '''\n",
    "    digital_version = \"\"\n",
    "    for n in seq:\n",
    "        dn = \"0\" if n in \"A\" else \"1\" if n in \"G\" else \"2\" if n in \"T\" else \"3\" if n in \"C\" else \"5\"\n",
    "        digital_version = f\"{digital_version}{dn}\"\n",
    "\n",
    "    return digital_version\n",
    "\n",
    "\n",
    "#def random_seq(n: int):\n",
    "    '''\n",
    "    Generates a random sequene of length n\n",
    "    '''\n",
    "    seq = \"\"\n",
    "    for _ in range(n):\n",
    "        nuc = random.randint(0, 3)\n",
    "        nuc = \"A\" if nuc == 0 else \"C\" if nuc == 1 else \"G\" if nuc == 2 else \"T\"\n",
    "        seq = f\"{seq}{nuc}\"\n",
    "\n",
    "    return seq \n"
   ]
  },
  {
   "cell_type": "code",
   "execution_count": 10,
   "metadata": {},
   "outputs": [
    {
     "name": "stdout",
     "output_type": "stream",
     "text": [
      "['CCCGC', 'GTAGC', 'AGCAG', 'TGAGG', 'CCTAT', 'GCGCA', 'CCTGC', 'GACTC', 'ACGCT', 'ACCAT']\n",
      "['33313', '12013', '01301', '21011', '33202', '13130', '33213', '10323', '03132', '03302']\n",
      "['01301', '03132', '03302', '10323', '12013', '13130', '21011', '33202', '33213', '33313']\n"
     ]
    }
   ],
   "source": [
    "# seqs = [random_seq(5) for _ in range(10)]\n",
    "# print(seqs)\n",
    "# dseqs = [digitize_seq(seq) for seq in seqs]\n",
    "# print(dseqs)\n",
    "# print(sorted(dseqs))"
   ]
  },
  {
   "cell_type": "code",
   "execution_count": 5,
   "metadata": {},
   "outputs": [
    {
     "name": "stdout",
     "output_type": "stream",
     "text": [
      "              NCIBName Classificaion  \\\n",
      "0       NM_001352843.2          exon   \n",
      "1       NM_001352843.2          exon   \n",
      "2       NM_001352843.2          exon   \n",
      "3       NM_001352843.2          exon   \n",
      "4       NM_001352843.2          exon   \n",
      "...                ...           ...   \n",
      "154071  NM_001319061.2          exon   \n",
      "154072  NM_001319061.2          exon   \n",
      "154073  NM_001319061.2          exon   \n",
      "154074  NM_001319061.2        intron   \n",
      "154075  NM_001319061.2        intron   \n",
      "\n",
      "                                                      Seq  \n",
      "0       AGCAATAGTTAAAAATAAAGGATGGTATGTGGTTTACATGTCGTGA...  \n",
      "1       GTAGACACCTTCGACCTACAGTCGTTCCGAACTTTACTCTCGAACC...  \n",
      "2       GACCCAGACTTCAAAGTAGTATAGACGAAGTTAAAATTCCAACCTA...  \n",
      "3       GGGGTCAACGAAACTCGAACTACCAGTACTCAAGAAGTCTTTGGAA...  \n",
      "4       GAAGCCACCCACTGTTTTTGTAATAAATGTACCGGGTCGGGTAACG...  \n",
      "...                                                   ...  \n",
      "154071  GACGGCTACATTGATTTCATGGAGTACGTGGCAGCGCTCAGCTTGG...  \n",
      "154072  GCCATTCGCGCCATTAACCCCTGCAGCGATACCACCATGACTGCAG...  \n",
      "154073  GGGAACTCTCCCTGGAAGAGTTTATAGAGGGCGTCCAGAAGGACCA...  \n",
      "154074  GGGAACTCTCCCTGGAAGAGTTTATAGAGGGCGTCCAGAAGGACCA...  \n",
      "154075  GGGAACTCTCCCTGGAAGAGTTTATAGAGGGCGTCCAGAAGGACCA...  \n",
      "\n",
      "[154076 rows x 3 columns]\n",
      "<class 'pandas.core.frame.DataFrame'>\n"
     ]
    }
   ],
   "source": [
    "linux_path = f\"/media/ethanspeakman/Elements/\"\n",
    "windows_path = f\"F:/\"\n",
    "\n",
    "data_path = windows_path\n",
    "data_set = 2\n",
    "path = f\"{data_path}/Gene_Data_Sets/Data_Set_{data_set}_histogram.pkl\"\n",
    "\n",
    "with open(path, \"rb\") as file:\n",
    "    data = pickle.load(file)\n",
    "\n",
    "print(data)\n",
    "print(type(data))\n"
   ]
  }
 ],
 "metadata": {
  "kernelspec": {
   "display_name": "thesis",
   "language": "python",
   "name": "python3"
  },
  "language_info": {
   "codemirror_mode": {
    "name": "ipython",
    "version": 3
   },
   "file_extension": ".py",
   "mimetype": "text/x-python",
   "name": "python",
   "nbconvert_exporter": "python",
   "pygments_lexer": "ipython3",
   "version": "3.10.8"
  }
 },
 "nbformat": 4,
 "nbformat_minor": 2
}
