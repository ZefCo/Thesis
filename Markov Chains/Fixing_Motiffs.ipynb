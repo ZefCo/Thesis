{
 "cells": [
  {
   "cell_type": "code",
   "execution_count": 11,
   "metadata": {},
   "outputs": [],
   "source": [
    "import pandas\n",
    "import pathlib\n",
    "cwd = pathlib.Path.cwd()\n",
    "import random\n",
    "import seqlogo\n",
    "import numpy\n",
    "from Motiffs import boundary_motiffs\n",
    "from Motiffs import normalize"
   ]
  },
  {
   "cell_type": "code",
   "execution_count": 12,
   "metadata": {},
   "outputs": [
    {
     "name": "stdout",
     "output_type": "stream",
     "text": [
      "Posterior\n",
      "          1         2         3\n",
      "A  0.343077  0.640385  0.106731\n",
      "G  0.188269  0.112308  0.804423\n",
      "T  0.119038  0.145577  0.062885\n",
      "C  0.349615  0.101731  0.025962\n",
      "\n",
      "\n",
      "Anterior\n",
      "          4         5         6\n",
      "A  0.265192  0.260000  0.270192\n",
      "G  0.475769  0.192885  0.226923\n",
      "T  0.116346  0.354038  0.287692\n",
      "C  0.142692  0.193077  0.215192\n",
      "\n",
      "\n",
      "          1         2         3         4         5         6\n",
      "A  0.343077  0.640385  0.106731  0.265192  0.260000  0.270192\n",
      "G  0.188269  0.112308  0.804423  0.475769  0.192885  0.226923\n",
      "T  0.119038  0.145577  0.062885  0.116346  0.354038  0.287692\n",
      "C  0.349615  0.101731  0.025962  0.142692  0.193077  0.215192\n"
     ]
    }
   ],
   "source": [
    "exon2exon_data: pandas.DataFrame = pandas.read_excel(cwd.parent / \"Data_Files\" / \"Primates\" / \"Genetics\" / \"Homo_sapiens\" / \"Exon_Intron_Data\" / \"Intron.xlsx\", sheet_name = \"sheet1\")\n",
    "# exon2exon_data = exon2exon_data.sample(n = 500)\n",
    "# exon2exon_data = exon2exon_data.reset_index()\n",
    "\n",
    "exon2exon_data[\"Anterior\"] = exon2exon_data[\"Anterior_20\"].apply(lambda x: x[0: 3])\n",
    "exon2exon_data[\"Posterior\"] = exon2exon_data[\"Posterior_20\"].apply(lambda x: x[len(x) - 3: len(x)])\n",
    "\n",
    "anterior_counts, posterior_counts = boundary_motiffs(exon2exon_data)\n",
    "\n",
    "posterior_counts = normalize(posterior_counts)\n",
    "print(\"Posterior\")\n",
    "print(posterior_counts)\n",
    "print(\"\\n\")\n",
    "\n",
    "anterior_counts = normalize(anterior_counts)\n",
    "print(\"Anterior\")\n",
    "anterior_counts = anterior_counts.rename(columns={1: 4, 2: 5, 3: 6})\n",
    "print(anterior_counts)\n",
    "\n",
    "ppm = pandas.concat([posterior_counts, anterior_counts], axis = 1)\n",
    "print(\"\\n\")\n",
    "print(ppm)\n",
    "# print(ppm.sum(axis = 1))\n",
    "# ppm = seqlogo.Ppm(ppm)\n",
    "# seqlogo.seqlogo(ppm, ic_scale = False, format = 'svg', size = 'medium')"
   ]
  },
  {
   "cell_type": "code",
   "execution_count": 13,
   "metadata": {},
   "outputs": [
    {
     "name": "stdout",
     "output_type": "stream",
     "text": [
      "Posterior\n",
      "          1         2         3\n",
      "A  0.353387  0.655784  0.105979\n",
      "G  0.182932  0.110349  0.805712\n",
      "T  0.108314  0.124862  0.058481\n",
      "C  0.355367  0.109005  0.029829\n",
      "\n",
      "\n",
      "Anterior\n",
      "          4         5         6\n",
      "A  0.279964  0.249687  0.285119\n",
      "G  0.467752  0.162536  0.219709\n",
      "T  0.114944  0.392088  0.266367\n",
      "C  0.137339  0.195689  0.228805\n",
      "\n",
      "\n",
      "          1         2         3         4         5         6\n",
      "A  0.353387  0.655784  0.105979  0.279964  0.249687  0.285119\n",
      "G  0.182932  0.110349  0.805712  0.467752  0.162536  0.219709\n",
      "T  0.108314  0.124862  0.058481  0.114944  0.392088  0.266367\n",
      "C  0.355367  0.109005  0.029829  0.137339  0.195689  0.228805\n"
     ]
    }
   ],
   "source": [
    "cancer_data: pandas.DataFrame = pandas.read_csv(cwd.parent / \"Data_Files\" / \"UTData_fs.csv\")\n",
    "# print(cancer_data.head())\n",
    "# print(cancer_data.loc[0, \"Tseq\"])\n",
    "\n",
    "# cancer_data = cancer_data.sample(n = 500)\n",
    "# cancer_data = cancer_data.reset_index()\n",
    "\n",
    "cancer_data[\"Anterior\"] = cancer_data[\"Tseq\"].apply(lambda x: x[0: 3] if isinstance(x, str) else pandas.NA)\n",
    "cancer_data[\"Posterior\"] = cancer_data[\"Hseq\"].apply(lambda x: x[len(x) - 3: len(x)] if isinstance(x, str) else pandas.NA)\n",
    "cancer_data = cancer_data.dropna()\n",
    "cancer_data = cancer_data.reset_index()\n",
    "\n",
    "anterior_counts, posterior_counts = boundary_motiffs(cancer_data)\n",
    "\n",
    "posterior_counts = normalize(posterior_counts)\n",
    "print(\"Posterior\")\n",
    "print(posterior_counts)\n",
    "print(\"\\n\")\n",
    "\n",
    "anterior_counts = normalize(anterior_counts)\n",
    "print(\"Anterior\")\n",
    "anterior_counts = anterior_counts.rename(columns={1: 4, 2: 5, 3: 6})\n",
    "print(anterior_counts)\n",
    "\n",
    "ppm = pandas.concat([posterior_counts, anterior_counts], axis = 1)\n",
    "print(\"\\n\")\n",
    "print(ppm)\n",
    "# print(ppm.sum(axis = 1))\n",
    "# ppm = seqlogo.Ppm(ppm)\n",
    "# seqlogo.seqlogo(ppm, ic_scale = False, format = 'svg', size = 'medium')"
   ]
  }
 ],
 "metadata": {
  "kernelspec": {
   "display_name": "thesis",
   "language": "python",
   "name": "python3"
  },
  "language_info": {
   "codemirror_mode": {
    "name": "ipython",
    "version": 3
   },
   "file_extension": ".py",
   "mimetype": "text/x-python",
   "name": "python",
   "nbconvert_exporter": "python",
   "pygments_lexer": "ipython3",
   "version": "3.10.8"
  }
 },
 "nbformat": 4,
 "nbformat_minor": 2
}
