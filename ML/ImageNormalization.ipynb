{
 "cells": [
  {
   "cell_type": "code",
   "execution_count": 1,
   "metadata": {},
   "outputs": [],
   "source": [
    "import os\n",
    "import pandas\n",
    "import pathlib\n",
    "cwd = pathlib.Path.cwd()\n",
    "import shutil\n",
    "import re\n",
    "import tensorflow as tf\n",
    "import random\n",
    "import numpy\n",
    "import pandas as pd\n",
    "import datetime\n",
    "from matplotlib import pyplot as plt\n",
    "from contextlib import redirect_stdout\n",
    "from PIL import Image\n",
    "\n",
    "width, height, depth = 64, 64, 1\n",
    "seed = random.randint(1000000, 9000000)\n",
    "batch_size = 1\n",
    "image_dir = cwd / \"Test_Data\""
   ]
  },
  {
   "cell_type": "code",
   "execution_count": 2,
   "metadata": {},
   "outputs": [
    {
     "name": "stdout",
     "output_type": "stream",
     "text": [
      "Found 48 files belonging to 2 classes.\n",
      "Using 39 files for training.\n",
      "Found 48 files belonging to 2 classes.\n",
      "Using 9 files for validation.\n"
     ]
    }
   ],
   "source": [
    "train_set = tf.keras.preprocessing.image_dataset_from_directory(str(image_dir), image_size = (width, height), seed = seed, subset = \"training\", validation_split = 0.2, batch_size = batch_size, label_mode = \"categorical\", color_mode = \"grayscale\")\n",
    "valid_set = tf.keras.preprocessing.image_dataset_from_directory(str(image_dir), image_size = (width, height), seed = seed, subset = \"validation\", validation_split = 0.2, batch_size = batch_size, label_mode = \"categorical\", color_mode = \"grayscale\")"
   ]
  },
  {
   "cell_type": "code",
   "execution_count": 3,
   "metadata": {},
   "outputs": [],
   "source": [
    "image_batch, labels_batch = next(iter(train_set))\n",
    "first_image = image_batch[0]"
   ]
  },
  {
   "cell_type": "code",
   "execution_count": 4,
   "metadata": {},
   "outputs": [
    {
     "name": "stdout",
     "output_type": "stream",
     "text": [
      "tf.Tensor(\n",
      "[[[  5.]\n",
      "  [  5.]\n",
      "  [ 12.]\n",
      "  ...\n",
      "  [  9.]\n",
      "  [ 18.]\n",
      "  [ 15.]]\n",
      "\n",
      " [[ 11.]\n",
      "  [ 16.]\n",
      "  [ 22.]\n",
      "  ...\n",
      "  [  8.]\n",
      "  [ 17.]\n",
      "  [ 18.]]\n",
      "\n",
      " [[  9.]\n",
      "  [ 19.]\n",
      "  [ 25.]\n",
      "  ...\n",
      "  [ 17.]\n",
      "  [ 13.]\n",
      "  [ 14.]]\n",
      "\n",
      " ...\n",
      "\n",
      " [[105.]\n",
      "  [162.]\n",
      "  [163.]\n",
      "  ...\n",
      "  [ 19.]\n",
      "  [ 27.]\n",
      "  [ 23.]]\n",
      "\n",
      " [[118.]\n",
      "  [182.]\n",
      "  [165.]\n",
      "  ...\n",
      "  [ 18.]\n",
      "  [ 21.]\n",
      "  [ 19.]]\n",
      "\n",
      " [[ 92.]\n",
      "  [144.]\n",
      "  [137.]\n",
      "  ...\n",
      "  [  9.]\n",
      "  [ 15.]\n",
      "  [ 13.]]], shape=(64, 64, 1), dtype=float32)\n"
     ]
    }
   ],
   "source": [
    "print(first_image)"
   ]
  },
  {
   "cell_type": "code",
   "execution_count": 5,
   "metadata": {},
   "outputs": [
    {
     "name": "stdout",
     "output_type": "stream",
     "text": [
      "0.0 255.0\n"
     ]
    }
   ],
   "source": [
    "print(numpy.min(first_image), numpy.max(first_image))"
   ]
  },
  {
   "cell_type": "code",
   "execution_count": 6,
   "metadata": {},
   "outputs": [
    {
     "name": "stdout",
     "output_type": "stream",
     "text": [
      "tf.Tensor(125712.0, shape=(), dtype=float32)\n"
     ]
    }
   ],
   "source": [
    "print(tf.reduce_sum(first_image))"
   ]
  },
  {
   "cell_type": "code",
   "execution_count": 7,
   "metadata": {},
   "outputs": [
    {
     "name": "stdout",
     "output_type": "stream",
     "text": [
      "tf.Tensor(0.0, shape=(), dtype=float32) tf.Tensor(0.002028446, shape=(), dtype=float32)\n",
      "<class 'tensorflow.python.framework.ops.EagerTensor'> <class 'tensorflow.python.framework.ops.EagerTensor'>\n",
      "tf.Tensor(1.0, shape=(), dtype=float32)\n"
     ]
    }
   ],
   "source": [
    "print(numpy.min(first_image) / tf.reduce_sum(first_image), numpy.max(first_image) / tf.reduce_sum(first_image))\n",
    "print(type(numpy.min(first_image) / tf.reduce_sum(first_image)), type(numpy.max(first_image) / tf.reduce_sum(first_image)))\n",
    "print(tf.reduce_sum(first_image / tf.reduce_sum(first_image)))"
   ]
  },
  {
   "cell_type": "code",
   "execution_count": 10,
   "metadata": {},
   "outputs": [],
   "source": [
    "def norm_field(tensor_image, something_else):\n",
    "    '''\n",
    "    '''\n",
    "    tensor_image = tf.cast(tensor_image / tf.reduce_sum(tensor_image), tf.float32)\n",
    "    # tensor_image = tensor_image / 255\n",
    "    return tensor_image, something_else"
   ]
  },
  {
   "cell_type": "code",
   "execution_count": 11,
   "metadata": {},
   "outputs": [],
   "source": [
    "normalized_ds = train_set.map(norm_field)"
   ]
  },
  {
   "cell_type": "code",
   "execution_count": 12,
   "metadata": {},
   "outputs": [],
   "source": [
    "image_norms, _ = next(iter(normalized_ds))\n",
    "first_norm = image_norms[0]"
   ]
  },
  {
   "cell_type": "code",
   "execution_count": 13,
   "metadata": {},
   "outputs": [
    {
     "name": "stdout",
     "output_type": "stream",
     "text": [
      "tf.Tensor(\n",
      "[[[3.97734511e-05]\n",
      "  [3.97734511e-05]\n",
      "  [9.54562784e-05]\n",
      "  ...\n",
      "  [7.15922142e-05]\n",
      "  [1.43184428e-04]\n",
      "  [1.19320350e-04]]\n",
      "\n",
      " [[8.75015903e-05]\n",
      "  [1.27275038e-04]\n",
      "  [1.75003181e-04]\n",
      "  ...\n",
      "  [6.36375189e-05]\n",
      "  [1.35229726e-04]\n",
      "  [1.43184428e-04]]\n",
      "\n",
      " [[7.15922142e-05]\n",
      "  [1.51139116e-04]\n",
      "  [1.98867259e-04]\n",
      "  ...\n",
      "  [1.35229726e-04]\n",
      "  [1.03410974e-04]\n",
      "  [1.11365662e-04]]\n",
      "\n",
      " ...\n",
      "\n",
      " [[8.35242448e-04]\n",
      "  [1.28865975e-03]\n",
      "  [1.29661453e-03]\n",
      "  ...\n",
      "  [1.51139116e-04]\n",
      "  [2.14776635e-04]\n",
      "  [1.82957869e-04]]\n",
      "\n",
      " [[9.38653422e-04]\n",
      "  [1.44775363e-03]\n",
      "  [1.31252385e-03]\n",
      "  ...\n",
      "  [1.43184428e-04]\n",
      "  [1.67048493e-04]\n",
      "  [1.51139116e-04]]\n",
      "\n",
      " [[7.31831475e-04]\n",
      "  [1.14547543e-03]\n",
      "  [1.08979258e-03]\n",
      "  ...\n",
      "  [7.15922142e-05]\n",
      "  [1.19320350e-04]\n",
      "  [1.03410974e-04]]], shape=(64, 64, 1), dtype=float32)\n"
     ]
    }
   ],
   "source": [
    "print(first_norm)"
   ]
  },
  {
   "cell_type": "code",
   "execution_count": 14,
   "metadata": {},
   "outputs": [
    {
     "name": "stdout",
     "output_type": "stream",
     "text": [
      "0.0 0.002028446\n",
      "1.0\n"
     ]
    }
   ],
   "source": [
    "print(numpy.min(first_norm), numpy.max(first_norm))\n",
    "print(numpy.sum(first_norm))\n",
    "# print(type(numpy.min(first_norm) / tf.reduce_sum(first_norm)), type(numpy.max(first_norm) / tf.reduce_sum(first_norm)))\n",
    "# print(tf.reduce_sum(first_norm / tf.reduce_sum(first_norm)))"
   ]
  }
 ],
 "metadata": {
  "kernelspec": {
   "display_name": "thesis",
   "language": "python",
   "name": "python3"
  },
  "language_info": {
   "codemirror_mode": {
    "name": "ipython",
    "version": 3
   },
   "file_extension": ".py",
   "mimetype": "text/x-python",
   "name": "python",
   "nbconvert_exporter": "python",
   "pygments_lexer": "ipython3",
   "version": "3.10.8"
  }
 },
 "nbformat": 4,
 "nbformat_minor": 2
}
