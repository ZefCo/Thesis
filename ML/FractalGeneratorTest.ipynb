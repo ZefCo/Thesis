{
 "cells": [
  {
   "cell_type": "code",
   "execution_count": 158,
   "metadata": {},
   "outputs": [],
   "source": [
    "import numpy as np\n",
    "import pathlib\n",
    "cwd = pathlib.Path.cwd()\n",
    "import pandas\n",
    "import itertools\n",
    "import os\n",
    "import matplotlib\n",
    "import matplotlib.pyplot as plt\n",
    "import seaborn as snes\n",
    "\n",
    "from PIL import Image\n",
    "import imageio\n",
    "import pickle\n",
    "import GeneClass as Gene\n",
    "import random\n",
    "import shutil\n",
    "\n",
    "kmer = 6\n",
    "# print(np.sqrt(4**kmer))\n",
    "matplotlib.rc('figure', figsize=(1, 1), dpi = np.sqrt(4**kmer))\n"
   ]
  },
  {
   "cell_type": "code",
   "execution_count": 166,
   "metadata": {},
   "outputs": [],
   "source": [
    "def float_for(start: float, stop: float, number_of_steps: int = 10, resolution: int = 1):\n",
    "    '''\n",
    "    does a for loop for floating points.\n",
    "\n",
    "    if the number of steps is odd you will get [start, stop), while if it is odd you will get [start, stop]. Sort of. This is greatly influenced by the resolution.\n",
    "\n",
    "    resolution is how the numbers should be rounded. Since we're dealing with floating points sometimes things can get a little weird.\n",
    "    '''\n",
    "    # steps = int(((stop - start) / step_size) + 1)\n",
    "\n",
    "    step_size = round((stop - start) / number_of_steps, resolution)\n",
    "\n",
    "    print(start, stop, number_of_steps, resolution, step_size)\n",
    "\n",
    "    # for s in range(number_of_steps):\n",
    "    #     yield round(start + s*step_size, resolution)\n",
    "    s = start\n",
    "    # while s < stop:\n",
    "    #     yield s += step_size\n",
    "\n",
    "\n",
    "def save_Image(data: np.ndarray, save: pathlib.Path):\n",
    "    '''\n",
    "    '''\n",
    "    max_norm = data.max()\n",
    "    scale = 255 / max_norm\n",
    "    data = (data * scale).astype(\"uint8\")\n",
    "    image = Image.fromarray(data)\n",
    "    image.save(save)\n",
    "\n",
    "def plot_heatmap_test(data: np.ndarray, save: pathlib.Path = None):\n",
    "    '''\n",
    "    '''\n",
    "    # Seaborn version\n",
    "    plt.close()\n",
    "    ax = snes.heatmap(data, cbar = False)\n",
    "    ax.axis(\"off\")\n",
    "    if isinstance(save, pathlib.Path):\n",
    "        plt.savefig(save, bbox_inches = \"tight\", pad_inches = 0)\n",
    "    plt.show()\n",
    "\n",
    "\n",
    "    # Matplotlib version\n",
    "    # plt.close()\n",
    "    # # plt.margins(x=0)\n",
    "    # fig, ax = plt.subplots()\n",
    "    # plt.imshow(data, cmap='gray', interpolation='nearest')\n",
    "    # plt.axis(\"off\")\n",
    "    # # ax = fig.add_subplot()\n",
    "    # # ax.set_axis_off()\n",
    "    # # plt.colorbar()\n",
    "    # ax.axis(\"tight\")\n",
    "    # if isinstance(save, pathlib.Path):\n",
    "    #     plt.savefig(save)\n",
    "    # plt.show()\n",
    "\n",
    "\n",
    "def plot_heatmap(data: np.ndarray):\n",
    "    '''\n",
    "    '''\n",
    "    plt.close()\n",
    "    plt.imshow(data, cmap='gray', interpolation='nearest')\n",
    "    plt.colorbar()\n",
    "    plt.show()  \n",
    "\n",
    "\n",
    "def plot_image(xy: np.ndarray, save: str = None):\n",
    "    '''\n",
    "    '''\n",
    "    plt.close()\n",
    "    fig = plt.figure()\n",
    "    ax = fig.add_subplot()\n",
    "    ax.set_axis_off()\n",
    "    plt.scatter(xy[:, 0], xy[:, 1], color = \"black\", s = 0.01)\n",
    "\n",
    "    if isinstance(save, pathlib.Path):\n",
    "        fig.savefig(str(save))\n",
    "    else:\n",
    "        fig.show()\n",
    "\n",
    "\n",
    "\n",
    "def gaussian(xy: np.ndarray, t: np.ndarray, delta: int = 2, *args, **kwargs) -> np.array:\n",
    "    '''\n",
    "    Takes in two arrays, a point-set array and a grid array. The xy should be a Nx2 size vector:\n",
    "\n",
    "    N = number of points\n",
    "   means [x, y]\n",
    "\n",
    "    while the tz one is a 1D vector [t] that represents one column/row. It will iterate across this as such:\n",
    "    for tx in t:\n",
    "        for ty in t:\n",
    "            T = tx X + ty Y\n",
    "\n",
    "    delta is how many steps to take on the grid. the conversion from delta to sigma is:\n",
    "    sigma = delta * (1 - 0) / (grid length)\n",
    "\n",
    "    Look over the notes you took with Dr G... something is confusing about the normalization\n",
    "    '''\n",
    "    if isinstance(delta, int):\n",
    "        if delta < 1:\n",
    "            delta = 1 # in case someone puts in a sigma value of 0\n",
    "        sigma = t[delta]  # it actually just pulls from the delta row to get the step size\n",
    "    elif isinstance(delta, float):\n",
    "        sigma = delta\n",
    "\n",
    "    sigma_sqr = np.dot(sigma, sigma)\n",
    "\n",
    "    m = t.shape[0]\n",
    "    field = np.zeros((m, m))\n",
    "    N = xy.shape[0]\n",
    "    # N = m * m\n",
    "\n",
    "    for x in xy:\n",
    "        P = list()\n",
    "        Np = 0\n",
    "        for ix, tx in enumerate(t):\n",
    "            for iy, ty in enumerate(t[::-1]):\n",
    "                T = np.array([tx, ty])\n",
    "                d = np.linalg.norm(x - T)\n",
    "                if d < sigma:\n",
    "                    p = np.exp((-1/2) * np.dot(d, d) / sigma_sqr)\n",
    "                    Np += p\n",
    "                    P.append([p, iy, ix])\n",
    "\n",
    "        for p in P:\n",
    "            field[p[1], p[2]] += p[0] / Np\n",
    "\n",
    "\n",
    "    print(field)\n",
    "    print(np.sum(field))\n",
    "\n",
    "    field = field / N\n",
    "\n",
    "    return field\n",
    "\n",
    "\n",
    "def time_embedding(sequence: str, \n",
    "                      k_p: int = 6, k_m: int = 6, gap: int = 0, \n",
    "                      m_backwards: bool = True, p_backwards: bool = False, \n",
    "                      nucsequence: str = \"AGTC\",\n",
    "                      *args, **kwargs):\n",
    "    '''\n",
    "    Feeds in a sequence, and it finds the xy coordinates for that sequence.\n",
    "\n",
    "    The nucleotide to number order can be altered. By default it is A = 0, G = 1, T = 2, C = 3. To alter it just feed in a new str with your prefered order. The first index is 0, the next\n",
    "    index is 1, and so on.\n",
    "\n",
    "    There is an option for the compliment strand: probably should never be used.\n",
    "    '''\n",
    "    sequence = sequence.upper()\n",
    "    nucsequence = nucsequence.upper() # Just in case someone puts in a different order and forgets to capitalize everything\n",
    "    seq_length = len(sequence)\n",
    "\n",
    "    if seq_length < (k_m + k_p + abs(gap)):  # I'm making this an |gap| becuase I don't want to think about how it should be done if g < 0. It has to be a certain length, and that length needs to be long.\n",
    "        print(\"Cannont find Trajectory for this gene: to small\")\n",
    "        return None\n",
    "\n",
    "    w_p = [(0.25)**n for n in range(1, k_p + 1)]\n",
    "    w_m = [(0.25)**n for n in range(1, k_m + 1)]\n",
    "\n",
    "    if m_backwards:\n",
    "        w_m.reverse()\n",
    "    if p_backwards:\n",
    "        w_p.reverse()\n",
    "\n",
    "    xy = np.zeros(shape=(seq_length - (k_p + k_m + gap), 2))\n",
    "\n",
    "    k_minus = [sequence[k_prime:k_prime + k_m] for k_prime in range(0, seq_length - (k_p + k_m + gap))]\n",
    "    k_plus = [sequence[k_prime:k_prime + k_p] for k_prime in range(gap + k_m, seq_length - k_p)]\n",
    "\n",
    "    for i, k_prime in enumerate(k_minus):\n",
    "        n = [0 if n in nucsequence[0] else 1 if n in nucsequence[1] else 2 if n in nucsequence[2] else 3 if n in nucsequence[3] else 100 for n in k_prime]\n",
    "        k_x = np.dot(w_m, n)\n",
    "\n",
    "        n = [0 if n in nucsequence[0] else 1 if n in nucsequence[1] else 2 if n in nucsequence[2] else 3 if n in nucsequence[3] else 100 for n in k_plus[i]]\n",
    "        k_y = np.dot(w_p, n)\n",
    "\n",
    "        xy[i][0], xy[i][1] = k_y, k_x\n",
    "\n",
    "    return xy\n"
   ]
  },
  {
   "cell_type": "code",
   "execution_count": 137,
   "metadata": {},
   "outputs": [],
   "source": [
    "xy = np.random.rand(50,2)"
   ]
  },
  {
   "cell_type": "code",
   "execution_count": 138,
   "metadata": {},
   "outputs": [
    {
     "data": {
      "image/png": "[encoded data removed]",
      "text/plain": [
       "<Figure size 384x384 with 1 Axes>"
      ]
     },
     "metadata": {},
     "output_type": "display_data"
    }
   ],
   "source": [
    "plot_image(xy, save = cwd / \"Fractal_Random.png\")"
   ]
  },
  {
   "cell_type": "code",
   "execution_count": 139,
   "metadata": {},
   "outputs": [
    {
     "name": "stdout",
     "output_type": "stream",
     "text": [
      "[0.       0.015625 0.03125  0.046875 0.0625   0.078125 0.09375  0.109375\n",
      " 0.125    0.140625 0.15625  0.171875 0.1875   0.203125 0.21875  0.234375\n",
      " 0.25     0.265625 0.28125  0.296875 0.3125   0.328125 0.34375  0.359375\n",
      " 0.375    0.390625 0.40625  0.421875 0.4375   0.453125 0.46875  0.484375\n",
      " 0.5      0.515625 0.53125  0.546875 0.5625   0.578125 0.59375  0.609375\n",
      " 0.625    0.640625 0.65625  0.671875 0.6875   0.703125 0.71875  0.734375\n",
      " 0.75     0.765625 0.78125  0.796875 0.8125   0.828125 0.84375  0.859375\n",
      " 0.875    0.890625 0.90625  0.921875 0.9375   0.953125 0.96875  0.984375]\n",
      "64\n",
      "0.015625\n"
     ]
    }
   ],
   "source": [
    "scale = 10**-6\n",
    "\n",
    "\n",
    "# something = float_for(0, 1, number_of_steps=10, resolution=1)\n",
    "delta = (1 - 0) / np.sqrt(4**kmer)\n",
    "grid = np.arange(0, 1, delta)\n",
    "\n",
    "# something = list()\n",
    "# for x in grid:\n",
    "#     for y in grid:\n",
    "#         something.append([x, y])  # Can't really figure out how to do this via list comprehension.\n",
    "\n",
    "# grid = np.array(something)\n",
    "print(grid)\n",
    "print(grid.shape[0])\n",
    "# print(grid[1][1])\n",
    "# print(grid[grid.shape[0] - 1][1] + grid[1][1])\n",
    "print((1 - 0) / np.sqrt(4**kmer))\n",
    "# sigma = 3\n",
    "# sigma_squared = np.dot(sigma, sigma)\n",
    "# n = 1 / np.sqrt(2 * np.pi * sigma)\n",
    "# N = xy.shape[0]\n",
    "# N = n / N"
   ]
  },
  {
   "cell_type": "code",
   "execution_count": 140,
   "metadata": {},
   "outputs": [
    {
     "name": "stdout",
     "output_type": "stream",
     "text": [
      "1.0\n"
     ]
    },
    {
     "data": {
      "image/png": "[encoded data removed]",
      "text/plain": [
       "<Figure size 384x384 with 2 Axes>"
      ]
     },
     "metadata": {},
     "output_type": "display_data"
    },
    {
     "data": {
      "image/png": "[encoded data removed]",
      "text/plain": [
       "<Figure size 384x384 with 1 Axes>"
      ]
     },
     "metadata": {},
     "output_type": "display_data"
    }
   ],
   "source": [
    "something: np.ndarray = gaussian(xy, grid, delta = 2)\n",
    "print(something.sum())\n",
    "plot_heatmap(something)\n",
    "plot_heatmap_test(something)"
   ]
  },
  {
   "cell_type": "code",
   "execution_count": 141,
   "metadata": {},
   "outputs": [],
   "source": [
    "exon_sample = \"GCTGGAGCTGCCCGCCGACCTCCTGCGGCAGAAGGAGCTGGAGAGCGCGCGCCCACAGCTGCTGGCGCCCGAGACCGCCCTGCGCCCCAACGACGGCGCCGAGGAGCTGCAGCGGCGCGGGGCCCTGCTGGTGCTGAACCACGGCGCGGCGCCACTGCTGGCCCTGCCCCCCCAGGGGCCCCCGGGCTCCGGACCCCCCACCCCGTCCCGGGACTCTGCCCGGCGAGCCCCCCGGAAGGGGGGTCCCGGCCCTGCCTCAGCGCGGCCCAGCGAGTCCAAGGAGATGACGGGGGCTAGGCTCTGGGCACAAGATGGCTCGGAAGACGAGCCCCCCAAAGACTCGGACGGAGAGGACCCCGAGACGGCAGCTGTTGGGTGCAGGGGGCCCACTCCGGGCCAAGCTCCAGCTGGAGGGGCCGGCGCCGAGGGGAAGGGGCTTTTCCCAGGGTCCACACTGCCCCTGGGCTTCCCTTATGCCGTCAGCCCCTACTTCCACACAG\"\n",
    "exon_save = cwd / \"GHM_Exon_2.png\"\n",
    "intron_sample = \"gtgaggacccaccctggcatgatctcccctcatcacctccccagccacatgtactcggccattcctgttgctgaggccctgctgacaccaaggccaggctggatgcaggtccctctgccacacgtcctgccccatgccccctggggcgggccacacctccatgtcccctaggtccccagggtcatgactagctcacattttatatagagagaaatggagtctggggtggacccaggtgagggtgggcagtgggcatgtcagcagcaccccccgaggagagcaagctcctggaccctgtggtctgtgagtcgtctatgcagccagtggacgccgacctgccagacgcctgccccaggagcctggggaggggcagtgagcagaaaggccgggctgggtgcagtgggcacttggccaccaggactccccaggtgctgaagagacgccagctggaggggctgccccttcccccgggtcggccctgaccctgtccaccccacctcaggacgttctccaggggtccctccgggatgcactcggaccccctgcccgctgcactcagcctcccaggccccagccgcccgcctggcaggggagcttggcttttcgggctagaggtgggtgggggcgccgggaaaggaggcaggattcctcacaccaggcaccgtcccccagggcagctcaggcaccaagagcctgaataattcaccaaatgttaataatgtaaaaatcctcctttttaattgctttccctgctctgcctggggccgctctgctggccgcgcgggggaggggcgccggccgccggggagcgcgctgtcaatcaggccgcgccgccgccccccccccccgccccgccgcggagccggccgtaaataaccctgtaactaacccggccgctagcgcgggggcgctgggccccgctgggatcgatgcgggcggccgcgccggctgggctctgcgggctggcacccggcccggggcgggacccacctccgctttcgggtaattaatttataaacagaggcggcggtggagctggcggagcctgcatagtgggggctgcggggactcgggaggcccgggcgggagggagaggccgagagacctgggacgcggcgccttagacgcgggcgctgcgtgcgcattggggcgagtgtggccacgcgggacagtgaccctgcgcagccgggactgggcgacccctgtgctagtgtggcgtgcgtgcgcgggcgctgccttgcctttgtgacaagctttggccagccgcgtctactatggggacctcagattttcttgcctcccaccgaagagggggtcccctgggcggtcagcccctggctggcacttctggactctctcgctgccccgcaggctctgtggcctcgggacgtctgcacagccccctccccgcaaggctcagccgcctctcaggccggaagcctccaggcacccggctccccttcggggaagagcttttcccgacacttcctcgcccagcatcttgtctgccgtctcggccctgtggccgcccatcctcctgccccgtgcccgagaccagcccaggggccgagcacggccgagtggtgtggtcagttccccacctcagtgttctacgccaggacgcgggctggggaggatgagggcgcatagccggggggatcactgctgttgtcccccacccag\"\n",
    "intron_save = cwd / \"GHM_Intron_2.png\"\n",
    "# intergenomic_sample = \"\"\n",
    "# intergenomic = time_embedding(intergenomic_sample)\n"
   ]
  },
  {
   "cell_type": "markdown",
   "metadata": {},
   "source": [
    "Exons\n",
    "\n",
    "2 Lattice Sites"
   ]
  },
  {
   "cell_type": "code",
   "execution_count": 167,
   "metadata": {},
   "outputs": [
    {
     "name": "stdout",
     "output_type": "stream",
     "text": [
      "[[0.46319092 0.52616293 0.6027603  ... 1.30476647 2.32014971 2.41652709]\n",
      " [0.0916262  0.19527359 0.19833802 ... 0.93333312 1.80926217 2.6511017 ]\n",
      " [0.13687347 0.17896198 0.18346199 ... 0.46586673 1.14142523 1.42160824]\n",
      " ...\n",
      " [0.         0.         0.         ... 0.09704867 0.08204303 0.        ]\n",
      " [0.         0.         0.         ... 0.09224346 0.0779808  0.        ]\n",
      " [0.         0.         0.         ... 0.06828227 0.         0.        ]]\n",
      "488.0\n"
     ]
    },
    {
     "data": {
      "image/png": "[encoded data removed]",
      "text/plain": [
       "<Figure size 64x64 with 1 Axes>"
      ]
     },
     "metadata": {},
     "output_type": "display_data"
    }
   ],
   "source": [
    "exon = time_embedding(exon_sample.upper())\n",
    "exon_test = gaussian(exon, grid, delta = 2)\n",
    "plot_image(exon, save = cwd / \"Fractal_Exon.png\")\n",
    "plot_heatmap_test(exon_test) #, save = exon_save)\n",
    "save_Image(exon_test, exon_save)"
   ]
  },
  {
   "cell_type": "markdown",
   "metadata": {},
   "source": [
    "3 Lattice Sites"
   ]
  },
  {
   "cell_type": "code",
   "execution_count": 143,
   "metadata": {},
   "outputs": [
    {
     "data": {
      "image/png": "[encoded data removed]",
      "text/plain": [
       "<Figure size 384x384 with 1 Axes>"
      ]
     },
     "metadata": {},
     "output_type": "display_data"
    }
   ],
   "source": [
    "exon = time_embedding(exon_sample.upper())\n",
    "exon_test = gaussian(exon, grid, delta = 3)\n",
    "plot_heatmap_test(exon_test)"
   ]
  },
  {
   "cell_type": "markdown",
   "metadata": {},
   "source": [
    "Introns\n",
    "\n",
    "2 Lattice Sites"
   ]
  },
  {
   "cell_type": "code",
   "execution_count": 153,
   "metadata": {},
   "outputs": [
    {
     "name": "stdout",
     "output_type": "stream",
     "text": [
      "[[0.         0.         0.         ... 3.62587251 4.60104566 9.81958777]\n",
      " [0.23355024 0.26535541 0.23670609 ... 3.04961457 4.30243822 4.1768864 ]\n",
      " [0.27519187 0.31306528 0.27961845 ... 1.7569089  2.62103862 3.33510985]\n",
      " ...\n",
      " [0.10364716 0.10990168 0.18320199 ... 0.         0.28946666 0.3705321 ]\n",
      " [0.08328283 0.08830848 0.18887753 ... 0.         0.13790071 0.30207846]\n",
      " [0.         0.         0.11326661 ... 0.         0.         0.        ]]\n",
      "1671.0\n"
     ]
    },
    {
     "data": {
      "image/png": "[encoded data removed]",
      "text/plain": [
       "<Figure size 384x384 with 1 Axes>"
      ]
     },
     "metadata": {},
     "output_type": "display_data"
    }
   ],
   "source": [
    "intron = time_embedding(intron_sample.upper())\n",
    "\n",
    "intron_test = gaussian(intron, grid, delta = 2)\n",
    "plot_image(intron, save = cwd / \"Fractal_Intron.png\")\n",
    "plot_heatmap_test(intron_test, save = intron_save)"
   ]
  },
  {
   "cell_type": "markdown",
   "metadata": {},
   "source": [
    "3 Lattice Sites"
   ]
  },
  {
   "cell_type": "code",
   "execution_count": 145,
   "metadata": {},
   "outputs": [
    {
     "data": {
      "image/png": "[encoded data removed]",
      "text/plain": [
       "<Figure size 384x384 with 1 Axes>"
      ]
     },
     "metadata": {},
     "output_type": "display_data"
    }
   ],
   "source": [
    "intron = time_embedding(intron_sample.upper())\n",
    "\n",
    "intron_test = gaussian(intron, grid, delta = 3)\n",
    "plot_heatmap_test(intron_test)"
   ]
  },
  {
   "cell_type": "markdown",
   "metadata": {},
   "source": [
    "Reopen and Close images\n",
    "\n",
    "Want to see how the values change based on the png file format"
   ]
  },
  {
   "cell_type": "code",
   "execution_count": 168,
   "metadata": {},
   "outputs": [
    {
     "name": "stdout",
     "output_type": "stream",
     "text": [
      "(64, 64)\n",
      "1.0\n",
      "[[0.00094916 0.0010782  0.00123516 ... 0.0026737  0.00475441 0.0049519 ]\n",
      " [0.00018776 0.00040015 0.00040643 ... 0.00191257 0.0037075  0.00543259]\n",
      " [0.00028048 0.00036673 0.00037595 ... 0.00095464 0.00233899 0.00291313]\n",
      " ...\n",
      " [0.         0.         0.         ... 0.00019887 0.00016812 0.        ]\n",
      " [0.         0.         0.         ... 0.00018902 0.0001598  0.        ]\n",
      " [0.         0.         0.         ... 0.00013992 0.         0.        ]]\n",
      "[[0.24203624 0.2749417  0.31496696 ... 0.68179395 1.21237331 1.26273444]\n",
      " [0.04787845 0.10203845 0.10363974 ... 0.48770481 0.94541363 1.38530929]\n",
      " [0.071522   0.09351497 0.09586641 ... 0.24343446 0.59644146 0.74284857]\n",
      " ...\n",
      " [0.         0.         0.         ... 0.05071191 0.04287085 0.        ]\n",
      " [0.         0.         0.         ... 0.04820099 0.04074816 0.        ]\n",
      " [0.         0.         0.         ... 0.03568028 0.         0.        ]]\n",
      "254.99999999999997\n"
     ]
    }
   ],
   "source": [
    "print(exon_test.shape)\n",
    "print(np.sum(exon_test))\n",
    "print(exon_test)\n",
    "\n",
    "print(exon_test * 255)\n",
    "print(np.sum(exon_test * 255))"
   ]
  },
  {
   "cell_type": "code",
   "execution_count": 169,
   "metadata": {},
   "outputs": [
    {
     "name": "stdout",
     "output_type": "stream",
     "text": [
      "(64, 64)\n",
      "[[ 44  50  57 ... 125 223 232]\n",
      " [  8  18  19 ...  89 174 255]\n",
      " [ 13  17  17 ...  44 109 136]\n",
      " ...\n",
      " [  0   0   0 ...   9   7   0]\n",
      " [  0   0   0 ...   8   7   0]\n",
      " [  0   0   0 ...   6   0   0]]\n",
      "45834\n"
     ]
    }
   ],
   "source": [
    "exon_png = Image.open(exon_save)\n",
    "exon_png2np = np.asarray(exon_png)\n",
    "print(exon_png2np.shape)\n",
    "print(exon_png2np)\n",
    "print(np.sum(exon_png2np))"
   ]
  }
 ],
 "metadata": {
  "kernelspec": {
   "display_name": "thesis",
   "language": "python",
   "name": "python3"
  },
  "language_info": {
   "codemirror_mode": {
    "name": "ipython",
    "version": 3
   },
   "file_extension": ".py",
   "mimetype": "text/x-python",
   "name": "python",
   "nbconvert_exporter": "python",
   "pygments_lexer": "ipython3",
   "version": "3.10.8"
  }
 },
 "nbformat": 4,
 "nbformat_minor": 2
}
