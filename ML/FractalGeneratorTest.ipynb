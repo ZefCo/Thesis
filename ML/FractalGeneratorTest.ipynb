{
 "cells": [
  {
   "cell_type": "code",
   "execution_count": 1,
   "metadata": {},
   "outputs": [],
   "source": [
    "import numpy as np\n",
    "import pathlib\n",
    "cwd = pathlib.Path.cwd()\n",
    "import pandas\n",
    "import itertools\n",
    "import os\n",
    "import matplotlib\n",
    "import matplotlib.pyplot as plt\n",
    "import seaborn as snes\n",
    "\n",
    "from PIL import Image\n",
    "import imageio\n",
    "import pickle\n",
    "import GeneClass as Gene\n",
    "import random\n",
    "import shutil\n",
    "\n",
    "kmer = 6\n",
    "# print(np.sqrt(4**kmer))\n",
    "matplotlib.rc('figure', figsize=(6, 6), dpi = np.sqrt(4**kmer))\n"
   ]
  },
  {
   "cell_type": "code",
   "execution_count": 2,
   "metadata": {},
   "outputs": [],
   "source": [
    "def float_for(start: float, stop: float, number_of_steps: int = 10, resolution: int = 1):\n",
    "    '''\n",
    "    does a for loop for floating points.\n",
    "\n",
    "    if the number of steps is odd you will get [start, stop), while if it is odd you will get [start, stop]. Sort of. This is greatly influenced by the resolution.\n",
    "\n",
    "    resolution is how the numbers should be rounded. Since we're dealing with floating points sometimes things can get a little weird.\n",
    "    '''\n",
    "    # steps = int(((stop - start) / step_size) + 1)\n",
    "\n",
    "    step_size = round((stop - start) / number_of_steps, resolution)\n",
    "\n",
    "    print(start, stop, number_of_steps, resolution, step_size)\n",
    "\n",
    "    # for s in range(number_of_steps):\n",
    "    #     yield round(start + s*step_size, resolution)\n",
    "    s = start\n",
    "    # while s < stop:\n",
    "    #     yield s += step_size\n",
    "\n",
    "\n",
    "def save_Image(data: np.ndarray, save: pathlib.Path):\n",
    "    '''\n",
    "    '''\n",
    "    max_norm = data.max()\n",
    "    scale = 255 / max_norm\n",
    "    data = (data * scale).astype(\"uint8\")\n",
    "    image = Image.fromarray(data)\n",
    "    image.save(save)\n",
    "\n",
    "def plot_heatmap_test(data: np.ndarray, save: pathlib.Path = None):\n",
    "    '''\n",
    "    '''\n",
    "    # Seaborn version\n",
    "    plt.close()\n",
    "    ax = snes.heatmap(data, cbar = False, cmap=\"Greys_r\")\n",
    "    ax.axis(\"off\")\n",
    "    if isinstance(save, pathlib.Path):\n",
    "        plt.savefig(save, bbox_inches = \"tight\", pad_inches = 0)\n",
    "    plt.show()\n",
    "\n",
    "\n",
    "    # Matplotlib version\n",
    "    # plt.close()\n",
    "    # # plt.margins(x=0)\n",
    "    # fig, ax = plt.subplots()\n",
    "    # plt.imshow(data, cmap='gray', interpolation='nearest')\n",
    "    # plt.axis(\"off\")\n",
    "    # # ax = fig.add_subplot()\n",
    "    # # ax.set_axis_off()\n",
    "    # # plt.colorbar()\n",
    "    # ax.axis(\"tight\")\n",
    "    # if isinstance(save, pathlib.Path):\n",
    "    #     plt.savefig(save)\n",
    "    # plt.show()\n",
    "\n",
    "\n",
    "def plot_heatmap(data: np.ndarray):\n",
    "    '''\n",
    "    '''\n",
    "    plt.close()\n",
    "    plt.imshow(data, cmap='gray', interpolation='nearest')\n",
    "    plt.colorbar()\n",
    "    plt.show()  \n",
    "\n",
    "\n",
    "def plot_image(xy: np.ndarray, save: str = None):\n",
    "    '''\n",
    "    '''\n",
    "    plt.close()\n",
    "    fig = plt.figure()\n",
    "    ax = fig.add_subplot()\n",
    "    ax.set_axis_off()\n",
    "    plt.scatter(xy[:, 0], xy[:, 1], color = \"black\", s = 0.5)\n",
    "\n",
    "    if isinstance(save, pathlib.Path):\n",
    "        fig.savefig(str(save))\n",
    "    else:\n",
    "        fig.show()\n",
    "\n",
    "\n",
    "\n",
    "def gaussian(xy: np.ndarray, t: np.ndarray, delta: int = 2, *args, **kwargs) -> np.array:\n",
    "    '''\n",
    "    Takes in two arrays, a point-set array and a grid array. The xy should be a Nx2 size vector:\n",
    "\n",
    "    N = number of points\n",
    "   means [x, y]\n",
    "\n",
    "    while the tz one is a 1D vector [t] that represents one column/row. It will iterate across this as such:\n",
    "    for tx in t:\n",
    "        for ty in t:\n",
    "            T = tx X + ty Y\n",
    "\n",
    "    delta is how many steps to take on the grid. the conversion from delta to sigma is:\n",
    "    sigma = delta * (1 - 0) / (grid length)\n",
    "\n",
    "    Look over the notes you took with Dr G... something is confusing about the normalization\n",
    "    '''\n",
    "    if isinstance(delta, int):\n",
    "        if delta < 1:\n",
    "            delta = 1 # in case someone puts in a sigma value of 0\n",
    "        sigma = t[delta]  # it actually just pulls from the delta row to get the step size\n",
    "    elif isinstance(delta, float):\n",
    "        sigma = delta\n",
    "\n",
    "    sigma_sqr = np.dot(sigma, sigma)\n",
    "\n",
    "    m = t.shape[0]\n",
    "    field = np.zeros((m, m))\n",
    "    N = xy.shape[0]\n",
    "    # N = m * m\n",
    "\n",
    "    for x in xy:\n",
    "        P = list()\n",
    "        Np = 0\n",
    "        for ix, tx in enumerate(t):\n",
    "            for iy, ty in enumerate(t[::-1]):\n",
    "                T = np.array([tx, ty])\n",
    "                d = np.linalg.norm(x - T)\n",
    "                if d < sigma:\n",
    "                    p = np.exp((-1/2) * np.dot(d, d) / sigma_sqr)\n",
    "                    Np += p\n",
    "                    P.append([p, iy, ix])\n",
    "\n",
    "        for p in P:\n",
    "            field[p[1], p[2]] += p[0] / Np\n",
    "\n",
    "\n",
    "    # print(field)\n",
    "    # print(np.sum(field))\n",
    "\n",
    "    field = field / N\n",
    "\n",
    "    return field\n",
    "\n",
    "\n",
    "def gaussian_optimized(xy: np.ndarray, t: np.ndarray, delta: int = 2, *args, **kwargs) -> np.array:\n",
    "    '''\n",
    "    Takes in two arrays, a point-set array and a grid array. The xy should be a Nx2 size vector:\n",
    "\n",
    "    N = number of points\n",
    "   means [x, y]\n",
    "\n",
    "    while the tz one is a 1D vector [t] that represents one column/row. It will iterate across this as such:\n",
    "    for tx in t:\n",
    "        for ty in t:\n",
    "            T = tx X + ty Y\n",
    "\n",
    "    delta is how many steps to take on the grid. the conversion from delta to sigma is:\n",
    "    sigma = delta * (1 - 0) / (grid length)\n",
    "\n",
    "    Look over the notes you took with Dr G... something is confusing about the normalization\n",
    "    '''\n",
    "    if isinstance(delta, int):\n",
    "        if delta < 1:\n",
    "            delta = 1 # in case someone puts in a sigma value of 0\n",
    "        sigma = t[delta]  # it actually just pulls from the delta row to get the step size\n",
    "    elif isinstance(delta, float):\n",
    "        sigma = delta\n",
    "\n",
    "    sigma_sqr = np.dot(sigma, sigma)\n",
    "\n",
    "    m = t.shape[0]\n",
    "    field = np.zeros((m, m))\n",
    "    N = xy.shape[0]\n",
    "    N = m * m\n",
    "\n",
    "    G = [[x, y] for x in t for y in t]\n",
    "    G = np.array(G)\n",
    "\n",
    "    for gi, g in enumerate(G):\n",
    "        D = np.linalg.norm(g - xy, axis = 1)\n",
    "        D = D[D < sigma]\n",
    "        p = np.sum(np.exp((-1/2) * np.power(D, 2) / sigma_sqr))\n",
    "        iy, ix = int(gi / m), gi % m\n",
    "        field[ix, iy] += p\n",
    "\n",
    "    field = field / np.sum(field)\n",
    "    field = np.flip(field, axis = 0)  # for some reason it's flipped on the y axis. Probably beause the bottom is the top is row 0 but we want the bottom to be row 0\n",
    "\n",
    "    return field\n",
    "\n",
    "\n",
    "def time_embedding(sequence: str, \n",
    "                      k_p: int = 6, k_m: int = 6, gap: int = 0, \n",
    "                      m_backwards: bool = True, p_backwards: bool = False, \n",
    "                      nucsequence: str = \"AGTC\",\n",
    "                      *args, **kwargs):\n",
    "    '''\n",
    "    Feeds in a sequence, and it finds the xy coordinates for that sequence.\n",
    "\n",
    "    The nucleotide to number order can be altered. By default it is A = 0, G = 1, T = 2, C = 3. To alter it just feed in a new str with your prefered order. The first index is 0, the next\n",
    "    index is 1, and so on.\n",
    "\n",
    "    There is an option for the compliment strand: probably should never be used.\n",
    "    '''\n",
    "    sequence = sequence.upper()\n",
    "    nucsequence = nucsequence.upper() # Just in case someone puts in a different order and forgets to capitalize everything\n",
    "    seq_length = len(sequence)\n",
    "\n",
    "    if seq_length < (k_m + k_p + abs(gap)):  # I'm making this an |gap| becuase I don't want to think about how it should be done if g < 0. It has to be a certain length, and that length needs to be long.\n",
    "        print(\"Cannont find Trajectory for this gene: to small\")\n",
    "        return None\n",
    "\n",
    "    w_p = [(0.25)**n for n in range(1, k_p + 1)]\n",
    "    w_m = [(0.25)**n for n in range(1, k_m + 1)]\n",
    "\n",
    "    if m_backwards:\n",
    "        w_m.reverse()\n",
    "    if p_backwards:\n",
    "        w_p.reverse()\n",
    "\n",
    "    xy = np.zeros(shape=(seq_length - (k_p + k_m + gap), 2))\n",
    "\n",
    "    k_minus = [sequence[k_prime:k_prime + k_m] for k_prime in range(0, seq_length - (k_p + k_m + gap))]\n",
    "    k_plus = [sequence[k_prime:k_prime + k_p] for k_prime in range(gap + k_m, seq_length - k_p)]\n",
    "\n",
    "    for i, k_prime in enumerate(k_minus):\n",
    "        n = [0 if n in nucsequence[0] else 1 if n in nucsequence[1] else 2 if n in nucsequence[2] else 3 if n in nucsequence[3] else 100 for n in k_prime]\n",
    "        k_x = np.dot(w_m, n)\n",
    "\n",
    "        n = [0 if n in nucsequence[0] else 1 if n in nucsequence[1] else 2 if n in nucsequence[2] else 3 if n in nucsequence[3] else 100 for n in k_plus[i]]\n",
    "        k_y = np.dot(w_p, n)\n",
    "\n",
    "        xy[i][0], xy[i][1] = k_y, k_x\n",
    "\n",
    "    return xy\n"
   ]
  },
  {
   "cell_type": "code",
   "execution_count": 3,
   "metadata": {},
   "outputs": [],
   "source": [
    "xy = np.random.rand(50,2)"
   ]
  },
  {
   "cell_type": "code",
   "execution_count": 4,
   "metadata": {},
   "outputs": [
    {
     "data": {
      "image/png": "[encoded data removed]",
      "text/plain": [
       "<Figure size 384x384 with 1 Axes>"
      ]
     },
     "metadata": {},
     "output_type": "display_data"
    }
   ],
   "source": [
    "plot_image(xy, save = cwd / \"Fractal_Random.png\")"
   ]
  },
  {
   "cell_type": "code",
   "execution_count": 5,
   "metadata": {},
   "outputs": [
    {
     "name": "stdout",
     "output_type": "stream",
     "text": [
      "[[1. 4. 0.]\n",
      " [0. 1. 0.]\n",
      " [0. 0. 3.]]\n",
      "[[0. 0. 3.]\n",
      " [0. 1. 0.]\n",
      " [1. 4. 0.]]\n",
      "1.0\n"
     ]
    },
    {
     "data": {
      "image/png": "[encoded data removed]",
      "text/plain": [
       "<Figure size 384x384 with 2 Axes>"
      ]
     },
     "metadata": {},
     "output_type": "display_data"
    }
   ],
   "source": [
    "scale = 10**-6\n",
    "\n",
    "# something = float_for(0, 1, number_of_steps=10, resolution=1)\n",
    "delta = (1 - 0) / np.sqrt(4**kmer)\n",
    "grid = np.arange(0, 1, delta)\n",
    "\n",
    "# something = list()\n",
    "# for x in grid:\n",
    "#     for y in grid:\n",
    "#         something.append([x, y])  # Can't really figure out how to do this via list comprehension.\n",
    "\n",
    "# grid = np.array(something)\n",
    "# print(grid)\n",
    "# print(grid.shape[0])\n",
    "# print(grid[1][1])\n",
    "# print(grid[grid.shape[0] - 1][1] + grid[1][1])\n",
    "# print((1 - 0) / np.sqrt(4**kmer))\n",
    "# sigma = 3\n",
    "# sigma_squared = np.dot(sigma, sigma)\n",
    "# n = 1 / np.sqrt(2 * np.pi * sigma)\n",
    "# N = xy.shape[0]\n",
    "# N = n / N\n",
    "\n",
    "diag = np.zeros((3, 3))\n",
    "diag[0, 0], diag[1, 1], diag[2, 2] = 1, 1, 3\n",
    "diag[0, 1] = 4\n",
    "print(diag)\n",
    "diag = np.flip(diag, axis = 0)\n",
    "print(diag)\n",
    "\n",
    "something = gaussian_optimized(xy, grid)\n",
    "print(something.sum())\n",
    "plot_heatmap(something)"
   ]
  },
  {
   "cell_type": "code",
   "execution_count": 6,
   "metadata": {},
   "outputs": [
    {
     "name": "stdout",
     "output_type": "stream",
     "text": [
      "1.0\n"
     ]
    },
    {
     "data": {
      "image/png": "[encoded data removed]",
      "text/plain": [
       "<Figure size 384x384 with 2 Axes>"
      ]
     },
     "metadata": {},
     "output_type": "display_data"
    },
    {
     "data": {
      "image/png": "[encoded data removed]",
      "text/plain": [
       "<Figure size 384x384 with 1 Axes>"
      ]
     },
     "metadata": {},
     "output_type": "display_data"
    }
   ],
   "source": [
    "something: np.ndarray = gaussian(xy, grid, delta = 2)\n",
    "print(something.sum())\n",
    "plot_heatmap(something)\n",
    "plot_heatmap_test(something)"
   ]
  },
  {
   "cell_type": "code",
   "execution_count": 7,
   "metadata": {},
   "outputs": [],
   "source": [
    "exon_sample = \"GCTGGAGCTGCCCGCCGACCTCCTGCGGCAGAAGGAGCTGGAGAGCGCGCGCCCACAGCTGCTGGCGCCCGAGACCGCCCTGCGCCCCAACGACGGCGCCGAGGAGCTGCAGCGGCGCGGGGCCCTGCTGGTGCTGAACCACGGCGCGGCGCCACTGCTGGCCCTGCCCCCCCAGGGGCCCCCGGGCTCCGGACCCCCCACCCCGTCCCGGGACTCTGCCCGGCGAGCCCCCCGGAAGGGGGGTCCCGGCCCTGCCTCAGCGCGGCCCAGCGAGTCCAAGGAGATGACGGGGGCTAGGCTCTGGGCACAAGATGGCTCGGAAGACGAGCCCCCCAAAGACTCGGACGGAGAGGACCCCGAGACGGCAGCTGTTGGGTGCAGGGGGCCCACTCCGGGCCAAGCTCCAGCTGGAGGGGCCGGCGCCGAGGGGAAGGGGCTTTTCCCAGGGTCCACACTGCCCCTGGGCTTCCCTTATGCCGTCAGCCCCTACTTCCACACAG\"\n",
    "exon_save = cwd / \"GHM_Exon_2.png\"\n",
    "intron_sample = \"gtgaggacccaccctggcatgatctcccctcatcacctccccagccacatgtactcggccattcctgttgctgaggccctgctgacaccaaggccaggctggatgcaggtccctctgccacacgtcctgccccatgccccctggggcgggccacacctccatgtcccctaggtccccagggtcatgactagctcacattttatatagagagaaatggagtctggggtggacccaggtgagggtgggcagtgggcatgtcagcagcaccccccgaggagagcaagctcctggaccctgtggtctgtgagtcgtctatgcagccagtggacgccgacctgccagacgcctgccccaggagcctggggaggggcagtgagcagaaaggccgggctgggtgcagtgggcacttggccaccaggactccccaggtgctgaagagacgccagctggaggggctgccccttcccccgggtcggccctgaccctgtccaccccacctcaggacgttctccaggggtccctccgggatgcactcggaccccctgcccgctgcactcagcctcccaggccccagccgcccgcctggcaggggagcttggcttttcgggctagaggtgggtgggggcgccgggaaaggaggcaggattcctcacaccaggcaccgtcccccagggcagctcaggcaccaagagcctgaataattcaccaaatgttaataatgtaaaaatcctcctttttaattgctttccctgctctgcctggggccgctctgctggccgcgcgggggaggggcgccggccgccggggagcgcgctgtcaatcaggccgcgccgccgccccccccccccgccccgccgcggagccggccgtaaataaccctgtaactaacccggccgctagcgcgggggcgctgggccccgctgggatcgatgcgggcggccgcgccggctgggctctgcgggctggcacccggcccggggcgggacccacctccgctttcgggtaattaatttataaacagaggcggcggtggagctggcggagcctgcatagtgggggctgcggggactcgggaggcccgggcgggagggagaggccgagagacctgggacgcggcgccttagacgcgggcgctgcgtgcgcattggggcgagtgtggccacgcgggacagtgaccctgcgcagccgggactgggcgacccctgtgctagtgtggcgtgcgtgcgcgggcgctgccttgcctttgtgacaagctttggccagccgcgtctactatggggacctcagattttcttgcctcccaccgaagagggggtcccctgggcggtcagcccctggctggcacttctggactctctcgctgccccgcaggctctgtggcctcgggacgtctgcacagccccctccccgcaaggctcagccgcctctcaggccggaagcctccaggcacccggctccccttcggggaagagcttttcccgacacttcctcgcccagcatcttgtctgccgtctcggccctgtggccgcccatcctcctgccccgtgcccgagaccagcccaggggccgagcacggccgagtggtgtggtcagttccccacctcagtgttctacgccaggacgcgggctggggaggatgagggcgcatagccggggggatcactgctgttgtcccccacccag\"\n",
    "intron_save = cwd / \"GHM_Intron_2.png\"\n",
    "# intergenomic_sample = \"\"\n",
    "# intergenomic = time_embedding(intergenomic_sample)\n"
   ]
  },
  {
   "cell_type": "markdown",
   "metadata": {},
   "source": [
    "Exons\n",
    "\n",
    "2 Lattice Sites"
   ]
  },
  {
   "cell_type": "code",
   "execution_count": 8,
   "metadata": {},
   "outputs": [
    {
     "data": {
      "image/png": "[encoded data removed]",
      "text/plain": [
       "<Figure size 384x384 with 1 Axes>"
      ]
     },
     "metadata": {},
     "output_type": "display_data"
    }
   ],
   "source": [
    "exon = time_embedding(exon_sample.upper())\n",
    "exon_test = gaussian(exon, grid, delta = 2)\n",
    "plot_image(exon, save = cwd / \"Fractal_Exon.png\")\n",
    "plot_heatmap_test(exon_test) #, save = exon_save)\n",
    "save_Image(exon_test, exon_save)"
   ]
  },
  {
   "cell_type": "markdown",
   "metadata": {},
   "source": [
    "3 Lattice Sites"
   ]
  },
  {
   "cell_type": "code",
   "execution_count": 9,
   "metadata": {},
   "outputs": [
    {
     "data": {
      "image/png": "[encoded data removed]",
      "text/plain": [
       "<Figure size 384x384 with 1 Axes>"
      ]
     },
     "metadata": {},
     "output_type": "display_data"
    }
   ],
   "source": [
    "exon = time_embedding(exon_sample.upper())\n",
    "exon_test = gaussian(exon, grid, delta = 3)\n",
    "plot_heatmap_test(exon_test)"
   ]
  },
  {
   "cell_type": "markdown",
   "metadata": {},
   "source": [
    "Introns\n",
    "\n",
    "2 Lattice Sites"
   ]
  },
  {
   "cell_type": "code",
   "execution_count": 10,
   "metadata": {},
   "outputs": [
    {
     "data": {
      "image/png": "[encoded data removed]",
      "text/plain": [
       "<Figure size 384x384 with 1 Axes>"
      ]
     },
     "metadata": {},
     "output_type": "display_data"
    }
   ],
   "source": [
    "intron = time_embedding(intron_sample.upper())\n",
    "\n",
    "intron_test = gaussian(intron, grid, delta = 2)\n",
    "plot_image(intron, save = cwd / \"Fractal_Intron.png\")\n",
    "plot_heatmap_test(intron_test, save = intron_save)\n",
    "save_Image(intron_test, intron_save)"
   ]
  },
  {
   "cell_type": "markdown",
   "metadata": {},
   "source": [
    "3 Lattice Sites"
   ]
  },
  {
   "cell_type": "code",
   "execution_count": 11,
   "metadata": {},
   "outputs": [
    {
     "data": {
      "image/png": "[encoded data removed]",
      "text/plain": [
       "<Figure size 384x384 with 1 Axes>"
      ]
     },
     "metadata": {},
     "output_type": "display_data"
    }
   ],
   "source": [
    "intron = time_embedding(intron_sample.upper())\n",
    "\n",
    "intron_test = gaussian(intron, grid, delta = 3)\n",
    "plot_heatmap_test(intron_test)"
   ]
  },
  {
   "cell_type": "markdown",
   "metadata": {},
   "source": [
    "Reopen and Close images\n",
    "\n",
    "Want to see how the values change based on the png file format"
   ]
  },
  {
   "cell_type": "code",
   "execution_count": 12,
   "metadata": {},
   "outputs": [
    {
     "name": "stdout",
     "output_type": "stream",
     "text": [
      "(64, 64)\n",
      "1.0\n",
      "[[5.11581424e-04 6.77013758e-04 6.72392644e-04 ... 2.88897235e-03\n",
      "  3.51884437e-03 3.44688644e-03]\n",
      " [4.77512687e-04 6.25233258e-04 6.22319430e-04 ... 2.92527744e-03\n",
      "  3.55863742e-03 3.39264195e-03]\n",
      " [4.04603758e-04 2.28531053e-04 2.30225867e-04 ... 1.75777828e-03\n",
      "  2.86791708e-03 2.94156185e-03]\n",
      " ...\n",
      " [0.00000000e+00 0.00000000e+00 0.00000000e+00 ... 2.39583779e-04\n",
      "  1.72204544e-04 1.52261434e-04]\n",
      " [0.00000000e+00 0.00000000e+00 0.00000000e+00 ... 9.58121199e-05\n",
      "  8.89199398e-05 7.38453117e-05]\n",
      " [0.00000000e+00 0.00000000e+00 0.00000000e+00 ... 8.38231007e-05\n",
      "  7.77933426e-05 6.46050104e-05]]\n",
      "[[0.13045326 0.17263851 0.17146012 ... 0.73668795 0.89730531 0.87895604]\n",
      " [0.12176574 0.15943448 0.15869145 ... 0.74594575 0.90745254 0.8651237 ]\n",
      " [0.10317396 0.05827542 0.0587076  ... 0.44823346 0.73131885 0.75009827]\n",
      " ...\n",
      " [0.         0.         0.         ... 0.06109386 0.04391216 0.03882667]\n",
      " [0.         0.         0.         ... 0.02443209 0.02267458 0.01883055]\n",
      " [0.         0.         0.         ... 0.02137489 0.0198373  0.01647428]]\n",
      "255.0\n"
     ]
    }
   ],
   "source": [
    "print(exon_test.shape)\n",
    "print(np.sum(exon_test))\n",
    "print(exon_test)\n",
    "\n",
    "print(exon_test * 255)\n",
    "print(np.sum(exon_test * 255))"
   ]
  },
  {
   "cell_type": "code",
   "execution_count": 13,
   "metadata": {},
   "outputs": [
    {
     "name": "stdout",
     "output_type": "stream",
     "text": [
      "(64, 64)\n",
      "[[ 44  50  57 ... 125 223 232]\n",
      " [  8  18  19 ...  89 174 255]\n",
      " [ 13  17  17 ...  44 109 136]\n",
      " ...\n",
      " [  0   0   0 ...   9   7   0]\n",
      " [  0   0   0 ...   8   7   0]\n",
      " [  0   0   0 ...   6   0   0]]\n",
      "45834\n"
     ]
    }
   ],
   "source": [
    "exon_png = Image.open(exon_save)\n",
    "exon_png2np = np.asarray(exon_png)\n",
    "print(exon_png2np.shape)\n",
    "print(exon_png2np)\n",
    "print(np.sum(exon_png2np))"
   ]
  },
  {
   "cell_type": "markdown",
   "metadata": {},
   "source": [
    "Speed Test"
   ]
  },
  {
   "cell_type": "code",
   "execution_count": 14,
   "metadata": {},
   "outputs": [],
   "source": [
    "exon_test = gaussian(exon, grid, delta = 2)"
   ]
  },
  {
   "cell_type": "code",
   "execution_count": null,
   "metadata": {},
   "outputs": [],
   "source": [
    "exon_test = gaussian_optimized(exon, grid, delta = 2)"
   ]
  },
  {
   "cell_type": "code",
   "execution_count": null,
   "metadata": {},
   "outputs": [],
   "source": [
    "intron_test = gaussian(intron, grid, delta = 2)"
   ]
  },
  {
   "cell_type": "code",
   "execution_count": null,
   "metadata": {},
   "outputs": [],
   "source": [
    "intron_test = gaussian_optimized(intron, grid, delta = 2)"
   ]
  }
 ],
 "metadata": {
  "kernelspec": {
   "display_name": "thesis",
   "language": "python",
   "name": "python3"
  },
  "language_info": {
   "codemirror_mode": {
    "name": "ipython",
    "version": 3
   },
   "file_extension": ".py",
   "mimetype": "text/x-python",
   "name": "python",
   "nbconvert_exporter": "python",
   "pygments_lexer": "ipython3",
   "version": "3.10.8"
  }
 },
 "nbformat": 4,
 "nbformat_minor": 2
}
