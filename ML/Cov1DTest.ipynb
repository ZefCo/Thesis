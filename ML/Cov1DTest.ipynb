{
 "cells": [
  {
   "cell_type": "code",
   "execution_count": 1,
   "metadata": {},
   "outputs": [],
   "source": [
    "import pandas\n",
    "import pathlib\n",
    "import re\n",
    "# from tensorflow.keras.models import Sequential, load_module\n",
    "# from tensorflow.keras.layers import Conv1D\n",
    "from sklearn.model_selection import train_test_split\n",
    "from sklearn.metrics import accuracy_score\n",
    "import tensorflow as tf\n",
    "import random\n",
    "import numpy as np\n",
    "import pandas as pd\n",
    "# import keras\n",
    "# https://stackoverflow.com/questions/53066762/understanding-1d-convolution-of-dna-sequences-encoded-as-a-one-hot-vector\n",
    "# https://stackoverflow.com/questions/53514495/what-does-batch-repeat-and-shuffle-do-with-tensorflow-dataset\n",
    "# https://stackoverflow.com/questions/53066762/understanding-1d-convolution-of-dna-sequences-encoded-as-a-one-hot-vector\n",
    "\n",
    "cwd = pathlib.Path.cwd()\n"
   ]
  },
  {
   "cell_type": "code",
   "execution_count": 2,
   "metadata": {},
   "outputs": [],
   "source": [
    "# n_class = 3\n",
    "# n_features = 100\n",
    "# n_sample = 1000\n",
    "\n",
    "# X = np.random.randint(0,10, (n_sample,n_features))\n",
    "# y = pd.get_dummies(np.random.randint(0,n_class, n_sample)).values\n",
    "\n",
    "# print(X)\n",
    "# print(X.shape)\n",
    "# # print(type(X))\n",
    "# print(X[0])\n",
    "\n",
    "# print(y)\n",
    "# print(y.shape)\n",
    "# print(type(y))\n",
    "\n",
    "# inp = tf.keras.Input((n_features,))\n",
    "# x = tf.keras.layers.Dense(128, activation='relu')(inp)\n",
    "# out = tf.keras.layers.Dense(n_class, activation='softmax')(x)\n",
    "\n",
    "# # model = tf.keras.Model(inp, out)\n",
    "# # model.compile(loss='categorical_crossentropy',optimizer='adam',metrics=['accuracy'])\n",
    "# # history = model.fit(X, y, epochs=3)"
   ]
  },
  {
   "cell_type": "code",
   "execution_count": 3,
   "metadata": {},
   "outputs": [],
   "source": [
    "# n_class = 3\n",
    "# n_features = 100\n",
    "# n_sample = 1000\n",
    "\n",
    "# X = np.random.randint(0,10, (n_sample,n_features))\n",
    "# y = np.random.randint(0,n_class, n_sample)\n",
    "\n",
    "# inp = tf.keras.Input((n_features,))\n",
    "# x = tf.keras.layers.Dense(128, activation='relu')(inp)\n",
    "# out = tf.keras.layers.Dense(n_class, activation='softmax')(x)\n",
    "\n",
    "# print(X)\n",
    "# print(X.shape)\n",
    "# print(type(X))\n",
    "\n",
    "# print(y)\n",
    "# print(y.shape)\n",
    "# print(type(y))\n",
    "\n",
    "# # model = tf.keras.Model(inp, out)\n",
    "# # model.compile(loss='sparse_categorical_crossentropy',optimizer='adam',metrics=['accuracy'])\n",
    "# # history = model.fit(X, y, epochs=3)"
   ]
  },
  {
   "cell_type": "code",
   "execution_count": 4,
   "metadata": {},
   "outputs": [],
   "source": [
    "batch_size = 100\n",
    "epochs = 3\n",
    "steps_per_epoch = 10\n",
    "\n",
    "def get_dataset_partitions_tf(ds, ds_size, train_split=0.8, val_split=0.1, test_split=0.1, shuffle=True, shuffle_size=10000):\n",
    "    assert (train_split + test_split + val_split) == 1\n",
    "    \n",
    "    if shuffle:\n",
    "        # Specify seed to always have the same split distribution between runs\n",
    "        ds = ds.shuffle(shuffle_size, seed=12)\n",
    "    \n",
    "    train_size = int(train_split * ds_size)\n",
    "    val_size = int(val_split * ds_size)\n",
    "    \n",
    "    train_ds = ds.take(train_size)    \n",
    "    val_ds = ds.skip(train_size).take(val_size)\n",
    "    test_ds = ds.skip(train_size).skip(val_size)\n",
    "    \n",
    "    return train_ds, val_ds, test_ds"
   ]
  },
  {
   "cell_type": "code",
   "execution_count": 23,
   "metadata": {},
   "outputs": [
    {
     "ename": "AttributeError",
     "evalue": "'tuple' object has no attribute 'shape'",
     "output_type": "error",
     "traceback": [
      "\u001b[1;31m---------------------------------------------------------------------------\u001b[0m",
      "\u001b[1;31mAttributeError\u001b[0m                            Traceback (most recent call last)",
      "Cell \u001b[1;32mIn[23], line 7\u001b[0m\n\u001b[0;32m      5\u001b[0m hold_ds \u001b[39m=\u001b[39m np\u001b[39m.\u001b[39mwhere(hold_lb \u001b[39m>\u001b[39m \u001b[39m0\u001b[39m)\n\u001b[0;32m      6\u001b[0m \u001b[39m# train_lb = np.load(cwd / \"Labels.npy\")\u001b[39;00m\n\u001b[1;32m----> 7\u001b[0m \u001b[39mprint\u001b[39m(train_ds\u001b[39m.\u001b[39;49mshape)\n\u001b[0;32m      8\u001b[0m \u001b[39mprint\u001b[39m(hold_lb\u001b[39m.\u001b[39mshape)\n\u001b[0;32m     10\u001b[0m train_lb \u001b[39m=\u001b[39m np\u001b[39m.\u001b[39mndarray(shape \u001b[39m=\u001b[39m (hold_lb\u001b[39m.\u001b[39mshape[\u001b[39m0\u001b[39m]))\n",
      "\u001b[1;31mAttributeError\u001b[0m: 'tuple' object has no attribute 'shape'"
     ]
    }
   ],
   "source": [
    "train_ds = np.load(cwd / \"Data.npy\")\n",
    "hold_lb = np.load(cwd / \"Labels.npy\")\n",
    "\n",
    "train_ds = train_ds[hold_lb > 0]\n",
    "hold_ds = train_ds[hold_lb > 0]\n",
    "# train_lb = np.load(cwd / \"Labels.npy\")\n",
    "print(train_ds.shape)\n",
    "print(hold_lb.shape)\n",
    "\n",
    "train_lb = np.ndarray(shape = (hold_lb.shape[0]))\n",
    "# labels = np.ndarray(shape = (rows, 1))\n",
    "for i, lb in enumerate(hold_lb):\n",
    "    # if lb == 1:\n",
    "    #     train_lb[i] = 1\n",
    "    # if lb == 2:\n",
    "    #     train_lb[i] = 2\n",
    "    # if lb == 3:\n",
    "    #     train_lb[i] = 3\n",
    "    train_lb[i] = lb - 1\n",
    "\n",
    "# data_set = tf.data.Dataset.zip((train_ds, train_lb))\n",
    "\n",
    "# # print(train_lb)\n",
    "# # print(train_lb.shape)\n",
    "\n",
    "# valid_ds = train_ds[300:]\n",
    "# valid_lb = train_lb[300:]\n",
    "\n",
    "# index2delete = [i for i in range(300, 349)]\n",
    "\n",
    "# train_ds = np.delete(train_ds, index2delete, 0)\n",
    "# train_lb = np.delete(train_lb, index2delete, 0)\n",
    "\n",
    "# # input_shape = (train_ds.shape[0], train_ds.shape[1], train_ds.shape[2])\n",
    "# input_shape = train_ds.shape\n",
    "# # print(input_shape)\n",
    "# # print(train_lb)\n",
    "\n",
    "# print(train_ds.shape, train_lb.shape)\n",
    "# print(valid_ds.shape, valid_lb.shape)\n",
    "# # print(train_lb[0])\n",
    "# # print(type(train_lb))\n",
    "\n",
    "dataset = tf.data.Dataset.from_tensor_slices((train_ds, train_lb))\n",
    "dataset = dataset.repeat()\n",
    "\n",
    "dataset = dataset.batch(batch_size).repeat()\n",
    "\n",
    "# BATCH_SIZE = 64\n",
    "# SHUFFLE_BUFFER_SIZE = 100\n",
    "\n",
    "# dataset = dataset.shuffle(SHUFFLE_BUFFER_SIZE).batch(BATCH_SIZE)\n",
    "# test_dataset = test_dataset.batch(BATCH_SIZE)\n",
    "\n"
   ]
  },
  {
   "cell_type": "code",
   "execution_count": 22,
   "metadata": {},
   "outputs": [
    {
     "name": "stdout",
     "output_type": "stream",
     "text": [
      "(30, 1)\n"
     ]
    }
   ],
   "source": [
    "\n",
    "# print(type(dataset))\n",
    "\n",
    "# for i, d in enumerate(dataset):\n",
    "#     print(type(d[0].numpy()))\n",
    "#     print(d[0].numpy())\n",
    "#     if i == 0:\n",
    "#         break\n",
    "\n",
    "\n",
    "# gfg = tf.data.Dataset.from_tensor_slices([[5, 10], [3, 6]])\n",
    "# print(type(gfg))\n",
    "  \n",
    "# for ele in gfg:\n",
    "#     print(ele.numpy())\n",
    "#     print(type(ele))\n",
    "\n",
    "# print(np.unique(hold_lb))\n",
    "sanity = pandas.DataFrame(hold_lb, columns=[\"Type\"])\n",
    "# print(sanity)\n",
    "wtf = sanity[sanity[\"Type\"] < 1]\n",
    "print(wtf.shape)"
   ]
  },
  {
   "cell_type": "code",
   "execution_count": 10,
   "metadata": {},
   "outputs": [],
   "source": [
    "input_layer = tf.keras.Input(shape = (100000, 4))\n",
    "x = tf.keras.layers.Conv1D(4, 20)(input_layer)\n",
    "x = tf.keras.layers.Conv1D(4, 20)(input_layer)\n",
    "x = tf.keras.layers.Flatten()(x)\n",
    "output_layer = tf.keras.layers.Dense(4, activation = \"softmax\")(x)\n",
    "# output_layer = tf.keras.layers.Dense(3, activation = \"softmax\")(x)\n"
   ]
  },
  {
   "cell_type": "code",
   "execution_count": 11,
   "metadata": {},
   "outputs": [
    {
     "name": "stdout",
     "output_type": "stream",
     "text": [
      "Model: \"model_1\"\n",
      "_________________________________________________________________\n",
      " Layer (type)                Output Shape              Param #   \n",
      "=================================================================\n",
      " input_2 (InputLayer)        [(None, 100000, 4)]       0         \n",
      "                                                                 \n",
      " conv1d_3 (Conv1D)           (None, 99981, 4)          324       \n",
      "                                                                 \n",
      " flatten_1 (Flatten)         (None, 399924)            0         \n",
      "                                                                 \n",
      " dense_1 (Dense)             (None, 4)                 1599700   \n",
      "                                                                 \n",
      "=================================================================\n",
      "Total params: 1,600,024\n",
      "Trainable params: 1,600,024\n",
      "Non-trainable params: 0\n",
      "_________________________________________________________________\n"
     ]
    }
   ],
   "source": [
    "model = tf.keras.Model(inputs = input_layer, outputs = output_layer)\n",
    "\n",
    "model.compile(optimizer = 'adam',\n",
    "              loss = 'sparse_categorical_crossentropy',\n",
    "              metrics = ['accuracy'])\n",
    "model.summary()"
   ]
  },
  {
   "cell_type": "code",
   "execution_count": 12,
   "metadata": {},
   "outputs": [
    {
     "name": "stdout",
     "output_type": "stream",
     "text": [
      "Epoch 1/3\n",
      " 3/10 [========>.....................] - ETA: 12s - loss: 1.2178 - accuracy: 0.5033"
     ]
    },
    {
     "ename": "InvalidArgumentError",
     "evalue": "Graph execution error:\n\nDetected at node 'sparse_categorical_crossentropy/SparseSoftmaxCrossEntropyWithLogits/SparseSoftmaxCrossEntropyWithLogits' defined at (most recent call last):\n    File \"c:\\Users\\tokyo\\anaconda3\\envs\\thesis\\lib\\runpy.py\", line 196, in _run_module_as_main\n      return _run_code(code, main_globals, None,\n    File \"c:\\Users\\tokyo\\anaconda3\\envs\\thesis\\lib\\runpy.py\", line 86, in _run_code\n      exec(code, run_globals)\n    File \"c:\\Users\\tokyo\\anaconda3\\envs\\thesis\\lib\\site-packages\\ipykernel_launcher.py\", line 17, in <module>\n      app.launch_new_instance()\n    File \"c:\\Users\\tokyo\\anaconda3\\envs\\thesis\\lib\\site-packages\\traitlets\\config\\application.py\", line 1041, in launch_instance\n      app.start()\n    File \"c:\\Users\\tokyo\\anaconda3\\envs\\thesis\\lib\\site-packages\\ipykernel\\kernelapp.py\", line 724, in start\n      self.io_loop.start()\n    File \"c:\\Users\\tokyo\\anaconda3\\envs\\thesis\\lib\\site-packages\\tornado\\platform\\asyncio.py\", line 215, in start\n      self.asyncio_loop.run_forever()\n    File \"c:\\Users\\tokyo\\anaconda3\\envs\\thesis\\lib\\asyncio\\base_events.py\", line 603, in run_forever\n      self._run_once()\n    File \"c:\\Users\\tokyo\\anaconda3\\envs\\thesis\\lib\\asyncio\\base_events.py\", line 1899, in _run_once\n      handle._run()\n    File \"c:\\Users\\tokyo\\anaconda3\\envs\\thesis\\lib\\asyncio\\events.py\", line 80, in _run\n      self._context.run(self._callback, *self._args)\n    File \"c:\\Users\\tokyo\\anaconda3\\envs\\thesis\\lib\\site-packages\\ipykernel\\kernelbase.py\", line 512, in dispatch_queue\n      await self.process_one()\n    File \"c:\\Users\\tokyo\\anaconda3\\envs\\thesis\\lib\\site-packages\\ipykernel\\kernelbase.py\", line 501, in process_one\n      await dispatch(*args)\n    File \"c:\\Users\\tokyo\\anaconda3\\envs\\thesis\\lib\\site-packages\\ipykernel\\kernelbase.py\", line 408, in dispatch_shell\n      await result\n    File \"c:\\Users\\tokyo\\anaconda3\\envs\\thesis\\lib\\site-packages\\ipykernel\\kernelbase.py\", line 731, in execute_request\n      reply_content = await reply_content\n    File \"c:\\Users\\tokyo\\anaconda3\\envs\\thesis\\lib\\site-packages\\ipykernel\\ipkernel.py\", line 417, in do_execute\n      res = shell.run_cell(\n    File \"c:\\Users\\tokyo\\anaconda3\\envs\\thesis\\lib\\site-packages\\ipykernel\\zmqshell.py\", line 540, in run_cell\n      return super().run_cell(*args, **kwargs)\n    File \"c:\\Users\\tokyo\\anaconda3\\envs\\thesis\\lib\\site-packages\\IPython\\core\\interactiveshell.py\", line 2945, in run_cell\n      result = self._run_cell(\n    File \"c:\\Users\\tokyo\\anaconda3\\envs\\thesis\\lib\\site-packages\\IPython\\core\\interactiveshell.py\", line 3000, in _run_cell\n      return runner(coro)\n    File \"c:\\Users\\tokyo\\anaconda3\\envs\\thesis\\lib\\site-packages\\IPython\\core\\async_helpers.py\", line 129, in _pseudo_sync_runner\n      coro.send(None)\n    File \"c:\\Users\\tokyo\\anaconda3\\envs\\thesis\\lib\\site-packages\\IPython\\core\\interactiveshell.py\", line 3203, in run_cell_async\n      has_raised = await self.run_ast_nodes(code_ast.body, cell_name,\n    File \"c:\\Users\\tokyo\\anaconda3\\envs\\thesis\\lib\\site-packages\\IPython\\core\\interactiveshell.py\", line 3382, in run_ast_nodes\n      if await self.run_code(code, result, async_=asy):\n    File \"c:\\Users\\tokyo\\anaconda3\\envs\\thesis\\lib\\site-packages\\IPython\\core\\interactiveshell.py\", line 3442, in run_code\n      exec(code_obj, self.user_global_ns, self.user_ns)\n    File \"C:\\Users\\tokyo\\AppData\\Local\\Temp\\ipykernel_25420\\3781482961.py\", line 2, in <module>\n      model.fit(dataset, batch_size=batch_size, epochs=epochs, steps_per_epoch=steps_per_epoch)\n    File \"c:\\Users\\tokyo\\anaconda3\\envs\\thesis\\lib\\site-packages\\keras\\utils\\traceback_utils.py\", line 65, in error_handler\n      return fn(*args, **kwargs)\n    File \"c:\\Users\\tokyo\\anaconda3\\envs\\thesis\\lib\\site-packages\\keras\\engine\\training.py\", line 1650, in fit\n      tmp_logs = self.train_function(iterator)\n    File \"c:\\Users\\tokyo\\anaconda3\\envs\\thesis\\lib\\site-packages\\keras\\engine\\training.py\", line 1249, in train_function\n      return step_function(self, iterator)\n    File \"c:\\Users\\tokyo\\anaconda3\\envs\\thesis\\lib\\site-packages\\keras\\engine\\training.py\", line 1233, in step_function\n      outputs = model.distribute_strategy.run(run_step, args=(data,))\n    File \"c:\\Users\\tokyo\\anaconda3\\envs\\thesis\\lib\\site-packages\\keras\\engine\\training.py\", line 1222, in run_step\n      outputs = model.train_step(data)\n    File \"c:\\Users\\tokyo\\anaconda3\\envs\\thesis\\lib\\site-packages\\keras\\engine\\training.py\", line 1024, in train_step\n      loss = self.compute_loss(x, y, y_pred, sample_weight)\n    File \"c:\\Users\\tokyo\\anaconda3\\envs\\thesis\\lib\\site-packages\\keras\\engine\\training.py\", line 1082, in compute_loss\n      return self.compiled_loss(\n    File \"c:\\Users\\tokyo\\anaconda3\\envs\\thesis\\lib\\site-packages\\keras\\engine\\compile_utils.py\", line 265, in __call__\n      loss_value = loss_obj(y_t, y_p, sample_weight=sw)\n    File \"c:\\Users\\tokyo\\anaconda3\\envs\\thesis\\lib\\site-packages\\keras\\losses.py\", line 152, in __call__\n      losses = call_fn(y_true, y_pred)\n    File \"c:\\Users\\tokyo\\anaconda3\\envs\\thesis\\lib\\site-packages\\keras\\losses.py\", line 284, in call\n      return ag_fn(y_true, y_pred, **self._fn_kwargs)\n    File \"c:\\Users\\tokyo\\anaconda3\\envs\\thesis\\lib\\site-packages\\keras\\losses.py\", line 2098, in sparse_categorical_crossentropy\n      return backend.sparse_categorical_crossentropy(\n    File \"c:\\Users\\tokyo\\anaconda3\\envs\\thesis\\lib\\site-packages\\keras\\backend.py\", line 5633, in sparse_categorical_crossentropy\n      res = tf.nn.sparse_softmax_cross_entropy_with_logits(\nNode: 'sparse_categorical_crossentropy/SparseSoftmaxCrossEntropyWithLogits/SparseSoftmaxCrossEntropyWithLogits'\nReceived a label value of -1 which is outside the valid range of [0, 4).  Label values: 1 2 1 0 1 0 1 2 0 1 0 0 1 0 1 1 0 1 0 0 0 0 1 2 0 1 1 3 2 1 1 0 -1 0 0 1 0 2 1 1 2 2 1 1 0 1 1 0 1 0 0 0 2 0 0 0 1 0 1 1 1 2 0 0 0 2 1 2 1 2 2 1 0 1 0 0 1 1 0 1 1 0 0 0 1 1 2 2 0 1 1 1 1 2 1 2 1 2 2 2\n\t [[{{node sparse_categorical_crossentropy/SparseSoftmaxCrossEntropyWithLogits/SparseSoftmaxCrossEntropyWithLogits}}]] [Op:__inference_train_function_1581]",
     "output_type": "error",
     "traceback": [
      "\u001b[1;31m---------------------------------------------------------------------------\u001b[0m",
      "\u001b[1;31mInvalidArgumentError\u001b[0m                      Traceback (most recent call last)",
      "Cell \u001b[1;32mIn[12], line 2\u001b[0m\n\u001b[0;32m      1\u001b[0m \u001b[39m# model.fit(train_ds, train_lb, batch_size=50, epochs=3, steps_per_epoch=10, validation_split=.2)\u001b[39;00m\n\u001b[1;32m----> 2\u001b[0m model\u001b[39m.\u001b[39;49mfit(dataset, batch_size\u001b[39m=\u001b[39;49mbatch_size, epochs\u001b[39m=\u001b[39;49mepochs, steps_per_epoch\u001b[39m=\u001b[39;49msteps_per_epoch)\n\u001b[0;32m      4\u001b[0m \u001b[39m# def eval_input_fn():\u001b[39;00m\n\u001b[0;32m      5\u001b[0m \u001b[39m#     batched_dataset = dataset.test(flags_obj.data_dir).batch(flags_obj.batch_size)\u001b[39;00m\n\u001b[0;32m      6\u001b[0m \u001b[39m#     return batched_dataset.__iter__()\u001b[39;00m\n\u001b[1;32m   (...)\u001b[0m\n\u001b[0;32m     11\u001b[0m \n\u001b[0;32m     12\u001b[0m \u001b[39m# Is the shape of the cross entropy wrong?\u001b[39;00m\n",
      "File \u001b[1;32mc:\\Users\\tokyo\\anaconda3\\envs\\thesis\\lib\\site-packages\\keras\\utils\\traceback_utils.py:70\u001b[0m, in \u001b[0;36mfilter_traceback.<locals>.error_handler\u001b[1;34m(*args, **kwargs)\u001b[0m\n\u001b[0;32m     67\u001b[0m     filtered_tb \u001b[39m=\u001b[39m _process_traceback_frames(e\u001b[39m.\u001b[39m__traceback__)\n\u001b[0;32m     68\u001b[0m     \u001b[39m# To get the full stack trace, call:\u001b[39;00m\n\u001b[0;32m     69\u001b[0m     \u001b[39m# `tf.debugging.disable_traceback_filtering()`\u001b[39;00m\n\u001b[1;32m---> 70\u001b[0m     \u001b[39mraise\u001b[39;00m e\u001b[39m.\u001b[39mwith_traceback(filtered_tb) \u001b[39mfrom\u001b[39;00m \u001b[39mNone\u001b[39m\n\u001b[0;32m     71\u001b[0m \u001b[39mfinally\u001b[39;00m:\n\u001b[0;32m     72\u001b[0m     \u001b[39mdel\u001b[39;00m filtered_tb\n",
      "File \u001b[1;32mc:\\Users\\tokyo\\anaconda3\\envs\\thesis\\lib\\site-packages\\tensorflow\\python\\eager\\execute.py:52\u001b[0m, in \u001b[0;36mquick_execute\u001b[1;34m(op_name, num_outputs, inputs, attrs, ctx, name)\u001b[0m\n\u001b[0;32m     50\u001b[0m \u001b[39mtry\u001b[39;00m:\n\u001b[0;32m     51\u001b[0m   ctx\u001b[39m.\u001b[39mensure_initialized()\n\u001b[1;32m---> 52\u001b[0m   tensors \u001b[39m=\u001b[39m pywrap_tfe\u001b[39m.\u001b[39mTFE_Py_Execute(ctx\u001b[39m.\u001b[39m_handle, device_name, op_name,\n\u001b[0;32m     53\u001b[0m                                       inputs, attrs, num_outputs)\n\u001b[0;32m     54\u001b[0m \u001b[39mexcept\u001b[39;00m core\u001b[39m.\u001b[39m_NotOkStatusException \u001b[39mas\u001b[39;00m e:\n\u001b[0;32m     55\u001b[0m   \u001b[39mif\u001b[39;00m name \u001b[39mis\u001b[39;00m \u001b[39mnot\u001b[39;00m \u001b[39mNone\u001b[39;00m:\n",
      "\u001b[1;31mInvalidArgumentError\u001b[0m: Graph execution error:\n\nDetected at node 'sparse_categorical_crossentropy/SparseSoftmaxCrossEntropyWithLogits/SparseSoftmaxCrossEntropyWithLogits' defined at (most recent call last):\n    File \"c:\\Users\\tokyo\\anaconda3\\envs\\thesis\\lib\\runpy.py\", line 196, in _run_module_as_main\n      return _run_code(code, main_globals, None,\n    File \"c:\\Users\\tokyo\\anaconda3\\envs\\thesis\\lib\\runpy.py\", line 86, in _run_code\n      exec(code, run_globals)\n    File \"c:\\Users\\tokyo\\anaconda3\\envs\\thesis\\lib\\site-packages\\ipykernel_launcher.py\", line 17, in <module>\n      app.launch_new_instance()\n    File \"c:\\Users\\tokyo\\anaconda3\\envs\\thesis\\lib\\site-packages\\traitlets\\config\\application.py\", line 1041, in launch_instance\n      app.start()\n    File \"c:\\Users\\tokyo\\anaconda3\\envs\\thesis\\lib\\site-packages\\ipykernel\\kernelapp.py\", line 724, in start\n      self.io_loop.start()\n    File \"c:\\Users\\tokyo\\anaconda3\\envs\\thesis\\lib\\site-packages\\tornado\\platform\\asyncio.py\", line 215, in start\n      self.asyncio_loop.run_forever()\n    File \"c:\\Users\\tokyo\\anaconda3\\envs\\thesis\\lib\\asyncio\\base_events.py\", line 603, in run_forever\n      self._run_once()\n    File \"c:\\Users\\tokyo\\anaconda3\\envs\\thesis\\lib\\asyncio\\base_events.py\", line 1899, in _run_once\n      handle._run()\n    File \"c:\\Users\\tokyo\\anaconda3\\envs\\thesis\\lib\\asyncio\\events.py\", line 80, in _run\n      self._context.run(self._callback, *self._args)\n    File \"c:\\Users\\tokyo\\anaconda3\\envs\\thesis\\lib\\site-packages\\ipykernel\\kernelbase.py\", line 512, in dispatch_queue\n      await self.process_one()\n    File \"c:\\Users\\tokyo\\anaconda3\\envs\\thesis\\lib\\site-packages\\ipykernel\\kernelbase.py\", line 501, in process_one\n      await dispatch(*args)\n    File \"c:\\Users\\tokyo\\anaconda3\\envs\\thesis\\lib\\site-packages\\ipykernel\\kernelbase.py\", line 408, in dispatch_shell\n      await result\n    File \"c:\\Users\\tokyo\\anaconda3\\envs\\thesis\\lib\\site-packages\\ipykernel\\kernelbase.py\", line 731, in execute_request\n      reply_content = await reply_content\n    File \"c:\\Users\\tokyo\\anaconda3\\envs\\thesis\\lib\\site-packages\\ipykernel\\ipkernel.py\", line 417, in do_execute\n      res = shell.run_cell(\n    File \"c:\\Users\\tokyo\\anaconda3\\envs\\thesis\\lib\\site-packages\\ipykernel\\zmqshell.py\", line 540, in run_cell\n      return super().run_cell(*args, **kwargs)\n    File \"c:\\Users\\tokyo\\anaconda3\\envs\\thesis\\lib\\site-packages\\IPython\\core\\interactiveshell.py\", line 2945, in run_cell\n      result = self._run_cell(\n    File \"c:\\Users\\tokyo\\anaconda3\\envs\\thesis\\lib\\site-packages\\IPython\\core\\interactiveshell.py\", line 3000, in _run_cell\n      return runner(coro)\n    File \"c:\\Users\\tokyo\\anaconda3\\envs\\thesis\\lib\\site-packages\\IPython\\core\\async_helpers.py\", line 129, in _pseudo_sync_runner\n      coro.send(None)\n    File \"c:\\Users\\tokyo\\anaconda3\\envs\\thesis\\lib\\site-packages\\IPython\\core\\interactiveshell.py\", line 3203, in run_cell_async\n      has_raised = await self.run_ast_nodes(code_ast.body, cell_name,\n    File \"c:\\Users\\tokyo\\anaconda3\\envs\\thesis\\lib\\site-packages\\IPython\\core\\interactiveshell.py\", line 3382, in run_ast_nodes\n      if await self.run_code(code, result, async_=asy):\n    File \"c:\\Users\\tokyo\\anaconda3\\envs\\thesis\\lib\\site-packages\\IPython\\core\\interactiveshell.py\", line 3442, in run_code\n      exec(code_obj, self.user_global_ns, self.user_ns)\n    File \"C:\\Users\\tokyo\\AppData\\Local\\Temp\\ipykernel_25420\\3781482961.py\", line 2, in <module>\n      model.fit(dataset, batch_size=batch_size, epochs=epochs, steps_per_epoch=steps_per_epoch)\n    File \"c:\\Users\\tokyo\\anaconda3\\envs\\thesis\\lib\\site-packages\\keras\\utils\\traceback_utils.py\", line 65, in error_handler\n      return fn(*args, **kwargs)\n    File \"c:\\Users\\tokyo\\anaconda3\\envs\\thesis\\lib\\site-packages\\keras\\engine\\training.py\", line 1650, in fit\n      tmp_logs = self.train_function(iterator)\n    File \"c:\\Users\\tokyo\\anaconda3\\envs\\thesis\\lib\\site-packages\\keras\\engine\\training.py\", line 1249, in train_function\n      return step_function(self, iterator)\n    File \"c:\\Users\\tokyo\\anaconda3\\envs\\thesis\\lib\\site-packages\\keras\\engine\\training.py\", line 1233, in step_function\n      outputs = model.distribute_strategy.run(run_step, args=(data,))\n    File \"c:\\Users\\tokyo\\anaconda3\\envs\\thesis\\lib\\site-packages\\keras\\engine\\training.py\", line 1222, in run_step\n      outputs = model.train_step(data)\n    File \"c:\\Users\\tokyo\\anaconda3\\envs\\thesis\\lib\\site-packages\\keras\\engine\\training.py\", line 1024, in train_step\n      loss = self.compute_loss(x, y, y_pred, sample_weight)\n    File \"c:\\Users\\tokyo\\anaconda3\\envs\\thesis\\lib\\site-packages\\keras\\engine\\training.py\", line 1082, in compute_loss\n      return self.compiled_loss(\n    File \"c:\\Users\\tokyo\\anaconda3\\envs\\thesis\\lib\\site-packages\\keras\\engine\\compile_utils.py\", line 265, in __call__\n      loss_value = loss_obj(y_t, y_p, sample_weight=sw)\n    File \"c:\\Users\\tokyo\\anaconda3\\envs\\thesis\\lib\\site-packages\\keras\\losses.py\", line 152, in __call__\n      losses = call_fn(y_true, y_pred)\n    File \"c:\\Users\\tokyo\\anaconda3\\envs\\thesis\\lib\\site-packages\\keras\\losses.py\", line 284, in call\n      return ag_fn(y_true, y_pred, **self._fn_kwargs)\n    File \"c:\\Users\\tokyo\\anaconda3\\envs\\thesis\\lib\\site-packages\\keras\\losses.py\", line 2098, in sparse_categorical_crossentropy\n      return backend.sparse_categorical_crossentropy(\n    File \"c:\\Users\\tokyo\\anaconda3\\envs\\thesis\\lib\\site-packages\\keras\\backend.py\", line 5633, in sparse_categorical_crossentropy\n      res = tf.nn.sparse_softmax_cross_entropy_with_logits(\nNode: 'sparse_categorical_crossentropy/SparseSoftmaxCrossEntropyWithLogits/SparseSoftmaxCrossEntropyWithLogits'\nReceived a label value of -1 which is outside the valid range of [0, 4).  Label values: 1 2 1 0 1 0 1 2 0 1 0 0 1 0 1 1 0 1 0 0 0 0 1 2 0 1 1 3 2 1 1 0 -1 0 0 1 0 2 1 1 2 2 1 1 0 1 1 0 1 0 0 0 2 0 0 0 1 0 1 1 1 2 0 0 0 2 1 2 1 2 2 1 0 1 0 0 1 1 0 1 1 0 0 0 1 1 2 2 0 1 1 1 1 2 1 2 1 2 2 2\n\t [[{{node sparse_categorical_crossentropy/SparseSoftmaxCrossEntropyWithLogits/SparseSoftmaxCrossEntropyWithLogits}}]] [Op:__inference_train_function_1581]"
     ]
    }
   ],
   "source": [
    "# model.fit(train_ds, train_lb, batch_size=50, epochs=3, steps_per_epoch=10, validation_split=.2)\n",
    "model.fit(dataset, batch_size=batch_size, epochs=epochs, steps_per_epoch=steps_per_epoch)\n",
    "\n",
    "# def eval_input_fn():\n",
    "#     batched_dataset = dataset.test(flags_obj.data_dir).batch(flags_obj.batch_size)\n",
    "#     return batched_dataset.__iter__()\n",
    "\n",
    "# File \"c:\\Users\\tokyo\\anaconda3\\envs\\thesis\\lib\\site-packages\\keras\\backend.py\", line 5532, in categorical_crossentropy\n",
    "        # target.shape.assert_is_compatible_with(output.shape)\n",
    "    # ValueError: Shapes (None, 1) and (None, 2) are incompatible\n",
    "\n",
    "# Is the shape of the cross entropy wrong?"
   ]
  }
 ],
 "metadata": {
  "kernelspec": {
   "display_name": "thesis",
   "language": "python",
   "name": "python3"
  },
  "language_info": {
   "codemirror_mode": {
    "name": "ipython",
    "version": 3
   },
   "file_extension": ".py",
   "mimetype": "text/x-python",
   "name": "python",
   "nbconvert_exporter": "python",
   "pygments_lexer": "ipython3",
   "version": "3.10.8"
  },
  "orig_nbformat": 4,
  "vscode": {
   "interpreter": {
    "hash": "0099da87c5947ce286d3b9cb8658368d51c29569610ee4f8e225db5e1ddfd0e8"
   }
  }
 },
 "nbformat": 4,
 "nbformat_minor": 2
}
