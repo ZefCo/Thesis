{
 "cells": [
  {
   "cell_type": "code",
   "execution_count": 66,
   "metadata": {},
   "outputs": [],
   "source": [
    "import pandas\n",
    "import pathlib\n",
    "import re\n",
    "# from tensorflow.keras.models import Sequential, load_module\n",
    "# from tensorflow.keras.layers import Conv1D\n",
    "from sklearn.model_selection import train_test_split\n",
    "from sklearn.metrics import accuracy_score\n",
    "import tensorflow as tf\n",
    "import random\n",
    "import numpy as np\n",
    "import pandas as pd\n",
    "# import plotly.graph_objects as go\n",
    "from matplotlib import pyplot as plt\n",
    "# import keras\n",
    "# https://stackoverflow.com/questions/53066762/understanding-1d-convolution-of-dna-sequences-encoded-as-a-one-hot-vector\n",
    "# https://stackoverflow.com/questions/53514495/what-does-batch-repeat-and-shuffle-do-with-tensorflow-dataset\n",
    "# https://stackoverflow.com/questions/53066762/understanding-1d-convolution-of-dna-sequences-encoded-as-a-one-hot-vector\n",
    "\n",
    "cwd = pathlib.Path.cwd()\n",
    "\n"
   ]
  },
  {
   "cell_type": "code",
   "execution_count": 33,
   "metadata": {},
   "outputs": [],
   "source": [
    "# n_class = 3\n",
    "# n_features = 100\n",
    "# n_sample = 1000\n",
    "\n",
    "# X = np.random.randint(0,10, (n_sample,n_features))\n",
    "# y = pd.get_dummies(np.random.randint(0,n_class, n_sample)).values\n",
    "\n",
    "# print(X)\n",
    "# print(X.shape)\n",
    "# # print(type(X))\n",
    "# print(X[0])\n",
    "\n",
    "# print(y)\n",
    "# print(y.shape)\n",
    "# print(type(y))\n",
    "\n",
    "# inp = tf.keras.Input((n_features,))\n",
    "# x = tf.keras.layers.Dense(128, activation='relu')(inp)\n",
    "# out = tf.keras.layers.Dense(n_class, activation='softmax')(x)\n",
    "\n",
    "# # model = tf.keras.Model(inp, out)\n",
    "# # model.compile(loss='categorical_crossentropy',optimizer='adam',metrics=['accuracy'])\n",
    "# # history = model.fit(X, y, epochs=3)"
   ]
  },
  {
   "cell_type": "code",
   "execution_count": 34,
   "metadata": {},
   "outputs": [],
   "source": [
    "# n_class = 3\n",
    "# n_features = 100\n",
    "# n_sample = 1000\n",
    "\n",
    "# X = np.random.randint(0,10, (n_sample,n_features))\n",
    "# y = np.random.randint(0,n_class, n_sample)\n",
    "\n",
    "# inp = tf.keras.Input((n_features,))\n",
    "# x = tf.keras.layers.Dense(128, activation='relu')(inp)\n",
    "# out = tf.keras.layers.Dense(n_class, activation='softmax')(x)\n",
    "\n",
    "# print(X)\n",
    "# print(X.shape)\n",
    "# print(type(X))\n",
    "\n",
    "# print(y)\n",
    "# print(y.shape)\n",
    "# print(type(y))\n",
    "\n",
    "# # model = tf.keras.Model(inp, out)\n",
    "# # model.compile(loss='sparse_categorical_crossentropy',optimizer='adam',metrics=['accuracy'])\n",
    "# # history = model.fit(X, y, epochs=3)"
   ]
  },
  {
   "cell_type": "code",
   "execution_count": 35,
   "metadata": {},
   "outputs": [],
   "source": [
    "# batch_size = 100\n",
    "# epochs = 50\n",
    "# steps_per_epoch = 10\n",
    "\n",
    "# https://stackoverflow.com/questions/49922252/choosing-number-of-steps-per-epoch\n",
    "\n",
    "def get_dataset_partitions_tf(ds, ds_size, train_split=0.8, val_split=0.1, test_split=0.1, shuffle=True, shuffle_size=10000):\n",
    "    '''\n",
    "    This is not really used, not sure why I'm keeping it, but it could be useful?\n",
    "    '''\n",
    "    assert (train_split + test_split + val_split) == 1\n",
    "    \n",
    "    if shuffle:\n",
    "        # Specify seed to always have the same split distribution between runs\n",
    "        ds = ds.shuffle(shuffle_size, seed=12)\n",
    "    \n",
    "    train_size = int(train_split * ds_size)\n",
    "    val_size = int(val_split * ds_size)\n",
    "    \n",
    "    train_ds = ds.take(train_size)    \n",
    "    val_ds = ds.skip(train_size).take(val_size)\n",
    "    test_ds = ds.skip(train_size).skip(val_size)\n",
    "    \n",
    "    return train_ds, val_ds, test_ds"
   ]
  },
  {
   "cell_type": "code",
   "execution_count": 36,
   "metadata": {},
   "outputs": [],
   "source": [
    "# train_ds_load = np.load(cwd / \"Data.npy\")\n",
    "# train_lb_load = np.load(cwd / \"Labels.npy\")\n",
    "\n",
    "train_lb = np.load(cwd / \"Labels_L1000.npy\")\n",
    "keep = np.where(train_lb >= 0)[0]\n",
    "train_lb = train_lb[keep]\n",
    "# train_lb = train_lb - 1\n",
    "\n",
    "train_on = np.load(cwd / \"Labels_OneHots_L1000.npy\")\n",
    "train_on = train_on[keep]"
   ]
  },
  {
   "cell_type": "code",
   "execution_count": 37,
   "metadata": {},
   "outputs": [],
   "source": [
    "# train_ds = train_ds_load\n",
    "# train_lb = train_lb_load\n",
    "\n",
    "# train_ds = save_train_ds\n",
    "# save_train_ds = train_ds\n",
    "# save_hold_lb = hold_lb\n",
    "\n",
    "# print(np.unique(hold_lb))\n",
    "# print(np.unique(hold_lb - 1))\n"
   ]
  },
  {
   "cell_type": "code",
   "execution_count": 38,
   "metadata": {},
   "outputs": [
    {
     "name": "stdout",
     "output_type": "stream",
     "text": [
      "(7694, 1000, 4)\n",
      "(7694, 1)\n",
      "(7694, 4)\n",
      "[0 1 2 3]\n",
      "7694\n"
     ]
    }
   ],
   "source": [
    "# del train_ds\n",
    "# print(keep)\n",
    "# print(type(keep))\n",
    "train_ds = np.load(cwd / \"Data_L1000.npy\")\n",
    "# train_ds = np.ndarray(train_ds, dtype=\"int8\")\n",
    "train_ds = train_ds[keep]\n",
    "\n",
    "print(train_ds.shape)\n",
    "print(train_lb.shape)\n",
    "print(train_on.shape)\n",
    "# print(np.unique(train_lb))\n",
    "\n",
    "\n",
    "# train_lb = np.ndarray(shape = (train_lb.shape[0]))\n",
    "# labels = np.ndarray(shape = (rows, 1))\n",
    "# for i, lb in enumerate(hold_lb):\n",
    "#     # if lb == 1:\n",
    "#     #     train_lb[i] = 1\n",
    "#     # if lb == 2:\n",
    "#     #     train_lb[i] = 2\n",
    "#     # if lb == 3:\n",
    "#     #     train_lb[i] = 3\n",
    "#     train_lb[i] = lb - 1\n",
    "print(np.unique(train_lb))\n",
    "\n",
    "all_samples = train_lb.shape[0]\n",
    "print(all_samples)\n",
    "\n",
    "\n",
    "# data_set = tf.data.Dataset.zip((train_ds, train_lb))\n",
    "\n",
    "# # print(train_lb)\n",
    "# # print(train_lb.shape)\n",
    "\n",
    "# valid_ds = train_ds[300:]\n",
    "# valid_lb = train_lb[300:]\n",
    "\n",
    "# index2delete = [i for i in range(300, 349)]\n",
    "\n",
    "# train_ds = np.delete(train_ds, index2delete, 0)\n",
    "# train_lb = np.delete(train_lb, index2delete, 0)\n",
    "\n",
    "# # input_shape = (train_ds.shape[0], train_ds.shape[1], train_ds.shape[2])\n",
    "# input_shape = train_ds.shape\n",
    "# # print(input_shape)\n",
    "# # print(train_lb)\n",
    "\n",
    "# print(train_ds.shape, train_lb.shape)\n",
    "# print(valid_ds.shape, valid_lb.shape)\n",
    "# # print(train_lb[0])\n",
    "# # print(type(train_lb))\n",
    "\n",
    "# BATCH_SIZE = 64\n",
    "# SHUFFLE_BUFFER_SIZE = 100\n",
    "\n",
    "# dataset = dataset.shuffle(SHUFFLE_BUFFER_SIZE).batch(BATCH_SIZE)\n",
    "# test_dataset = test_dataset.batch(BATCH_SIZE)\n",
    "\n"
   ]
  },
  {
   "cell_type": "code",
   "execution_count": 39,
   "metadata": {},
   "outputs": [
    {
     "name": "stdout",
     "output_type": "stream",
     "text": [
      "(7694, 1000, 4)\n",
      "(7694,)\n"
     ]
    }
   ],
   "source": [
    "print(train_ds.shape)\n",
    "print(keep.shape)"
   ]
  },
  {
   "cell_type": "code",
   "execution_count": 40,
   "metadata": {},
   "outputs": [
    {
     "name": "stdout",
     "output_type": "stream",
     "text": [
      "(769, 1000, 4)\n",
      "(769, 1)\n",
      "(769, 4)\n",
      "(770, 1000, 4)\n",
      "(770, 1)\n",
      "(770, 4)\n",
      "(6156, 1000, 4)\n",
      "(6156, 1)\n",
      "(6156, 4)\n"
     ]
    }
   ],
   "source": [
    "random_sample = int(0.2 * all_samples)\n",
    "\n",
    "tv_samples = np.random.choice(all_samples, size = random_sample, replace=False)\n",
    "# print(tv_samples.shape)\n",
    "# print(np.unique(tv_samples).shape)\n",
    "# print(type(tv_samples))\n",
    "\n",
    "tv_sample = tv_samples.shape[0]\n",
    "\n",
    "test_sample = int(tv_sample / 2)\n",
    "valid_sample = tv_sample - test_sample\n",
    "# print(test_sample, valid_sample)\n",
    "\n",
    "test_samples = tv_samples[0:test_sample]\n",
    "# test_samples = set(test_samples)\n",
    "valid_samples = tv_samples[valid_sample - 1:tv_samples.shape[0]]\n",
    "# valid_samples = set(valid_samples)\n",
    "\n",
    "test_ds = train_ds[test_samples]\n",
    "print(test_ds.shape)\n",
    "test_lb = train_lb[test_samples]\n",
    "print(test_lb.shape)\n",
    "test_on = train_on[test_samples]\n",
    "print(test_on.shape)\n",
    "\n",
    "valid_ds = train_ds[valid_samples]\n",
    "print(valid_ds.shape)\n",
    "valid_lb = train_lb[valid_samples]\n",
    "print(valid_lb.shape)\n",
    "valid_on = train_on[valid_samples]\n",
    "print(valid_on.shape)\n",
    "\n",
    "train_ds = np.delete(train_ds, tv_samples, axis = 0)\n",
    "print(train_ds.shape)\n",
    "train_lb = np.delete(train_lb, tv_samples, axis = 0)\n",
    "print(train_lb.shape)\n",
    "train_on = np.delete(train_on, tv_samples, axis = 0)\n",
    "print(train_on.shape)\n",
    "\n",
    "\n",
    "# print(valid_samples.intersection(test_samples))\n",
    "\n",
    "# print(test_samples.shape)\n",
    "# print(valid_samples.shape)\n",
    "\n",
    "\n",
    "# print(train_ds.shape)\n",
    "# print(hold_lb.shape)\n",
    "# print(np.unique(hold_lb_load))\n",
    "\n",
    "# keep = np.where(hold_lb >= 1)[0]\n",
    "# train_ds = train_ds[keep]\n",
    "# hold_lb = hold_lb[keep]\n",
    "# print(np.unique(hold_lb))\n",
    "\n",
    "# hold_lb = hold_lb - 1\n",
    "# print(np.unique(hold_lb))\n",
    "# print(train_ds.shape)\n",
    "# print(hold_lb.shape)\n"
   ]
  },
  {
   "cell_type": "code",
   "execution_count": 151,
   "metadata": {},
   "outputs": [
    {
     "name": "stdout",
     "output_type": "stream",
     "text": [
      "Steps per epoch = 62\n",
      "Meaning 6200 Seqs will be processed per Epoch\n",
      "For 6156 Seqs\n"
     ]
    }
   ],
   "source": [
    "data_size = train_ds.shape[0]\n",
    "epochs = 5\n",
    "\n",
    "batch_size = 100\n",
    "steps_per_epoch = int(data_size / batch_size) + 1\n",
    "print(f\"Steps per epoch = {steps_per_epoch}\\nMeaning {batch_size * steps_per_epoch} Seqs will be processed per Epoch\\nFor {data_size} Seqs\")\n",
    "\n",
    "# https://stackoverflow.com/questions/64787511/tensorflow-dataset-batch-size-and-steps-per-epoch"
   ]
  },
  {
   "cell_type": "code",
   "execution_count": 152,
   "metadata": {},
   "outputs": [],
   "source": [
    "dataset = tf.data.Dataset.from_tensor_slices((train_ds, train_on))\n",
    "dataset = dataset.shuffle(buffer_size = data_size).batch(batch_size)\n",
    "dataset = dataset.repeat()\n",
    "\n",
    "# dataset = dataset.batch(batch_size).repeat()"
   ]
  },
  {
   "cell_type": "code",
   "execution_count": 153,
   "metadata": {},
   "outputs": [],
   "source": [
    "testset = tf.data.Dataset.from_tensor_slices((test_ds, test_on))\n",
    "validset = tf.data.Dataset.from_tensor_slices((valid_ds, valid_on))\n",
    "validset = validset.batch(batch_size)"
   ]
  },
  {
   "cell_type": "code",
   "execution_count": 154,
   "metadata": {},
   "outputs": [],
   "source": [
    "input_layer = tf.keras.Input(shape = (1000, 4,))\n",
    "x = tf.keras.layers.Conv1D(4, 1)(input_layer)\n",
    "x = tf.keras.layers.Dropout(.25)(x)\n",
    "x = tf.keras.layers.Conv1D(20, 1)(x)\n",
    "x = tf.keras.layers.Dropout(.4)(x)\n",
    "x = tf.keras.layers.Conv1D(4, 1)(x)\n",
    "x = tf.keras.layers.Dropout(.25)(x)\n",
    "# x = tf.keras.layers.Conv1D(5, 1)(x)\n",
    "# x = tf.keras.layers.Dropout(.4)(x)\n",
    "x = tf.keras.layers.Flatten()(x)\n",
    "output_layer = tf.keras.layers.Dense(4, activation = \"softmax\")(x)\n",
    "# output_layer = tf.keras.layers.Dense(3, activation = \"softmax\")(x)\n",
    "\n",
    "# # 2/28/2023 Attempt\n",
    "\n",
    "# input_layer = tf.keras.Input(shape = (100000, 4))\n",
    "# x = tf.keras.layers.Conv1D(4, 1)(input_layer)\n",
    "# x = tf.keras.layers.Conv1D(4, 1, strides = 20)(x)\n",
    "# # x = tf.keras.layers.Conv1D(4, 1)(x)\n",
    "# # x = tf.keras.layers.Conv1D(4, 1)(x)\n",
    "# x = tf.keras.layers.Flatten()(x)\n",
    "# output_layer = tf.keras.layers.Dense(4, activation = \"softmax\")(x)\n",
    "# # output_layer = tf.keras.layers.Dense(3, activation = \"softmax\")(x)\n"
   ]
  },
  {
   "cell_type": "code",
   "execution_count": 155,
   "metadata": {},
   "outputs": [
    {
     "name": "stdout",
     "output_type": "stream",
     "text": [
      "Model: \"model_19\"\n",
      "_________________________________________________________________\n",
      " Layer (type)                Output Shape              Param #   \n",
      "=================================================================\n",
      " input_24 (InputLayer)       [(None, 1000, 4)]         0         \n",
      "                                                                 \n",
      " conv1d_86 (Conv1D)          (None, 1000, 4)           20        \n",
      "                                                                 \n",
      " dropout_85 (Dropout)        (None, 1000, 4)           0         \n",
      "                                                                 \n",
      " conv1d_87 (Conv1D)          (None, 1000, 20)          100       \n",
      "                                                                 \n",
      " dropout_86 (Dropout)        (None, 1000, 20)          0         \n",
      "                                                                 \n",
      " conv1d_88 (Conv1D)          (None, 1000, 4)           84        \n",
      "                                                                 \n",
      " dropout_87 (Dropout)        (None, 1000, 4)           0         \n",
      "                                                                 \n",
      " flatten_22 (Flatten)        (None, 4000)              0         \n",
      "                                                                 \n",
      " dense_22 (Dense)            (None, 4)                 16004     \n",
      "                                                                 \n",
      "=================================================================\n",
      "Total params: 16,208\n",
      "Trainable params: 16,208\n",
      "Non-trainable params: 0\n",
      "_________________________________________________________________\n"
     ]
    }
   ],
   "source": [
    "model = tf.keras.Model(inputs = input_layer, outputs = output_layer)\n",
    "\n",
    "model.compile(optimizer = 'adam',\n",
    "              loss = 'categorical_crossentropy',\n",
    "            #   metrics = ['accuracy'])\n",
    "              metrics = [tf.keras.metrics.CategoricalAccuracy()])\n",
    "model.summary()"
   ]
  },
  {
   "cell_type": "code",
   "execution_count": 156,
   "metadata": {},
   "outputs": [
    {
     "name": "stdout",
     "output_type": "stream",
     "text": [
      "Epoch 1/5\n",
      "62/62 [==============================] - 3s 40ms/step - loss: 0.9557 - categorical_accuracy: 0.6412 - val_loss: 0.8423 - val_categorical_accuracy: 0.6766\n",
      "Epoch 2/5\n",
      "62/62 [==============================] - 2s 38ms/step - loss: 0.8649 - categorical_accuracy: 0.6689 - val_loss: 0.8188 - val_categorical_accuracy: 0.6753\n",
      "Epoch 3/5\n",
      "62/62 [==============================] - 3s 43ms/step - loss: 0.8221 - categorical_accuracy: 0.6712 - val_loss: 0.7868 - val_categorical_accuracy: 0.6766\n",
      "Epoch 4/5\n",
      "62/62 [==============================] - 3s 49ms/step - loss: 0.7785 - categorical_accuracy: 0.6821 - val_loss: 0.7615 - val_categorical_accuracy: 0.6844\n",
      "Epoch 5/5\n",
      "62/62 [==============================] - 2s 38ms/step - loss: 0.7207 - categorical_accuracy: 0.7040 - val_loss: 0.7418 - val_categorical_accuracy: 0.6922\n"
     ]
    }
   ],
   "source": [
    "# model.fit(train_ds, train_lb, batch_size=50, epochs=3, steps_per_epoch=10, validation_split=.2)\n",
    "history = model.fit(dataset, \n",
    "                    batch_size=batch_size, \n",
    "                    epochs=epochs, \n",
    "                    steps_per_epoch = steps_per_epoch,\n",
    "                    validation_data = validset)\n",
    "\n",
    "# def eval_input_fn():\n",
    "#     batched_dataset = dataset.test(flags_obj.data_dir).batch(flags_obj.batch_size)\n",
    "#     return batched_dataset.__iter__()\n",
    "\n",
    "# File \"c:\\Users\\tokyo\\anaconda3\\envs\\thesis\\lib\\site-packages\\keras\\backend.py\", line 5532, in categorical_crossentropy\n",
    "        # target.shape.assert_is_compatible_with(output.shape)\n",
    "    # ValueError: Shapes (None, 1) and (None, 2) are incompatible\n",
    "\n",
    "# Is the shape of the cross entropy wrong?"
   ]
  },
  {
   "cell_type": "code",
   "execution_count": 158,
   "metadata": {},
   "outputs": [
    {
     "name": "stdout",
     "output_type": "stream",
     "text": [
      "8/8 [==============================] - 0s 7ms/step - loss: 0.7730 - categorical_accuracy: 0.6853\n",
      "Results are: loss = 0.7729743719100952, accuracy = 0.6853055953979492\n",
      "dict_keys(['loss', 'categorical_accuracy', 'val_loss', 'val_categorical_accuracy'])\n"
     ]
    },
    {
     "data": {
      "image/png": "[encoded data removed]",
      "text/plain": [
       "<Figure size 640x480 with 1 Axes>"
      ]
     },
     "metadata": {},
     "output_type": "display_data"
    }
   ],
   "source": [
    "results = model.evaluate(test_ds, test_on, batch_size=batch_size)\n",
    "print(f\"Results are: loss = {results[0]}, accuracy = {results[1]}\")\n",
    "# print(history)\n",
    "history_data = history.history\n",
    "\n",
    "print(history_data.keys())\n",
    "\n",
    "# model_fitting = go.Figure()\n",
    "# model_fitting.add_trace(go.Scatter(y = history_data[\"loss\"]))\n",
    "# model_fitting.show()\n",
    "plt.plot(history_data[\"loss\"])\n",
    "plt.plot(history_data[\"categorical_accuracy\"])\n",
    "plt.plot(history_data[\"val_loss\"])\n",
    "plt.plot(history_data[\"val_categorical_accuracy\"])\n",
    "plt.xlabel(\"Epochs\")\n",
    "plt.legend([\"Loss\", \"Accuracy\", \"Valid Loss\", \"Valid Accuracy\"])\n",
    "plt.show()"
   ]
  }
 ],
 "metadata": {
  "kernelspec": {
   "display_name": "thesis",
   "language": "python",
   "name": "python3"
  },
  "language_info": {
   "codemirror_mode": {
    "name": "ipython",
    "version": 3
   },
   "file_extension": ".py",
   "mimetype": "text/x-python",
   "name": "python",
   "nbconvert_exporter": "python",
   "pygments_lexer": "ipython3",
   "version": "3.10.8"
  },
  "orig_nbformat": 4,
  "vscode": {
   "interpreter": {
    "hash": "0099da87c5947ce286d3b9cb8658368d51c29569610ee4f8e225db5e1ddfd0e8"
   }
  }
 },
 "nbformat": 4,
 "nbformat_minor": 2
}
