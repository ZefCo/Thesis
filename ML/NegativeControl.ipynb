{
 "cells": [
  {
   "cell_type": "markdown",
   "metadata": {},
   "source": [
    "This is just to make sure the theory worked correctly."
   ]
  },
  {
   "cell_type": "code",
   "execution_count": 8,
   "metadata": {},
   "outputs": [
    {
     "name": "stdout",
     "output_type": "stream",
     "text": [
      "10000 10000 10000 10000 10000 10000 10000 10000 9999\n"
     ]
    }
   ],
   "source": [
    "ones, twos, threes, fours, fives, sixes, sevens, eights, nines = list(), list(), list(), list(), list(), list(), list(), list(), list()\n",
    "\n",
    "c = 1\n",
    "for i in range(1, 90000):\n",
    "    if c == 1:\n",
    "        ones.append(i)\n",
    "        c += 1\n",
    "    elif c == 2:\n",
    "        twos.append(i)\n",
    "        c +=1\n",
    "    elif c == 3:\n",
    "        threes.append(i)\n",
    "        c +=1\n",
    "    elif c == 4:\n",
    "        fours.append(i)\n",
    "        c +=1\n",
    "    elif c == 5:\n",
    "        fives.append(i)\n",
    "        c +=1\n",
    "    elif c == 6:\n",
    "        sixes.append(i)\n",
    "        c +=1\n",
    "    elif c == 7:\n",
    "        sevens.append(i)\n",
    "        c +=1\n",
    "    elif c == 8:\n",
    "        eights.append(i)\n",
    "        c +=1\n",
    "    elif c == 9:\n",
    "        nines.append(i)\n",
    "        c = 1\n",
    "    \n",
    "print(len(ones), len(twos), len(threes), len(fours), len(fives), len(sixes), len(sevens), len(eights), len(nines))"
   ]
  },
  {
   "cell_type": "code",
   "execution_count": 9,
   "metadata": {},
   "outputs": [],
   "source": [
    "import pathlib\n",
    "cwd = pathlib.Path\n",
    "import os\n",
    "import re\n",
    "import shutil"
   ]
  },
  {
   "cell_type": "code",
   "execution_count": 10,
   "metadata": {},
   "outputs": [],
   "source": [
    "def list_of_files(file_path: pathlib.Path):\n",
    "    '''\n",
    "    '''\n",
    "    return_list = list()\n",
    "    for root, _, files in os.walk(file_path):\n",
    "        for file in files:\n",
    "            return_list.append(pathlib.Path(root, file))\n",
    "\n",
    "    return return_list"
   ]
  },
  {
   "cell_type": "markdown",
   "metadata": {},
   "source": [
    "sets up the negative control data.\n",
    "\n",
    "This data is on a harddrive, so it's not local to the computer you're on."
   ]
  },
  {
   "cell_type": "code",
   "execution_count": 11,
   "metadata": {},
   "outputs": [],
   "source": [
    "negative_test = pathlib.Path(\"G:\\\\NegativeTestData\")\n",
    "negative_control = pathlib.Path(\"G:\\\\NeGative_Control\")\n",
    "path_1_output = negative_control / \"Group_1\"\n",
    "path_2_output = negative_control / \"Group_2\"\n",
    "path_3_output = negative_control / \"Group_3\"\n",
    "path_4_output = negative_control / \"Group_4\"\n",
    "path_5_output = negative_control / \"Group_5\"\n",
    "path_6_output = negative_control / \"Group_6\"\n",
    "path_7_output = negative_control / \"Group_7\"\n",
    "path_8_output = negative_control / \"Group_8\"\n",
    "path_9_output = negative_control / \"Group_9\"\n",
    "\n",
    "path_1_output.mkdir(parents = True, exist_ok = True)\n",
    "path_2_output.mkdir(parents = True, exist_ok = True)\n",
    "path_3_output.mkdir(parents = True, exist_ok = True)\n",
    "path_4_output.mkdir(parents = True, exist_ok = True)\n",
    "path_5_output.mkdir(parents = True, exist_ok = True)\n",
    "path_6_output.mkdir(parents = True, exist_ok = True)\n",
    "path_7_output.mkdir(parents = True, exist_ok = True)\n",
    "path_8_output.mkdir(parents = True, exist_ok = True)\n",
    "path_9_output.mkdir(parents = True, exist_ok = True)"
   ]
  },
  {
   "cell_type": "code",
   "execution_count": 12,
   "metadata": {},
   "outputs": [],
   "source": [
    "exons_1 = negative_test / \"GHM_256_v6_copy\" / \"EXON\"\n",
    "introns_1 = negative_test / \"GHM_256_v6_copy\" / \"INTRON\"\n",
    "exons_2 = negative_test / \"GHM_256_v7_copy\" / \"EXON\"\n",
    "introns_2 = negative_test / \"GHM_256_v7_copy\" / \"INTRON\""
   ]
  },
  {
   "cell_type": "code",
   "execution_count": 13,
   "metadata": {},
   "outputs": [],
   "source": [
    "exons_1_list = list_of_files(exons_1)\n",
    "exons_2_list = list_of_files(exons_2)\n",
    "introns_1_list = list_of_files(introns_1)\n",
    "introns_2_list = list_of_files(introns_1)\n",
    "full_list = exons_1_list + exons_2_list + introns_1_list + introns_2_list"
   ]
  },
  {
   "cell_type": "code",
   "execution_count": 14,
   "metadata": {},
   "outputs": [
    {
     "name": "stdout",
     "output_type": "stream",
     "text": [
      "Image_0.png\n"
     ]
    },
    {
     "data": {
      "text/plain": [
       "'Image_1000.png'"
      ]
     },
     "execution_count": 14,
     "metadata": {},
     "output_type": "execute_result"
    }
   ],
   "source": [
    "test_file: pathlib.Path = full_list[0]\n",
    "print(test_file.name)\n",
    "re.sub(r\"\\d\", \"1000\", str(test_file.name))\n",
    "# print(test_file.parent)\n",
    "# print(test_file.parent.name)"
   ]
  },
  {
   "cell_type": "code",
   "execution_count": 15,
   "metadata": {},
   "outputs": [],
   "source": [
    "file: pathlib.Path\n",
    "c = 1\n",
    "\n",
    "for i, file in enumerate(full_list, start = 1):\n",
    "    region = file.parent.name\n",
    "    file_name = file.name\n",
    "\n",
    "    file_name = re.sub(r\"\\d+\", str(i), str(file_name))\n",
    "\n",
    "    if c == 1:\n",
    "        output_path = path_1_output\n",
    "        c += 1\n",
    "    elif c == 2:\n",
    "        output_path = path_2_output\n",
    "        c += 1\n",
    "    elif c == 3:\n",
    "        output_path = path_3_output\n",
    "        c += 1\n",
    "    elif c == 4:\n",
    "        output_path = path_4_output\n",
    "        c += 1\n",
    "    elif c == 5:\n",
    "        output_path = path_5_output\n",
    "        c += 1\n",
    "    elif c == 6:\n",
    "        output_path = path_6_output\n",
    "        c += 1\n",
    "    elif c == 7:\n",
    "        output_path = path_7_output\n",
    "        c += 1\n",
    "    elif c == 8:\n",
    "        output_path = path_8_output\n",
    "        c += 1\n",
    "    elif c == 9:\n",
    "        output_path = path_9_output\n",
    "        c = 1\n",
    "\n",
    "    if region in \"EXON\":\n",
    "        output_path = output_path / \"EXON\" / file_name\n",
    "    elif region in \"INTRON\":\n",
    "        output_path = output_path / \"INTRON\" / file_name\n",
    "\n",
    "    try:\n",
    "        shutil.copy(file, output_path)\n",
    "    except FileNotFoundError as e:\n",
    "        output_path.parent.mkdir(parents = True, exist_ok = True)\n",
    "    except Exception as e:\n",
    "        print(type(e))\n",
    "        print(e)\n",
    "        break\n"
   ]
  }
 ],
 "metadata": {
  "kernelspec": {
   "display_name": "thesis",
   "language": "python",
   "name": "python3"
  },
  "language_info": {
   "codemirror_mode": {
    "name": "ipython",
    "version": 3
   },
   "file_extension": ".py",
   "mimetype": "text/x-python",
   "name": "python",
   "nbconvert_exporter": "python",
   "pygments_lexer": "ipython3",
   "version": "3.10.4"
  }
 },
 "nbformat": 4,
 "nbformat_minor": 2
}
