{
 "cells": [
  {
   "cell_type": "code",
   "execution_count": 1,
   "metadata": {},
   "outputs": [],
   "source": [
    "import numpy as np\n",
    "import pathlib\n",
    "cwd = pathlib.Path.cwd()\n",
    "import pandas\n",
    "import itertools\n",
    "import os\n",
    "import re\n",
    "import matplotlib\n",
    "import matplotlib.pyplot as plt\n",
    "from PIL import Image\n",
    "import pickle\n",
    "import GeneClass as Gene\n",
    "import random\n",
    "import shutil\n",
    "from FractalGenerator import generator"
   ]
  },
  {
   "cell_type": "markdown",
   "metadata": {},
   "source": [
    "this is temp: so I can run a few at once"
   ]
  },
  {
   "cell_type": "code",
   "execution_count": 2,
   "metadata": {},
   "outputs": [],
   "source": [
    "path = cwd.parent / \"Data_Files\" / \"Primates\" / \"Genetics\" / \"Homo_sapiens\" / \"Cleaned_Data\" / \"Data_Set_2_frame.pkl\"\n",
    "steps = 256  # this is our resolution. It means number of steps to take to cross the grid, ie pixels\n",
    "sigma = 0.0390625\n",
    "data_set = 2\n",
    "version = \"v3\"\n",
    "output = cwd.parent / \"Data_Files\" / \"Primates\" / \"Genetics\" / \"Homo_sapiens\" / f\"GHM_{steps}_{version}\"\n",
    "kmer = 3\n",
    "min_length = 12\n",
    "method = \"GHM\"\n",
    "ex_col: str = \"exon\"\n",
    "int_col: str = \"intron\"\n",
    "classification_col: str = \"Classificaion\"\n",
    "gene_name_col: str = \"NCIBName\""
   ]
  },
  {
   "cell_type": "code",
   "execution_count": 3,
   "metadata": {},
   "outputs": [
    {
     "name": "stdout",
     "output_type": "stream",
     "text": [
      "Writing training images to d:\\Coding\\Thesis\\Data_Files\\Primates\\Genetics\\Homo_sapiens\\GHM_256_v3\n",
      "Data Already exists: continuing will delete that data and start over.\n",
      "Deleting files\n",
      "Files Deleted, resuming script\n",
      "Gaussian Method\n"
     ]
    },
    {
     "ename": "KeyboardInterrupt",
     "evalue": "",
     "output_type": "error",
     "traceback": [
      "\u001b[1;31m---------------------------------------------------------------------------\u001b[0m",
      "\u001b[1;31mKeyboardInterrupt\u001b[0m                         Traceback (most recent call last)",
      "Cell \u001b[1;32mIn[3], line 1\u001b[0m\n\u001b[1;32m----> 1\u001b[0m \u001b[43mgenerator\u001b[49m\u001b[43m(\u001b[49m\u001b[43mpath\u001b[49m\u001b[43m,\u001b[49m\u001b[43m \u001b[49m\n\u001b[0;32m      2\u001b[0m \u001b[43m          \u001b[49m\u001b[43mkmer\u001b[49m\u001b[43m,\u001b[49m\u001b[43m \u001b[49m\n\u001b[0;32m      3\u001b[0m \u001b[43m          \u001b[49m\u001b[43mtarget_dir\u001b[49m\u001b[43m \u001b[49m\u001b[38;5;241;43m=\u001b[39;49m\u001b[43m \u001b[49m\u001b[43moutput\u001b[49m\u001b[43m,\u001b[49m\u001b[43m \u001b[49m\n\u001b[0;32m      4\u001b[0m \u001b[43m          \u001b[49m\u001b[43mex_col\u001b[49m\u001b[43m \u001b[49m\u001b[38;5;241;43m=\u001b[39;49m\u001b[43m \u001b[49m\u001b[43mex_col\u001b[49m\u001b[43m,\u001b[49m\u001b[43m \u001b[49m\n\u001b[0;32m      5\u001b[0m \u001b[43m          \u001b[49m\u001b[43mint_col\u001b[49m\u001b[43m \u001b[49m\u001b[38;5;241;43m=\u001b[39;49m\u001b[43m \u001b[49m\u001b[43mint_col\u001b[49m\u001b[43m,\u001b[49m\u001b[43m \u001b[49m\n\u001b[0;32m      6\u001b[0m \u001b[43m          \u001b[49m\u001b[43mclassification_col\u001b[49m\u001b[43m \u001b[49m\u001b[38;5;241;43m=\u001b[39;49m\u001b[43m \u001b[49m\u001b[43mclassification_col\u001b[49m\u001b[43m,\u001b[49m\u001b[43m \u001b[49m\n\u001b[0;32m      7\u001b[0m \u001b[43m          \u001b[49m\u001b[43mmethod\u001b[49m\u001b[43m \u001b[49m\u001b[38;5;241;43m=\u001b[39;49m\u001b[43m \u001b[49m\u001b[43mmethod\u001b[49m\u001b[43m,\u001b[49m\u001b[43m \u001b[49m\n\u001b[0;32m      8\u001b[0m \u001b[43m          \u001b[49m\u001b[43mmin_length\u001b[49m\u001b[43m \u001b[49m\u001b[38;5;241;43m=\u001b[39;49m\u001b[43m \u001b[49m\u001b[43mmin_length\u001b[49m\u001b[43m,\u001b[49m\u001b[43m \u001b[49m\n\u001b[0;32m      9\u001b[0m \u001b[43m          \u001b[49m\u001b[43mgene_name_col\u001b[49m\u001b[43m \u001b[49m\u001b[38;5;241;43m=\u001b[39;49m\u001b[43m \u001b[49m\u001b[43mgene_name_col\u001b[49m\u001b[43m,\u001b[49m\n\u001b[0;32m     10\u001b[0m \u001b[43m          \u001b[49m\u001b[43msteps\u001b[49m\u001b[43m \u001b[49m\u001b[38;5;241;43m=\u001b[39;49m\u001b[43m \u001b[49m\u001b[43msteps\u001b[49m\u001b[43m,\u001b[49m\n\u001b[0;32m     11\u001b[0m \u001b[43m          \u001b[49m\u001b[43msigma\u001b[49m\u001b[43m \u001b[49m\u001b[38;5;241;43m=\u001b[39;49m\u001b[43m \u001b[49m\u001b[43msigma\u001b[49m\u001b[43m)\u001b[49m\n",
      "File \u001b[1;32md:\\Coding\\Thesis\\ML\\FractalGenerator.py:122\u001b[0m, in \u001b[0;36mgenerator\u001b[1;34m(data_file, kmer, target_dir, method, min_length, *args, **kwargs)\u001b[0m\n\u001b[0;32m    120\u001b[0m kwargs[\u001b[38;5;124m\"\u001b[39m\u001b[38;5;124mk_p\u001b[39m\u001b[38;5;124m\"\u001b[39m], kwargs[\u001b[38;5;124m\"\u001b[39m\u001b[38;5;124mk_m\u001b[39m\u001b[38;5;124m\"\u001b[39m] \u001b[38;5;241m=\u001b[39m kmer, kmer\n\u001b[0;32m    121\u001b[0m kwargs[\u001b[38;5;124m\"\u001b[39m\u001b[38;5;124mtarget_dir\u001b[39m\u001b[38;5;124m\"\u001b[39m] \u001b[38;5;241m=\u001b[39m target_dir\n\u001b[1;32m--> 122\u001b[0m gaussian_generator(train_data, \u001b[38;5;241m*\u001b[39margs, \u001b[38;5;241m*\u001b[39m\u001b[38;5;241m*\u001b[39mkwargs)\n",
      "File \u001b[1;32md:\\Coding\\Thesis\\ML\\FractalGenerator.py:221\u001b[0m, in \u001b[0;36mgaussian_generator\u001b[1;34m(train_data, target_dir, int_col, ex_col, classification_col, gene_name_col, steps, delta, *args, **kwargs)\u001b[0m\n\u001b[0;32m    219\u001b[0m xy \u001b[38;5;241m=\u001b[39m time_embedding(seq, gap \u001b[38;5;241m=\u001b[39m \u001b[38;5;241m0\u001b[39m, \u001b[38;5;241m*\u001b[39margs, \u001b[38;5;241m*\u001b[39m\u001b[38;5;241m*\u001b[39mkwargs)\n\u001b[0;32m    220\u001b[0m \u001b[38;5;28;01mtry\u001b[39;00m:\n\u001b[1;32m--> 221\u001b[0m     density \u001b[38;5;241m=\u001b[39m gaussian(xy, grid, \u001b[38;5;241m*\u001b[39margs, \u001b[38;5;241m*\u001b[39m\u001b[38;5;241m*\u001b[39mkwargs)\n\u001b[0;32m    222\u001b[0m \u001b[38;5;28;01mexcept\u001b[39;00m \u001b[38;5;167;01mException\u001b[39;00m \u001b[38;5;28;01mas\u001b[39;00m exc:\n\u001b[0;32m    223\u001b[0m     \u001b[38;5;28mprint\u001b[39m(\u001b[38;5;124mf\u001b[39m\u001b[38;5;124m\"\u001b[39m\u001b[38;5;130;01m\\t\u001b[39;00m\u001b[38;5;130;01m\\t\u001b[39;00m\u001b[38;5;124mException\u001b[39m\u001b[38;5;130;01m\\n\u001b[39;00m\u001b[38;5;130;01m\\t\u001b[39;00m\u001b[38;5;130;01m\\t\u001b[39;00m\u001b[38;5;132;01m{\u001b[39;00m\u001b[38;5;28mtype\u001b[39m(exc)\u001b[38;5;132;01m}\u001b[39;00m\u001b[38;5;124m\"\u001b[39m)\n",
      "File \u001b[1;32md:\\Coding\\Thesis\\ML\\FractalGenerator.py:532\u001b[0m, in \u001b[0;36mgaussian\u001b[1;34m(xy, t, delta, sigma, *args, **kwargs)\u001b[0m\n\u001b[0;32m    529\u001b[0m G \u001b[38;5;241m=\u001b[39m np\u001b[38;5;241m.\u001b[39marray(G)\n\u001b[0;32m    531\u001b[0m \u001b[38;5;28;01mfor\u001b[39;00m gi, g \u001b[38;5;129;01min\u001b[39;00m \u001b[38;5;28menumerate\u001b[39m(G):\n\u001b[1;32m--> 532\u001b[0m     D \u001b[38;5;241m=\u001b[39m \u001b[43mnp\u001b[49m\u001b[38;5;241;43m.\u001b[39;49m\u001b[43mlinalg\u001b[49m\u001b[38;5;241;43m.\u001b[39;49m\u001b[43mnorm\u001b[49m\u001b[43m(\u001b[49m\u001b[43mg\u001b[49m\u001b[43m \u001b[49m\u001b[38;5;241;43m-\u001b[39;49m\u001b[43m \u001b[49m\u001b[43mxy\u001b[49m\u001b[43m,\u001b[49m\u001b[43m \u001b[49m\u001b[43maxis\u001b[49m\u001b[43m \u001b[49m\u001b[38;5;241;43m=\u001b[39;49m\u001b[43m \u001b[49m\u001b[38;5;241;43m1\u001b[39;49m\u001b[43m)\u001b[49m\n\u001b[0;32m    533\u001b[0m     D \u001b[38;5;241m=\u001b[39m D[D \u001b[38;5;241m<\u001b[39m sigma]\n\u001b[0;32m    534\u001b[0m     p \u001b[38;5;241m=\u001b[39m np\u001b[38;5;241m.\u001b[39msum(np\u001b[38;5;241m.\u001b[39mexp((\u001b[38;5;241m-\u001b[39m\u001b[38;5;241m1\u001b[39m\u001b[38;5;241m/\u001b[39m\u001b[38;5;241m2\u001b[39m) \u001b[38;5;241m*\u001b[39m np\u001b[38;5;241m.\u001b[39mpower(D, \u001b[38;5;241m2\u001b[39m) \u001b[38;5;241m/\u001b[39m sigma_sqr))\n",
      "File \u001b[1;32m<__array_function__ internals>:200\u001b[0m, in \u001b[0;36mnorm\u001b[1;34m(*args, **kwargs)\u001b[0m\n",
      "\u001b[1;31mKeyboardInterrupt\u001b[0m: "
     ]
    }
   ],
   "source": [
    "generator(path, \n",
    "          kmer, \n",
    "          target_dir = output, \n",
    "          ex_col = ex_col, \n",
    "          int_col = int_col, \n",
    "          classification_col = classification_col, \n",
    "          method = method, \n",
    "          min_length = min_length, \n",
    "          gene_name_col = gene_name_col,\n",
    "          steps = steps,\n",
    "          sigma = sigma)\n"
   ]
  },
  {
   "cell_type": "code",
   "execution_count": 4,
   "metadata": {},
   "outputs": [],
   "source": [
    "# Grab random sample of files from the output directory and copy them to another folder: that folder will be used to upload to the server\n",
    "\n",
    "original_dir = cwd.parent / \"Data_Files\" / \"Primates\" / \"Genetics\" / \"Homo_sapiens\" / f\"GHM_{steps}_{version}\"\n",
    "new_dir = cwd.parent / \"Data_Files\" / \"Primates\" / \"Genetics\" / \"Homo_sapiens\" / f\"GHM_{steps}_{version}_copy\"\n",
    "\n",
    "exon_list: list = os.listdir(original_dir / \"EXON\")\n",
    "intron_list: list = os.listdir(original_dir / \"INTRON\")\n",
    "\n",
    "new_exon_dir = new_dir / \"EXON\"\n",
    "new_intron_dir = new_dir / \"INTRON\"\n",
    "new_dir.mkdir(parents = True, exist_ok = True)\n",
    "new_exon_dir.mkdir(parents = True, exist_ok = True)\n",
    "new_intron_dir.mkdir(parents = True, exist_ok = True)\n",
    "\n",
    "count = 0\n",
    "for e in exon_list:\n",
    "    shutil.copy(original_dir / \"EXON\" / e, new_exon_dir / f\"Image_{count}.png\")\n",
    "    count += 1\n",
    "\n",
    "for i in intron_list:\n",
    "    shutil.copy(original_dir / \"INTRON\" / i, new_intron_dir / f\"Image_{count}.png\")\n",
    "    count += 1\n"
   ]
  }
 ],
 "metadata": {
  "kernelspec": {
   "display_name": "thesis",
   "language": "python",
   "name": "python3"
  },
  "language_info": {
   "codemirror_mode": {
    "name": "ipython",
    "version": 3
   },
   "file_extension": ".py",
   "mimetype": "text/x-python",
   "name": "python",
   "nbconvert_exporter": "python",
   "pygments_lexer": "ipython3",
   "version": "3.10.8"
  }
 },
 "nbformat": 4,
 "nbformat_minor": 2
}
