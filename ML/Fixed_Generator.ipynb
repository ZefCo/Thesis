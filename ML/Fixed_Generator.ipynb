{
 "cells": [
  {
   "cell_type": "code",
   "execution_count": 1,
   "metadata": {},
   "outputs": [],
   "source": [
    "import numpy as np\n",
    "import pathlib\n",
    "cwd = pathlib.Path.cwd()\n",
    "import pandas\n",
    "import itertools\n",
    "import os\n",
    "import re\n",
    "import matplotlib\n",
    "import matplotlib.pyplot as plt\n",
    "from PIL import Image\n",
    "import pickle\n",
    "import GeneClass as Gene\n",
    "import random\n",
    "import shutil\n",
    "from FractalGenerator import generator"
   ]
  },
  {
   "cell_type": "code",
   "execution_count": 2,
   "metadata": {},
   "outputs": [],
   "source": [
    "path = cwd.parent / \"Data_Files\" / \"Primates\" / \"Genetics\" / \"Homo_sapiens\" / \"Cleaned_Data\" / \"Data_Set_2_frame.pkl\"\n",
    "steps = 64  # this is our resolution. It means number of steps to take to cross the grid, ie pixels\n",
    "sigma = 0.015625 * 4\n",
    "data_set = 2\n",
    "version = \"v8\"\n",
    "output = cwd.parent / \"Data_Files\" / \"Primates\" / \"Genetics\" / \"Homo_sapiens\" / f\"GHM_{steps}_{version}\"\n",
    "kmer = 6\n",
    "min_length = 12\n",
    "method = \"GHM\"\n",
    "ex_col: str = \"exon\"\n",
    "int_col: str = \"intron\"\n",
    "classification_col: str = \"Classificaion\"\n",
    "gene_name_col: str = \"NCIBName\""
   ]
  },
  {
   "cell_type": "code",
   "execution_count": 3,
   "metadata": {},
   "outputs": [
    {
     "name": "stdout",
     "output_type": "stream",
     "text": [
      "Writing training images to d:\\Coding\\Thesis\\Data_Files\\Primates\\Genetics\\Homo_sapiens\\GHM_64_v8\n",
      "Data Already exists: continuing will delete that data and start over.\n",
      "Deleting files\n",
      "Files Deleted, resuming script\n",
      "Gaussian Method\n"
     ]
    },
    {
     "name": "stderr",
     "output_type": "stream",
     "text": [
      "d:\\Coding\\Thesis\\ML\\FractalGenerator.py:545: RuntimeWarning: invalid value encountered in divide\n",
      "  field = field / np.sum(field)\n",
      "d:\\Coding\\Thesis\\ML\\FractalGenerator.py:200: RuntimeWarning: invalid value encountered in cast\n",
      "  data = data.astype(\"u1\")\n"
     ]
    }
   ],
   "source": [
    "generator(path, \n",
    "          kmer, \n",
    "          target_dir = output, \n",
    "          ex_col = ex_col, \n",
    "          int_col = int_col, \n",
    "          classification_col = classification_col, \n",
    "          method = method, \n",
    "          min_length = min_length, \n",
    "          gene_name_col = gene_name_col,\n",
    "          steps = steps,\n",
    "          sigma = sigma)\n"
   ]
  },
  {
   "cell_type": "code",
   "execution_count": 4,
   "metadata": {},
   "outputs": [
    {
     "ename": "",
     "evalue": "",
     "output_type": "error",
     "traceback": [
      "\u001b[1;31mThe Kernel crashed while executing code in the current cell or a previous cell. \n",
      "\u001b[1;31mPlease review the code in the cell(s) to identify a possible cause of the failure. \n",
      "\u001b[1;31mClick <a href='https://aka.ms/vscodeJupyterKernelCrash'>here</a> for more info. \n",
      "\u001b[1;31mView Jupyter <a href='command:jupyter.viewOutput'>log</a> for further details."
     ]
    }
   ],
   "source": [
    "# Grab random sample of files from the output directory and copy them to another folder: that folder will be used to upload to the server\n",
    "\n",
    "original_dir = cwd.parent / \"Data_Files\" / \"Primates\" / \"Genetics\" / \"Homo_sapiens\" / f\"GHM_{steps}_{version}\"\n",
    "new_dir = cwd.parent / \"Data_Files\" / \"Primates\" / \"Genetics\" / \"Homo_sapiens\" / f\"GHM_{steps}_{version}_copy\"\n",
    "\n",
    "exon_list: list = os.listdir(original_dir / \"EXON\")\n",
    "intron_list: list = os.listdir(original_dir / \"INTRON\")\n",
    "\n",
    "new_exon_dir = new_dir / \"EXON\"\n",
    "new_intron_dir = new_dir / \"INTRON\"\n",
    "new_dir.mkdir(parents = True, exist_ok = True)\n",
    "new_exon_dir.mkdir(parents = True, exist_ok = True)\n",
    "new_intron_dir.mkdir(parents = True, exist_ok = True)\n",
    "\n",
    "count = 0\n",
    "for e in exon_list:\n",
    "    shutil.copy(original_dir / \"EXON\" / e, new_exon_dir / f\"Image_{count}.png\")\n",
    "    count += 1\n",
    "\n",
    "for i in intron_list:\n",
    "    shutil.copy(original_dir / \"INTRON\" / i, new_intron_dir / f\"Image_{count}.png\")\n",
    "    count += 1\n"
   ]
  }
 ],
 "metadata": {
  "kernelspec": {
   "display_name": "thesis",
   "language": "python",
   "name": "python3"
  },
  "language_info": {
   "codemirror_mode": {
    "name": "ipython",
    "version": 3
   },
   "file_extension": ".py",
   "mimetype": "text/x-python",
   "name": "python",
   "nbconvert_exporter": "python",
   "pygments_lexer": "ipython3",
   "version": "3.10.4"
  }
 },
 "nbformat": 4,
 "nbformat_minor": 2
}
