{
 "cells": [
  {
   "cell_type": "markdown",
   "metadata": {},
   "source": [
    "Takes a subset of Exons and Introns and puts them into a folder randomly. That way I can create a large set of data and then take a random sample of that to create the ML algorithm."
   ]
  },
  {
   "cell_type": "code",
   "execution_count": 9,
   "metadata": {},
   "outputs": [],
   "source": [
    "import pathlib\n",
    "cwd = pathlib.Path.cwd()\n",
    "import os\n",
    "import shutil\n",
    "import random\n",
    "import pickle"
   ]
  },
  {
   "cell_type": "code",
   "execution_count": 10,
   "metadata": {},
   "outputs": [],
   "source": [
    "def pickle_load(file):\n",
    "    '''\n",
    "    '''\n",
    "    with open(file, \"rb\") as file:\n",
    "        file = pickle.load(file)\n",
    "\n",
    "    return file"
   ]
  },
  {
   "cell_type": "code",
   "execution_count": 11,
   "metadata": {},
   "outputs": [],
   "source": [
    "# parent = pathlib.Path(\"/media/ethanspeakman/Elements/Gene_Data_Sets\")\n",
    "# cleaned = parent / \"Data_Set_2_cleaned_dict.pkl\"\n",
    "# frame = parent / \"Data_Set_2_frame.pkl\"\n",
    "# histogram = parent / \"Data_Set_2_histogram.pkl\"\n",
    "\n",
    "# histogram = pickle_load(histogram)\n",
    "# print(histogram)"
   ]
  },
  {
   "cell_type": "code",
   "execution_count": 12,
   "metadata": {},
   "outputs": [],
   "source": [
    "# cleaned = pickle_load(cleaned)\n",
    "# print(cleaned)"
   ]
  },
  {
   "cell_type": "code",
   "execution_count": 13,
   "metadata": {},
   "outputs": [],
   "source": [
    "# frame = pickle_load(frame)\n",
    "# print(frame)"
   ]
  },
  {
   "cell_type": "code",
   "execution_count": 14,
   "metadata": {},
   "outputs": [],
   "source": [
    "exon_count, intron_count = 40000, 20000\n",
    "exon_dir = pathlib.Path(\"/media/ethanspeakman/Elements/Gene_Data_Sets/Data_Set_2_frame_6mer_GHM/EXON\")\n",
    "intron_dir = pathlib.Path(\"/media/ethanspeakman/Elements/Gene_Data_Sets/Data_Set_2_frame_6mer_GHM/INTRON\")\n",
    "\n",
    "new_exon_dir = pathlib.Path(\"/media/ethanspeakman/Elements/Gene_Data_Sets/GHMSubsample/EXON\")\n",
    "new_exon_dir.mkdir(parents = True, exist_ok = True)\n",
    "new_intron_dir = pathlib.Path(\"/media/ethanspeakman/Elements/Gene_Data_Sets/GHMSubsample/INTRON\")\n",
    "new_intron_dir.mkdir(parents = True, exist_ok = True)\n"
   ]
  },
  {
   "cell_type": "code",
   "execution_count": 15,
   "metadata": {},
   "outputs": [
    {
     "name": "stdout",
     "output_type": "stream",
     "text": [
      "Exon_58852.png\n"
     ]
    }
   ],
   "source": [
    "exon_list = os.listdir(exon_dir)\n",
    "intron_list = os.listdir(intron_dir)\n",
    "\n",
    "# random_exon = random.choice(exon_list)\n",
    "# print(random_exon)"
   ]
  },
  {
   "cell_type": "code",
   "execution_count": 16,
   "metadata": {},
   "outputs": [],
   "source": [
    "exon_list = random.choices(exon_list, k = exon_count)\n",
    "intron_list = random.choices(intron_list, k = intron_count)"
   ]
  },
  {
   "cell_type": "code",
   "execution_count": null,
   "metadata": {},
   "outputs": [],
   "source": [
    "for exon in exon_list:\n",
    "    shutil.copy(exon_dir / exon, new_exon_dir / exon)\n",
    "\n",
    "for intron in intron_list:\n",
    "    shutil.copy(intron_dir / intron, new_intron_dir / intron)"
   ]
  }
 ],
 "metadata": {
  "kernelspec": {
   "display_name": "thesis",
   "language": "python",
   "name": "python3"
  },
  "language_info": {
   "codemirror_mode": {
    "name": "ipython",
    "version": 3
   },
   "file_extension": ".py",
   "mimetype": "text/x-python",
   "name": "python",
   "nbconvert_exporter": "python",
   "pygments_lexer": "ipython3",
   "version": "3.10.4"
  }
 },
 "nbformat": 4,
 "nbformat_minor": 2
}
