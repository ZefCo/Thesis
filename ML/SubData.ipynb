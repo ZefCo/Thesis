{
 "cells": [
  {
   "cell_type": "markdown",
   "metadata": {},
   "source": [
    "Takes a subset of Exons and Introns and puts them into a folder randomly. That way I can create a large set of data and then take a random sample of that to create the ML algorithm."
   ]
  },
  {
   "cell_type": "code",
   "execution_count": 14,
   "metadata": {},
   "outputs": [],
   "source": [
    "import pathlib\n",
    "cwd = pathlib.Path.cwd()\n",
    "import os\n",
    "import shutil\n",
    "import random"
   ]
  },
  {
   "cell_type": "code",
   "execution_count": 16,
   "metadata": {},
   "outputs": [],
   "source": [
    "exon_count, intron_count = 2000, 1000\n",
    "exon_dir = pathlib.Path(\"/media/ethanspeakman/Elements/Gene_Data_Sets/Data_Set_2_histogram_6mer_GHM/EXON\")\n",
    "intron_dir = pathlib.Path(\"/media/ethanspeakman/Elements/Gene_Data_Sets/Data_Set_2_histogram_6mer_GHM/INTRON\")\n",
    "\n",
    "new_exon_dir = pathlib.Path(\"/media/ethanspeakman/Elements/Gene_Data_Sets/GHMSubsample/EXON\")\n",
    "new_exon_dir.mkdir(parents = True, exist_ok = True)\n",
    "new_intron_dir = pathlib.Path(\"/media/ethanspeakman/Elements/Gene_Data_Sets/GHMSubsample/INTRON\")\n",
    "new_intron_dir.mkdir(parents = True, exist_ok = True)\n"
   ]
  },
  {
   "cell_type": "code",
   "execution_count": 17,
   "metadata": {},
   "outputs": [
    {
     "ename": "AttributeError",
     "evalue": "module 'random' has no attribute 'chioce'",
     "output_type": "error",
     "traceback": [
      "\u001b[0;31m---------------------------------------------------------------------------\u001b[0m",
      "\u001b[0;31mAttributeError\u001b[0m                            Traceback (most recent call last)",
      "Cell \u001b[0;32mIn[17], line 4\u001b[0m\n\u001b[1;32m      1\u001b[0m exon_list \u001b[38;5;241m=\u001b[39m os\u001b[38;5;241m.\u001b[39mlistdir(exon_dir)\n\u001b[1;32m      2\u001b[0m intron_list \u001b[38;5;241m=\u001b[39m os\u001b[38;5;241m.\u001b[39mlistdir(intron_dir)\n\u001b[0;32m----> 4\u001b[0m random_exon \u001b[38;5;241m=\u001b[39m \u001b[43mrandom\u001b[49m\u001b[38;5;241;43m.\u001b[39;49m\u001b[43mchioce\u001b[49m(exon_list)\n\u001b[1;32m      5\u001b[0m \u001b[38;5;28mprint\u001b[39m(random_exon)\n",
      "\u001b[0;31mAttributeError\u001b[0m: module 'random' has no attribute 'chioce'"
     ]
    }
   ],
   "source": [
    "exon_list = os.listdir(exon_dir)\n",
    "intron_list = os.listdir(intron_dir)\n",
    "\n",
    "random_exon = random.choice(exon_list)\n",
    "print(random_exon)"
   ]
  },
  {
   "cell_type": "code",
   "execution_count": 11,
   "metadata": {},
   "outputs": [],
   "source": [
    "exon_list = random.choices(exon_list, k = exon_count)\n",
    "intron_list = random.choices(intron_list, k = intron_count)"
   ]
  },
  {
   "cell_type": "code",
   "execution_count": 12,
   "metadata": {},
   "outputs": [],
   "source": [
    "for exon in exon_list:\n",
    "    shutil.copy(exon_dir / exon, new_exon_dir / exon)\n",
    "\n",
    "for intron in intron_list:\n",
    "    shutil.copy(intron_dir / intron, new_intron_dir / intron)"
   ]
  }
 ],
 "metadata": {
  "kernelspec": {
   "display_name": "thesis",
   "language": "python",
   "name": "python3"
  },
  "language_info": {
   "codemirror_mode": {
    "name": "ipython",
    "version": 3
   },
   "file_extension": ".py",
   "mimetype": "text/x-python",
   "name": "python",
   "nbconvert_exporter": "python",
   "pygments_lexer": "ipython3",
   "version": "3.10.4"
  }
 },
 "nbformat": 4,
 "nbformat_minor": 2
}
