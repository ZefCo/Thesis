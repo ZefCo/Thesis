{
 "cells": [
  {
   "cell_type": "code",
   "execution_count": 18,
   "metadata": {},
   "outputs": [
    {
     "name": "stdout",
     "output_type": "stream",
     "text": [
      "Starting script\n"
     ]
    }
   ],
   "source": [
    "print(\"Starting script\")\n",
    "# https://towardsdatascience.com/convolutional-neural-networks-understanding-and-organizing-your-data-set-ba3e8b4086cb\n",
    "# https://datagy.io/python-decorators/\n",
    "# https://gitpython.readthedocs.io/en/stable/intro.html\n",
    "\n",
    "# https://stackoverflow.com/questions/26134026/how-to-get-the-current-checked-out-git-branch-name-through-pygit2\n",
    "\n",
    "# https://gitpython.readthedocs.io/en/stable/intro.html\n",
    "\n",
    "import os\n",
    "# os.environ[\"GET_PYTHON_REFRESH\"] = \"quiet\"\n",
    "# import git\n",
    "import pandas\n",
    "import pathlib\n",
    "import shutil\n",
    "# import re\n",
    "# from tensorflow.keras.models import Sequential, load_module\n",
    "# from tensorflow.keras.layers import Conv1D\n",
    "# from sklearn.model_selection import train_test_split\n",
    "# from sklearn.metrics import accuracy_score\n",
    "import tensorflow as tf\n",
    "# print(tf.__version__)\n",
    "# exit()\n",
    "import random\n",
    "# import numpy as np\n",
    "# import pandas as pd\n",
    "# import plotly.graph_objects as go\n",
    "# import datetime\n",
    "from matplotlib import pyplot as plt\n",
    "from contextlib import redirect_stdout\n",
    "from sklearn.decomposition import PCA\n",
    "from sklearn.preprocessing import MinMaxScaler\n",
    "\n",
    "from PIL import Image\n",
    "# import keras\n",
    "# https://stackoverflow.com/questions/53066762/understanding-1d-convolution-of-dna-sequences-encoded-as-a-one-hot-vector\n",
    "# https://stackoverflow.com/questions/53514495/what-does-batch-repeat-and-shuffle-do-with-tensorflow-dataset\n",
    "# https://stackoverflow.com/questions/53066762/understanding-1d-convolution-of-dna-sequences-encoded-as-a-one-hot-vector\n",
    "cwd = pathlib.Path.cwd()"
   ]
  },
  {
   "cell_type": "markdown",
   "metadata": {},
   "source": [
    "https://stackoverflow.com/questions/36193553/get-the-value-of-some-weights-in-a-model-trained-by-tensorflow"
   ]
  },
  {
   "cell_type": "code",
   "execution_count": 19,
   "metadata": {},
   "outputs": [],
   "source": [
    "def create_model(output_classes: int, w: int, h: int):\n",
    "    '''\n",
    "    This should be copy and pasted over from the original model script.\n",
    "    '''\n",
    "    input_layer = tf.keras.Input(shape = (w, h, 1))\n",
    "    a = tf.keras.layers.Conv2D(w, (1, 1), activation = \"gelu\", kernel_regularizer = tf.keras.regularizers.l2(l = 0.001))(input_layer)\n",
    "    a = tf.keras.layers.Dropout(.5)(a)\n",
    "    a = tf.keras.layers.BatchNormalization()(a)\n",
    "    b = tf.keras.layers.Conv2D(h, (6, 6), activation = \"gelu\", kernel_regularizer = tf.keras.regularizers.l2(l = 0.001))(a)\n",
    "    b = tf.keras.layers.Dropout(.5)(b)\n",
    "    b = tf.keras.layers.BatchNormalization()(b)\n",
    "    # c = tf.keras.layers.Conv2D(64, (3, 3), activation = \"gelu\", kernel_regularizer = tf.keras.regularizers.l2(l = 0.001))(b)\n",
    "    # c = tf.keras.layers.Dropout(.5)(c)\n",
    "    # c = tf.keras.layers.BatchNormalization()(c)\n",
    "    # d = tf.keras.layers.Conv2D(64, (1, 1), activation = \"gelu\", kernel_regularizer = tf.keras.regularizers.l2(l = 0.001))(c)\n",
    "    # d = tf.keras.layers.Dropout(.5)(d)\n",
    "    # d = tf.keras.layers.BatchNormalization()(d)\n",
    "    flatten = tf.keras.layers.Flatten()(b)\n",
    "    final = tf.keras.layers.Dropout(.5)(flatten)\n",
    "    output_layer = tf.keras.layers.Dense(output_classes, activation = \"softmax\")(final)\n",
    "    model = tf.keras.Model(inputs = input_layer, outputs = output_layer)\n",
    "\n",
    "    model.compile(optimizer = 'adam',\n",
    "                loss = 'categorical_crossentropy',\n",
    "                #   metrics = ['accuracy'])\n",
    "                metrics = [tf.keras.metrics.CategoricalAccuracy()])\n",
    "\n",
    "    return model\n",
    "\n",
    "def get_num_pixels(filepath):\n",
    "    width, height = Image.open(filepath).size\n",
    "    return width, height"
   ]
  },
  {
   "cell_type": "code",
   "execution_count": 20,
   "metadata": {},
   "outputs": [],
   "source": [
    "path_to_model_folder = cwd / \"FractalModels\" / \"IvE\" / \"version_slurm_24\" / \"Model\"\n",
    "path_to_data_folder = cwd.parent / \"Data_Files\" / \"FuckDrG\" / \"Data_Set_1_histogram_6mer_KTA\"\n",
    "path_to_first_file = path_to_data_folder / \"EXON\" / \"Exon_0.png\"\n",
    "w, h = get_num_pixels(path_to_first_file)\n",
    "model = create_model(2, w, h)"
   ]
  },
  {
   "cell_type": "code",
   "execution_count": 21,
   "metadata": {},
   "outputs": [
    {
     "name": "stdout",
     "output_type": "stream",
     "text": [
      "10\n"
     ]
    }
   ],
   "source": [
    "print(len(model.trainable_variables))"
   ]
  },
  {
   "cell_type": "code",
   "execution_count": 29,
   "metadata": {},
   "outputs": [
    {
     "name": "stdout",
     "output_type": "stream",
     "text": [
      "<class 'tensorflow.python.ops.resource_variable_ops.ResourceVariable'>\n",
      "[[ 3.1602569e-03  2.7690921e-04 -3.9559500e-03 ...  2.6790053e-03\n",
      "   4.3009054e-03 -3.8111275e-03]\n",
      " [-1.5064201e-03 -6.8760337e-04 -6.1662868e-04 ... -9.0829516e-04\n",
      "   2.5509731e-03 -4.1915569e-05]]\n"
     ]
    }
   ],
   "source": [
    "print(type(model.trainable_variables[8]))\n",
    "# print((model.trainable_variables[8]))\n",
    "weights = model.trainable_variables[8].numpy().T\n",
    "print(weights)"
   ]
  },
  {
   "cell_type": "code",
   "execution_count": 30,
   "metadata": {},
   "outputs": [
    {
     "name": "stdout",
     "output_type": "stream",
     "text": [
      "(2, 222784)\n",
      "(2, 222784)\n"
     ]
    }
   ],
   "source": [
    "print(weights.shape)\n",
    "# print(thing)\n",
    "scaler = MinMaxScaler()\n",
    "weights_rescaled = scaler.fit_transform(weights)\n",
    "print(weights_rescaled.shape)"
   ]
  },
  {
   "cell_type": "markdown",
   "metadata": {},
   "source": [
    "https://machinelearningknowledge.ai/complete-tutorial-for-pca-in-python-sklearn-with-example/"
   ]
  },
  {
   "cell_type": "code",
   "execution_count": 31,
   "metadata": {},
   "outputs": [],
   "source": [
    "pca = PCA(.95)\n",
    "pca.fit(weights)\n",
    "# print(pca)\n",
    "something = pca.transform(weights)\n",
    "\n",
    "# reduced = pca.transform(weights_rescaled)\n",
    "# # print(reduced)\n",
    "# print(type(reduced))\n",
    "# print(reduced.shape)"
   ]
  },
  {
   "cell_type": "code",
   "execution_count": 32,
   "metadata": {},
   "outputs": [
    {
     "name": "stdout",
     "output_type": "stream",
     "text": [
      "<class 'numpy.ndarray'>\n",
      "(2, 1)\n"
     ]
    }
   ],
   "source": [
    "print(type(something))\n",
    "print(something.shape)"
   ]
  }
 ],
 "metadata": {
  "kernelspec": {
   "display_name": "thesis",
   "language": "python",
   "name": "python3"
  },
  "language_info": {
   "codemirror_mode": {
    "name": "ipython",
    "version": 3
   },
   "file_extension": ".py",
   "mimetype": "text/x-python",
   "name": "python",
   "nbconvert_exporter": "python",
   "pygments_lexer": "ipython3",
   "version": "3.10.8"
  }
 },
 "nbformat": 4,
 "nbformat_minor": 2
}
