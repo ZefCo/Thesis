{
 "cells": [
  {
   "cell_type": "code",
   "execution_count": 14,
   "metadata": {},
   "outputs": [],
   "source": [
    "import numpy as np\n",
    "import pathlib\n",
    "cwd = pathlib.Path.cwd()\n",
    "import pandas\n",
    "import itertools\n",
    "import os\n",
    "import matplotlib.pyplot as plt\n",
    "from PIL import Image\n",
    "\n",
    "\n",
    "# exon_images = cwd / \"FractalImageEvI\" / \"EXON\"\n",
    "# intron_images = cwd / \"FractalImageEvI\" / \"INTRON\"\n",
    "# # utr5_images = cwd / \"FractalImage\" / \"UTR5\"\n",
    "# # utr3_images = cwd / \"FractalImage\" / \"UTR3\"\n",
    "# # exon_images = cwd / \"FractalImage\" / \"Exon\"\n",
    "\n",
    "# exon_images.mkdir(parents = True, exist_ok = True)\n",
    "# intron_images.mkdir(parents = True, exist_ok = True)\n",
    "# # utr5_images.mkdir(parents = True, exist_ok = True)\n",
    "# # utr3_images.mkdir(parents = True, exist_ok = True)\n",
    "# # exon_images.mkdir(parents = True, exist_ok = True)"
   ]
  },
  {
   "cell_type": "code",
   "execution_count": 15,
   "metadata": {},
   "outputs": [],
   "source": [
    "def manhattan_position(nuc: int, x0: int):\n",
    "    '''\n",
    "    '''\n",
    "    x1: np.array = (nuc - x0) / 2\n",
    "\n",
    "    return x1.astype(int)\n",
    "\n",
    "\n",
    "def nucleotide_permutations(sequence: str = \"ACGT\", length: int = 3) -> dict:\n",
    "    nuc_perm = dict()\n",
    "\n",
    "    if len(sequence) < length:\n",
    "        return None\n",
    "\n",
    "    perms = itertools.permutations(sequence, length)\n",
    "    for p in perms:\n",
    "\n",
    "        key = \"\"\n",
    "        for n in p:\n",
    "            key = f\"{key}{n}\"\n",
    "\n",
    "        nuc_perm[key] = 0\n",
    "\n",
    "    return nuc_perm\n",
    "\n",
    "\n",
    "def nucleotide_counter(sequence: str, window_size: int):\n",
    "    '''\n",
    "    '''\n",
    "    keys: set = set()\n",
    "    counter = dict()\n",
    "    master_count = 0\n",
    "\n",
    "\n",
    "    for i in range(len(sequence) - window_size):\n",
    "        seq = sequence[i: i + window_size]\n",
    "\n",
    "        if seq not in keys:\n",
    "            keys.add(seq)\n",
    "            counter[seq] = 1\n",
    "            master_count += 1\n",
    "\n",
    "        else:\n",
    "            counter[seq] += 1\n",
    "            master_count += 1\n",
    "\n",
    "    for key, value in counter.items():\n",
    "        counter[key] = value / master_count\n",
    "\n",
    "    return counter\n",
    "\n",
    "    \n",
    "\n",
    "\n",
    "\n",
    "def chaos_game_representation(probabilities: dict, k):\n",
    "    array_size = int(np.sqrt(4**k))\n",
    "\n",
    "    cgr = np.zeros(shape = (array_size, array_size))\n",
    "\n",
    "    for key, value in probabilities.items():\n",
    "        maxx = array_size\n",
    "        maxy = array_size\n",
    "        posx = 1\n",
    "        posy = 1\n",
    " \n",
    "        for char in key:\n",
    "            if char == \"T\":\n",
    "                posx += maxx / 2\n",
    "            elif char == \"C\":\n",
    "                posy += maxy / 2\n",
    "            elif char == \"G\":\n",
    "                posx += maxx / 2\n",
    "                posy += maxy / 2\n",
    "            maxx /=  2\n",
    "            maxy /= 2\n",
    "\n",
    "        # print(int(posy), int(posx))\n",
    "        cgr[int(posy - 1)][int(posx - 1)] = value\n",
    "\n",
    "\n",
    "    return cgr\n",
    "\n",
    "\n",
    "def gif_generator(path: str, filename: str):\n",
    "    '''\n",
    "    '''\n",
    "    png_files = list(path.rglob(\"*.png\"))\n",
    "    png_files.sort(key = lambda x: os.path.getmtime(x))\n",
    "\n",
    "    frames = []\n",
    "    for png in png_files:\n",
    "        new_frame = Image.open(png)\n",
    "        # print(png)\n",
    "        frames.append(new_frame)\n",
    "\n",
    "\n",
    "    frames[0].save(filename, format=\"GIF\", append_images=frames[1:], save_all = True, loop = 0, duration = 225) \n"
   ]
  },
  {
   "cell_type": "code",
   "execution_count": 16,
   "metadata": {},
   "outputs": [],
   "source": [
    "with open(cwd / \"Seqs_IL12RB2.txt\", \"r\") as seqfile:\n",
    "    seqs = seqfile.readlines()\n",
    "\n",
    "# print(len(seqs))\n",
    "# print(seqs[2])\n",
    "# print(seqs[4])\n",
    "\n",
    "full_seq = seqs[0]\n",
    "exon_seq = seqs[2]\n",
    "intron_seq = seqs[4]\n",
    "\n",
    "kmer = 6"
   ]
  },
  {
   "cell_type": "code",
   "execution_count": 17,
   "metadata": {},
   "outputs": [],
   "source": [
    "# train_data: pandas.DataFrame = pandas.read_pickle(cwd / \"TrainingGeneData_v5.pkl\")\n",
    "# # print(train_data.shape)\n",
    "\n",
    "# keep = np.where(train_data[\"Seq\"].str.len() >= 100)[0]\n",
    "# # print(keep)\n",
    "# train_data = train_data.iloc[keep, :]\n",
    "\n",
    "# rows, cols = train_data.shape\n",
    "\n",
    "# train_data = train_data.reset_index()\n",
    "\n",
    "# # print(train_data[\"Type\"].unique())\n",
    "\n",
    "# # print(train_data.shape)\n",
    "# # print(train_data)\n",
    "\n",
    "# print(train_data)"
   ]
  },
  {
   "cell_type": "code",
   "execution_count": 18,
   "metadata": {},
   "outputs": [
    {
     "data": {
      "text/plain": [
       "<matplotlib.image.AxesImage at 0x27ae408dba0>"
      ]
     },
     "execution_count": 18,
     "metadata": {},
     "output_type": "execute_result"
    },
    {
     "data": {
      "image/png": "[encoded data removed]",
      "text/plain": [
       "<Figure size 640x480 with 1 Axes>"
      ]
     },
     "metadata": {},
     "output_type": "display_data"
    }
   ],
   "source": [
    "\n",
    "full_mer = nucleotide_counter(full_seq, kmer)\n",
    "full_cgr = chaos_game_representation(full_mer, kmer)\n",
    "# plt.imshow(full_cgr, cmap = \"gray\")\n",
    "plt.imshow(full_cgr)\n",
    "\n",
    "\n",
    "# exon = 0\n",
    "# intron, intname = 0, \"Intron\"\n",
    "# cds, exname = 0, \"Exon\"\n",
    "# # utr3, ut3name = 0, \"UTR3\"\n",
    "# # utr5, ut5name = 0, \"UTR5\"\n",
    "\n",
    "# for row in range(rows):\n",
    "#     seq = train_data.loc[row, \"Seq\"]\n",
    "#     typ = train_data.loc[row, \"Type\"]\n",
    "\n",
    "#     mer = nucleotide_counter(seq, kmer)\n",
    "#     cgr = chaos_game_representation(mer, kmer)\n",
    "\n",
    "#     # print(cgr)\n",
    "#     # print(np.max(cgr), np.min(cgr))\n",
    "\n",
    "#     plt.imshow(cgr, cmap = \"gray\")\n",
    "\n",
    "#     if typ in intname:\n",
    "#         filepath = intron_images / f\"Intron_{intron}.png\"\n",
    "#         plt.imsave(filepath, cgr, cmap = \"gray\")\n",
    "#         intron += 1\n",
    "\n",
    "#     elif typ in exname:\n",
    "\n",
    "#         filepath = exon_images / f\"Exon_{exon}.png\"\n",
    "#         plt.imsave(filepath, cgr, cmap = \"gray\")\n",
    "\n",
    "#         exon += 1\n"
   ]
  },
  {
   "cell_type": "code",
   "execution_count": 19,
   "metadata": {},
   "outputs": [
    {
     "data": {
      "text/plain": [
       "<matplotlib.image.AxesImage at 0x27ae370f370>"
      ]
     },
     "execution_count": 19,
     "metadata": {},
     "output_type": "execute_result"
    },
    {
     "data": {
      "image/png": "[encoded data removed]",
      "text/plain": [
       "<Figure size 640x480 with 1 Axes>"
      ]
     },
     "metadata": {},
     "output_type": "display_data"
    }
   ],
   "source": [
    "exon_mer = nucleotide_counter(exon_seq, kmer)\n",
    "exon_cgr = chaos_game_representation(exon_mer, kmer)\n",
    "# plt.imshow(exon_cgr, cmap = \"gray\")\n",
    "plt.imshow(exon_cgr)\n",
    "\n"
   ]
  },
  {
   "cell_type": "code",
   "execution_count": 23,
   "metadata": {},
   "outputs": [
    {
     "data": {
      "image/png": "[encoded data removed]",
      "text/plain": [
       "<Figure size 640x480 with 1 Axes>"
      ]
     },
     "metadata": {},
     "output_type": "display_data"
    }
   ],
   "source": [
    "intron_mer = nucleotide_counter(intron_seq, kmer)\n",
    "intron_cgr = chaos_game_representation(intron_mer, kmer)\n",
    "# plt.imshow(intron_cgr, cmap = \"gray\")\n",
    "plt.imshow(intron_cgr)\n",
    "# plt.imsave(cwd / \"Gray_Test.png\", intron_cgr, cmap = \"gray\")\n",
    "np.save(cwd / \"Gray_Test\", intron_cgr)\n"
   ]
  },
  {
   "cell_type": "code",
   "execution_count": 24,
   "metadata": {},
   "outputs": [
    {
     "name": "stdout",
     "output_type": "stream",
     "text": [
      "(64, 64)\n",
      "(64, 64)\n",
      "('R', 'G', 'B', 'A')\n"
     ]
    }
   ],
   "source": [
    "test_image = Image.open(cwd / \"Gray_Test.npy\")\n",
    "dimensions = test_image.size\n",
    "something = test_image.getbands()\n",
    "\n",
    "\n",
    "print(dimensions)\n",
    "\n",
    "original_dimensions = intron_cgr.shape\n",
    "print(original_dimensions)\n",
    "\n",
    "print(something)"
   ]
  }
 ],
 "metadata": {
  "kernelspec": {
   "display_name": "Python 3.11.3 ('thesis')",
   "language": "python",
   "name": "python3"
  },
  "language_info": {
   "codemirror_mode": {
    "name": "ipython",
    "version": 3
   },
   "file_extension": ".py",
   "mimetype": "text/x-python",
   "name": "python",
   "nbconvert_exporter": "python",
   "pygments_lexer": "ipython3",
   "version": "3.10.8"
  },
  "orig_nbformat": 4,
  "vscode": {
   "interpreter": {
    "hash": "655bbee77bf4bae3f318f6e837961bfc14387c5c220db820ff64694fb06c35cc"
   }
  }
 },
 "nbformat": 4,
 "nbformat_minor": 2
}
