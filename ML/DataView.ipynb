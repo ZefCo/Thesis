{
 "cells": [
  {
   "cell_type": "code",
   "execution_count": 1,
   "metadata": {},
   "outputs": [],
   "source": [
    "import pandas\n",
    "import numpy as np\n",
    "import pathlib\n",
    "cwd = pathlib.Path.cwd()"
   ]
  },
  {
   "cell_type": "code",
   "execution_count": 3,
   "metadata": {},
   "outputs": [
    {
     "name": "stdout",
     "output_type": "stream",
     "text": [
      "                                                     Seq    Type\n",
      "0      GACGAAGATTTCCCTCATGGACCGGTCACTGTTTCATAAAAAGTCG...    Exon\n",
      "1      TACATTGTCAGTAAAATAAAGTCGTCAAATTTTTAACAGGAAAAAG...    Exon\n",
      "2      AAAACACTATCAAAAATTCTACCGTTCCGCTAGACGTCCCCCGCCA...    Exon\n",
      "3      GACCGGACAATCACCGACGGTATTATTTTTGGACGACCGCACGAAG...    Exon\n",
      "4      GAGAGCCAGACTAGAAGCTCCTGTATTTCGTAGGTGAAGTAGTTTC...    Exon\n",
      "...                                                  ...     ...\n",
      "55584  GATCTTCTTTTCTCTAATTATATTAGTTTCAAATTAGATTTTAAAT...  Intron\n",
      "55585  GATTCCTTTTAAATCACATTTTCTAATTCTTATAAACGAATTAAAG...  Intron\n",
      "55586  GACATTTTAACCACAAACTGACACCAAATTATGTACAAGTCATAAA...  Intron\n",
      "55587  GACCTTTCTTTTTCTTACGACAGTTTTTGATGACCAATGAAAGCAA...  Intron\n",
      "55588  GACATCTCTCTCTCTGTGTCTCGAACAATTACCAGACTCTTTCGGT...  Intron\n",
      "\n",
      "[55589 rows x 2 columns]\n"
     ]
    }
   ],
   "source": [
    "data = cwd / \"TrainingGeneData_SLSGHis.pkl\"\n",
    "data = pandas.read_pickle(data)\n",
    "\n",
    "print(data)"
   ]
  },
  {
   "cell_type": "code",
   "execution_count": null,
   "metadata": {},
   "outputs": [],
   "source": []
  }
 ],
 "metadata": {
  "kernelspec": {
   "display_name": "thesis",
   "language": "python",
   "name": "python3"
  },
  "language_info": {
   "codemirror_mode": {
    "name": "ipython",
    "version": 3
   },
   "file_extension": ".py",
   "mimetype": "text/x-python",
   "name": "python",
   "nbconvert_exporter": "python",
   "pygments_lexer": "ipython3",
   "version": "3.10.4"
  },
  "orig_nbformat": 4
 },
 "nbformat": 4,
 "nbformat_minor": 2
}
