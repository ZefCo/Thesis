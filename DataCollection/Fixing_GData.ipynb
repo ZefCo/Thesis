{
 "cells": [
  {
   "cell_type": "code",
   "execution_count": 1,
   "metadata": {},
   "outputs": [],
   "source": [
    "import re\n",
    "import ucsc_restapi as upi\n",
    "import numpy as np\n",
    "import pathlib\n",
    "cwd = pathlib.Path.cwd()\n",
    "import pandas\n",
    "import pickle\n",
    "import random\n",
    "import GeneClass as Gene\n",
    "from GData import NormalData"
   ]
  },
  {
   "cell_type": "code",
   "execution_count": 2,
   "metadata": {},
   "outputs": [],
   "source": [
    "min_ant: int = 100\n",
    "min_pos: int = 100\n",
    "\n",
    "sense_data_1 = cwd.parent / \"Data_Files\" / \"Primates\" / \"Genetics\" / \"Homo_sapiens\" / \"Sense_Data\" / \"Data_Set_1_cleaned_dict.pkl\"\n",
    "sense_data_2 = cwd.parent / \"Data_Files\" / \"Primates\" / \"Genetics\" / \"Homo_sapiens\" / \"Sense_Data\" / \"Data_Set_2_cleaned_dict.pkl\"\n",
    "sense_save = cwd.parent / \"Data_Files\" / \"Primates\" / \"Genetics\" / \"Homo_sapiens\" / \"Sense_Data\" / \"Sense_cleaned_dict.pkl\"\n",
    "\n",
    "output_path = cwd.parent / \"Data_Files\" / \"Primates\" / \"Genetics\" / \"Homo_sapiens\" / \"G_Data_v2\"\n",
    "output_path.mkdir(parents = True, exist_ok = True)\n",
    "\n",
    "with open(sense_data_1, \"rb\") as file:\n",
    "    sense_data_1 = pickle.load(file)\n",
    "\n",
    "with open(sense_data_2, \"rb\") as file:\n",
    "    sense_data_2 = pickle.load(file)\n",
    "\n",
    "sense_data = sense_data_1 | sense_data_2\n",
    "\n",
    "with open(sense_save, \"wb\") as file:\n",
    "    pickle.dump(sense_data, file)"
   ]
  },
  {
   "cell_type": "code",
   "execution_count": 3,
   "metadata": {},
   "outputs": [],
   "source": [
    "anti_data_1 = cwd.parent / \"Data_Files\" / \"Primates\" / \"Genetics\" / \"Homo_sapiens\" / \"Anti_Data\" / \"Data_Set_1_cleaned_dict.pkl\"\n",
    "anti_data_2 = cwd.parent / \"Data_Files\" / \"Primates\" / \"Genetics\" / \"Homo_sapiens\" / \"Anti_Data\" / \"Data_Set_2_cleaned_dict.pkl\"\n",
    "anti_save = cwd.parent / \"Data_Files\" / \"Primates\" / \"Genetics\" / \"Homo_sapiens\" / \"Anti_Data\" / \"Anti_cleaned_dict.pkl\"\n",
    "\n",
    "with open(anti_data_1, \"rb\") as file:\n",
    "    anti_data_1 = pickle.load(file)\n",
    "\n",
    "with open(anti_data_2, \"rb\") as file:\n",
    "    anti_data_2 = pickle.load(file)\n",
    "\n",
    "anti_data = anti_data_1 | anti_data_2\n",
    "\n",
    "with open(anti_save, \"wb\") as file:\n",
    "    pickle.dump(anti_data, file)"
   ]
  },
  {
   "cell_type": "markdown",
   "metadata": {},
   "source": [
    "For all data, sense and antisense"
   ]
  },
  {
   "cell_type": "code",
   "execution_count": 4,
   "metadata": {},
   "outputs": [],
   "source": [
    "NormalData(cwd.parent / \"Data_Files\" / \"Primates\" / \"Genetics\" / \"Homo_sapiens\" / \"Cleaned_Data\" / f\"Cleaned_Data_dict.pkl\",\n",
    "           output_path / f\"Exon_all_{min_pos}-{min_ant}.xlsx\",\n",
    "           output_path / f\"Intron_all_{min_pos}-{min_ant}.xlsx\",\n",
    "           min_ant_length = min_ant,\n",
    "           min_pos_length = min_pos)"
   ]
  },
  {
   "cell_type": "markdown",
   "metadata": {},
   "source": [
    "For sense data"
   ]
  },
  {
   "cell_type": "code",
   "execution_count": 5,
   "metadata": {},
   "outputs": [],
   "source": [
    "NormalData(cwd.parent / \"Data_Files\" / \"Primates\" / \"Genetics\" / \"Homo_sapiens\" / \"Sense_Data\" / f\"Sense_cleaned_dict.pkl\",\n",
    "           output_path / f\"Exon_sense_{min_pos}-{min_ant}.xlsx\",\n",
    "           output_path / f\"Intron_sense_{min_pos}-{min_ant}.xlsx\",\n",
    "           min_ant_length = min_ant,\n",
    "           min_pos_length = min_pos)"
   ]
  },
  {
   "cell_type": "markdown",
   "metadata": {},
   "source": [
    "For anti sense data"
   ]
  },
  {
   "cell_type": "code",
   "execution_count": 6,
   "metadata": {},
   "outputs": [],
   "source": [
    "NormalData(cwd.parent / \"Data_Files\" / \"Primates\" / \"Genetics\" / \"Homo_sapiens\" / \"Anti_Data\" / f\"Anti_cleaned_dict.pkl\",\n",
    "           output_path / f\"Exon_antisense_{min_pos}-{min_ant}.xlsx\",\n",
    "           output_path / f\"Intron_antisense_{min_pos}-{min_ant}.xlsx\",\n",
    "           min_ant_length = min_ant,\n",
    "           min_pos_length = min_pos)"
   ]
  },
  {
   "cell_type": "markdown",
   "metadata": {},
   "source": [
    "Because the antisense data is not reversed but that's what Dr G wants..."
   ]
  },
  {
   "cell_type": "code",
   "execution_count": 7,
   "metadata": {},
   "outputs": [],
   "source": [
    "exon_anti_xlsx = output_path / f\"Exon_antisense_{min_pos}-{min_ant}.xlsx\"\n",
    "exon_anti_xlsx_v2 = output_path / f\"Exon_antisense_v2_{min_pos}-{min_ant}.xlsx\"\n",
    "intron_anti_xlsx = output_path / f\"Intron_antisense_{min_pos}-{min_ant}.xlsx\"\n",
    "intron_anti_xlsx_v2 = output_path / f\"Intron_antisense_v2_{min_pos}-{min_ant}.xlsx\""
   ]
  },
  {
   "cell_type": "code",
   "execution_count": 8,
   "metadata": {},
   "outputs": [
    {
     "name": "stdout",
     "output_type": "stream",
     "text": [
      "Index(['Name', 'Chrm', 'Strand', 'Posterior_100', 'Exon', 'Anterior_100'], dtype='object')\n",
      "Index(['Name', 'Chrm', 'Strand', 'Posterior_100', 'Intron', 'Anterior_100'], dtype='object')\n"
     ]
    }
   ],
   "source": [
    "exon_anti = pandas.read_excel(exon_anti_xlsx, sheet_name = \"sheet1\")\n",
    "intron_anti = pandas.read_excel(intron_anti_xlsx, sheet_name = \"sheet1\")\n",
    "\n",
    "print(exon_anti.columns)\n",
    "print(intron_anti.columns)"
   ]
  },
  {
   "cell_type": "code",
   "execution_count": 9,
   "metadata": {},
   "outputs": [],
   "source": [
    "exon_anti[f\"Posterior_{min_pos}\"] = exon_anti[f\"Posterior_{min_pos}\"].apply(lambda x: x[::-1])\n",
    "exon_anti[f\"Anterior_{min_ant}\"] = exon_anti[f\"Anterior_{min_ant}\"].apply(lambda x: x[::-1])\n",
    "exon_anti[\"Exon\"] = exon_anti[\"Exon\"].apply(lambda x: x[::-1])\n",
    "\n",
    "exon_anti.to_excel(exon_anti_xlsx_v2, sheet_name = \"sheet1\")"
   ]
  },
  {
   "cell_type": "code",
   "execution_count": 10,
   "metadata": {},
   "outputs": [],
   "source": [
    "intron_anti[f\"Posterior_{min_pos}\"] = intron_anti[f\"Posterior_{min_pos}\"].apply(lambda x: x[::-1])\n",
    "intron_anti[f\"Anterior_{min_ant}\"] = intron_anti[f\"Anterior_{min_ant}\"].apply(lambda x: x[::-1])\n",
    "intron_anti[\"Intron\"] = intron_anti[\"Intron\"].apply(lambda x: x[::-1])\n",
    "\n",
    "intron_anti.to_excel(intron_anti_xlsx_v2, sheet_name = \"sheet1\")"
   ]
  },
  {
   "cell_type": "code",
   "execution_count": 12,
   "metadata": {},
   "outputs": [],
   "source": [
    "normal2normal = pandas.read_excel(output_path / f\"Intron_all_{min_pos}-{min_ant}.xlsx\", sheet_name = \"sheet1\")\n",
    "del normal2normal[\"Intron\"]\n",
    "normal2normal[\"Posterior_Length\"] = normal2normal[f\"Posterior_{min_pos}\"].apply(lambda x: len(x))\n",
    "normal2normal[\"Anterior_Length\"] = normal2normal[f\"Anterior_{min_ant}\"].apply(lambda x: len(x))"
   ]
  },
  {
   "cell_type": "code",
   "execution_count": 13,
   "metadata": {},
   "outputs": [
    {
     "name": "stdout",
     "output_type": "stream",
     "text": [
      "             Name  Chrm Strand  \\\n",
      "0  NM_001375617.1  chr1      +   \n",
      "1  NM_001375617.1  chr1      +   \n",
      "2  NM_001375617.1  chr1      +   \n",
      "3  NM_001375617.1  chr1      +   \n",
      "4  NM_001375617.1  chr1      +   \n",
      "\n",
      "                                       Posterior_100  \\\n",
      "0  TACAGGCAAGAACCAGGATGAATGTGTGATTGCTTTGCATGACTGC...   \n",
      "1  TCAGGCTCCTTCTCTGGCCCAGCCTCTGGTGTTCAGTAATTCGAAG...   \n",
      "2  CTGGCTCAGTTGGCAGCTCAGCATTCTCAGTCTGGAAGCACCACCA...   \n",
      "3  ACAGATGTCGCCTGGATCTTCAGACAACCAGTCCTCTAGCCCTCAG...   \n",
      "4  AGTTTGGGTCAGAGCCTGTCCTTTCTGATTATGAGTCCACCCCCAC...   \n",
      "\n",
      "                                        Anterior_100  Posterior_Length  \\\n",
      "0  CATTCCTGGGAGATGGTCGGGAAGAAGAAGGGAGTCTCAGGCCAGA...               100   \n",
      "1  GTGAGCATGTTAGGGAAAGGATTTGGTGATGTCGGTGAAGCTAAAG...               100   \n",
      "2  ATTTGAAGAACCCAAGTGATTCAGCAGTGCACAGCCCCTTTACAAA...               100   \n",
      "3  ATTCCTGCTCTGGCTGTGGAGATGCCTGGCTCAGCAGATATCTCAG...               100   \n",
      "4  TGAATCATCCTCTACAATTTCATCTAACCAGAGTCAGGAGTCTGGT...               100   \n",
      "\n",
      "   Anterior_Length  \n",
      "0              100  \n",
      "1              100  \n",
      "2              100  \n",
      "3              100  \n",
      "4              100  \n",
      "(18140, 7)\n"
     ]
    }
   ],
   "source": [
    "print(normal2normal.head())\n",
    "print(normal2normal.shape)"
   ]
  },
  {
   "cell_type": "code",
   "execution_count": 14,
   "metadata": {},
   "outputs": [
    {
     "name": "stdout",
     "output_type": "stream",
     "text": [
      "(18140, 7)\n"
     ]
    }
   ],
   "source": [
    "normal2normal_filter = normal2normal[normal2normal[\"Anterior_Length\"] == 100]\n",
    "print(normal2normal.shape)"
   ]
  },
  {
   "cell_type": "code",
   "execution_count": 15,
   "metadata": {},
   "outputs": [
    {
     "name": "stdout",
     "output_type": "stream",
     "text": [
      "100\n"
     ]
    }
   ],
   "source": [
    "# print(normal2normal[[\"Strand\", \"Anterior_Length\"]].head(n = 20))\n",
    "print(normal2normal[\"Anterior_Length\"].min())"
   ]
  },
  {
   "cell_type": "code",
   "execution_count": 16,
   "metadata": {},
   "outputs": [],
   "source": [
    "normal2normal.to_excel(output_path / f\"Normal_{min_pos}-{min_ant}.xlsx\", sheet_name = \"Sheet 1\")"
   ]
  }
 ],
 "metadata": {
  "kernelspec": {
   "display_name": "thesis",
   "language": "python",
   "name": "python3"
  },
  "language_info": {
   "codemirror_mode": {
    "name": "ipython",
    "version": 3
   },
   "file_extension": ".py",
   "mimetype": "text/x-python",
   "name": "python",
   "nbconvert_exporter": "python",
   "pygments_lexer": "ipython3",
   "version": "3.10.8"
  }
 },
 "nbformat": 4,
 "nbformat_minor": 2
}
