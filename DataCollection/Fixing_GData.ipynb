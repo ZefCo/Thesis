{
 "cells": [
  {
   "cell_type": "code",
   "execution_count": 3,
   "metadata": {},
   "outputs": [],
   "source": [
    "import re\n",
    "import ucsc_restapi as upi\n",
    "import numpy as np\n",
    "import pathlib\n",
    "cwd = pathlib.Path.cwd()\n",
    "import pandas\n",
    "import pickle\n",
    "import random\n",
    "import GeneClass as Gene\n",
    "from GData import NormalData"
   ]
  },
  {
   "cell_type": "code",
   "execution_count": 5,
   "metadata": {},
   "outputs": [],
   "source": [
    "sense_data_1 = cwd.parent / \"Data_Files\" / \"Primates\" / \"Genetics\" / \"Homo_sapiens\" / \"Sense_Data\" / \"Data_Set_1_cleaned_dict.pkl\"\n",
    "sense_data_2 = cwd.parent / \"Data_Files\" / \"Primates\" / \"Genetics\" / \"Homo_sapiens\" / \"Sense_Data\" / \"Data_Set_2_cleaned_dict.pkl\"\n",
    "sense_save = cwd.parent / \"Data_Files\" / \"Primates\" / \"Genetics\" / \"Homo_sapiens\" / \"Sense_Data\" / \"Sense_cleaned_dict.pkl\"\n",
    "\n",
    "with open(sense_data_1, \"rb\") as file:\n",
    "    sense_data_1 = pickle.load(file)\n",
    "\n",
    "with open(sense_data_2, \"rb\") as file:\n",
    "    sense_data_2 = pickle.load(file)\n",
    "\n",
    "sense_data = sense_data_1 | sense_data_2\n",
    "\n",
    "with open(sense_save, \"wb\") as file:\n",
    "    pickle.dump(sense_data, file)"
   ]
  },
  {
   "cell_type": "code",
   "execution_count": 6,
   "metadata": {},
   "outputs": [],
   "source": [
    "anti_data_1 = cwd.parent / \"Data_Files\" / \"Primates\" / \"Genetics\" / \"Homo_sapiens\" / \"Anti_Data\" / \"Data_Set_1_cleaned_dict.pkl\"\n",
    "anti_data_2 = cwd.parent / \"Data_Files\" / \"Primates\" / \"Genetics\" / \"Homo_sapiens\" / \"Anti_Data\" / \"Data_Set_2_cleaned_dict.pkl\"\n",
    "anti_save = cwd.parent / \"Data_Files\" / \"Primates\" / \"Genetics\" / \"Homo_sapiens\" / \"Anti_Data\" / \"Anti_cleaned_dict.pkl\"\n",
    "\n",
    "with open(anti_data_1, \"rb\") as file:\n",
    "    anti_data_1 = pickle.load(file)\n",
    "\n",
    "with open(anti_data_2, \"rb\") as file:\n",
    "    anti_data_2 = pickle.load(file)\n",
    "\n",
    "anti_data = anti_data_1 | anti_data_2\n",
    "\n",
    "with open(anti_save, \"wb\") as file:\n",
    "    pickle.dump(anti_data, file)"
   ]
  },
  {
   "cell_type": "markdown",
   "metadata": {},
   "source": [
    "For all data, sense and antisense"
   ]
  },
  {
   "cell_type": "code",
   "execution_count": 7,
   "metadata": {},
   "outputs": [],
   "source": [
    "NormalData(cwd.parent / \"Data_Files\" / \"Primates\" / \"Genetics\" / \"Homo_sapiens\" / \"Cleaned_Data\" / \"Cleaned_Data_dict.pkl\",\n",
    "           cwd.parent / \"Data_Files\" / \"Primates\" / \"Genetics\" / \"Homo_sapiens\" / \"G_Data\" / \"Exon_all.xlsx\",\n",
    "           cwd.parent / \"Data_Files\" / \"Primates\" / \"Genetics\" / \"Homo_sapiens\" / \"G_Data\" / \"Intron_all.xlsx\",\n",
    "           min_length = 20)"
   ]
  },
  {
   "cell_type": "markdown",
   "metadata": {},
   "source": [
    "For sense data"
   ]
  },
  {
   "cell_type": "code",
   "execution_count": 8,
   "metadata": {},
   "outputs": [],
   "source": [
    "NormalData(cwd.parent / \"Data_Files\" / \"Primates\" / \"Genetics\" / \"Homo_sapiens\" / \"Sense_Data\" / \"Sense_cleaned_dict.pkl\",\n",
    "           cwd.parent / \"Data_Files\" / \"Primates\" / \"Genetics\" / \"Homo_sapiens\" / \"G_Data\" / \"Exon_sense.xlsx\",\n",
    "           cwd.parent / \"Data_Files\" / \"Primates\" / \"Genetics\" / \"Homo_sapiens\" / \"G_Data\" / \"Intron_sense.xlsx\",\n",
    "           min_length = 20)"
   ]
  },
  {
   "cell_type": "markdown",
   "metadata": {},
   "source": [
    "For anti sense data"
   ]
  },
  {
   "cell_type": "code",
   "execution_count": 19,
   "metadata": {},
   "outputs": [],
   "source": [
    "NormalData(cwd.parent / \"Data_Files\" / \"Primates\" / \"Genetics\" / \"Homo_sapiens\" / \"Anti_Data\" / \"Anti_cleaned_dict.pkl\",\n",
    "           cwd.parent / \"Data_Files\" / \"Primates\" / \"Genetics\" / \"Homo_sapiens\" / \"G_Data\" / \"Exon_antisense.xlsx\",\n",
    "           cwd.parent / \"Data_Files\" / \"Primates\" / \"Genetics\" / \"Homo_sapiens\" / \"G_Data\" / \"Intron_antisense.xlsx\",\n",
    "           min_length = 20)"
   ]
  },
  {
   "cell_type": "markdown",
   "metadata": {},
   "source": [
    "Because the antisense data is not reversed but that's what Dr G wants..."
   ]
  },
  {
   "cell_type": "code",
   "execution_count": 20,
   "metadata": {},
   "outputs": [],
   "source": [
    "exon_anti_xlsx = cwd.parent / \"Data_Files\" / \"Primates\" / \"Genetics\" / \"Homo_sapiens\" / \"G_Data\" / \"Exon_antisense.xlsx\"\n",
    "exon_anti_xlsx_v2 = cwd.parent / \"Data_Files\" / \"Primates\" / \"Genetics\" / \"Homo_sapiens\" / \"G_Data\" / \"Exon_antisense_v2.xlsx\"\n",
    "intron_anti_xlsx = cwd.parent / \"Data_Files\" / \"Primates\" / \"Genetics\" / \"Homo_sapiens\" / \"G_Data\" / \"Intron_antisense.xlsx\"\n",
    "intron_anti_xlsx_v2 = cwd.parent / \"Data_Files\" / \"Primates\" / \"Genetics\" / \"Homo_sapiens\" / \"G_Data\" / \"Intron_antisense_v2.xlsx\""
   ]
  },
  {
   "cell_type": "code",
   "execution_count": 21,
   "metadata": {},
   "outputs": [
    {
     "name": "stdout",
     "output_type": "stream",
     "text": [
      "Index(['Name', 'Chrm', 'Strand', 'Posterior_20', 'Exon', 'Anterior_20'], dtype='object')\n",
      "Index(['Name', 'Chrm', 'Strand', 'Posterior_20', 'Intron', 'Anterior_20'], dtype='object')\n"
     ]
    }
   ],
   "source": [
    "exon_anti = pandas.read_excel(exon_anti_xlsx, sheet_name = \"sheet1\")\n",
    "intron_anti = pandas.read_excel(intron_anti_xlsx, sheet_name = \"sheet1\")\n",
    "\n",
    "print(exon_anti.columns)\n",
    "print(intron_anti.columns)"
   ]
  },
  {
   "cell_type": "code",
   "execution_count": 22,
   "metadata": {},
   "outputs": [],
   "source": [
    "exon_anti[\"Posterior_20\"] = exon_anti[\"Posterior_20\"].apply(lambda x: x[::-1])\n",
    "exon_anti[\"Anterior_20\"] = exon_anti[\"Anterior_20\"].apply(lambda x: x[::-1])\n",
    "exon_anti[\"Exon\"] = exon_anti[\"Exon\"].apply(lambda x: x[::-1])\n",
    "\n",
    "exon_anti.to_excel(exon_anti_xlsx_v2, sheet_name = \"sheet1\")"
   ]
  },
  {
   "cell_type": "code",
   "execution_count": 23,
   "metadata": {},
   "outputs": [],
   "source": [
    "intron_anti[\"Posterior_20\"] = intron_anti[\"Posterior_20\"].apply(lambda x: x[::-1])\n",
    "intron_anti[\"Anterior_20\"] = intron_anti[\"Anterior_20\"].apply(lambda x: x[::-1])\n",
    "intron_anti[\"Intron\"] = intron_anti[\"Intron\"].apply(lambda x: x[::-1])\n",
    "\n",
    "intron_anti.to_excel(intron_anti_xlsx_v2, sheet_name = \"sheet1\")"
   ]
  }
 ],
 "metadata": {
  "kernelspec": {
   "display_name": "thesis",
   "language": "python",
   "name": "python3"
  },
  "language_info": {
   "codemirror_mode": {
    "name": "ipython",
    "version": 3
   },
   "file_extension": ".py",
   "mimetype": "text/x-python",
   "name": "python",
   "nbconvert_exporter": "python",
   "pygments_lexer": "ipython3",
   "version": "3.10.8"
  }
 },
 "nbformat": 4,
 "nbformat_minor": 2
}
