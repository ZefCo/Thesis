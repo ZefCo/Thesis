{
 "cells": [
  {
   "cell_type": "markdown",
   "metadata": {},
   "source": [
    "In retrospect I should have written the .py scripts and then used .ipynb files to execute them. I'm going to try that here.\n",
    "\n",
    "Except the problem is that you have to reload the thing here if you make some changes... that's why I didn't do it."
   ]
  },
  {
   "cell_type": "code",
   "execution_count": 1,
   "metadata": {},
   "outputs": [],
   "source": [
    "from cmath import exp\n",
    "from textwrap import wrap\n",
    "import requests\n",
    "from requests.adapters import HTTPAdapter\n",
    "import logging\n",
    "import traceback\n",
    "from inspect import currentframe, getframeinfo\n",
    "import re\n",
    "import time\n",
    "import urllib3\n",
    "from Stitch_Dict import stitch_dict\n",
    "from Stitch_Dict import select_data\n",
    "import pathlib\n",
    "cwd = pathlib.Path.cwd()\n",
    "from GData import NormalData"
   ]
  },
  {
   "cell_type": "code",
   "execution_count": 4,
   "metadata": {},
   "outputs": [
    {
     "name": "stdout",
     "output_type": "stream",
     "text": [
      "Outputing to d:\\Coding\\Thesis\\Data_Files\\Primates\\Genetics\\Homo_sapiens\\HomoSapiens.pkl: first checking if d:\\Coding\\Thesis\\Data_Files\\Primates\\Genetics\\Homo_sapiens exists\n",
      "Finding .pkl files in d:\\Coding\\Thesis\\Data_Files\\Primates\\Genetics\\Homo_sapiens\n",
      "Found 2 pikle files, now combining them\n",
      "Writing master pikle file to d:\\Coding\\Thesis\\Data_Files\\Primates\\Genetics\\Homo_sapiens\\HomoSapiens.pkl\n"
     ]
    }
   ],
   "source": [
    "stitch_dict(cwd.parent / \"Data_Files\" / \"Primates\" / \"Genetics\" / \"Homo_sapiens\", cwd.parent / \"Data_Files\" / \"Primates\" / \"Genetics\" / \"Homo_sapiens\" / \"HomoSapiens.pkl\")"
   ]
  },
  {
   "cell_type": "code",
   "execution_count": 7,
   "metadata": {},
   "outputs": [
    {
     "name": "stdout",
     "output_type": "stream",
     "text": [
      "Checking if d:\\Coding\\Thesis\\Data_Files\\Primates\\Genetics\\Homo_sapiens\\Cleaned_Data exists, and if not creating it.\n",
      "Loading data from d:\\Coding\\Thesis\\Data_Files\\Primates\\Genetics\\Homo_sapiens\\HomoSapiens.pkl\n",
      "Selecting 25000 random keys\n",
      "Creating two seperate datasets from the previously selected data\n",
      "Cleaning dataset 1\n",
      "Writing Dataset 1 to d:\\Coding\\Thesis\\Data_Files\\Primates\\Genetics\\Homo_sapiens\\Cleaned_Data/Data_Set_1_cleaned_dict.pkl\n",
      "Converting Dataset 1 to a dataframe\n",
      "Writing converted Dataset 1 to d:\\Coding\\Thesis\\Data_Files\\Primates\\Genetics\\Homo_sapiens\\Cleaned_Data/Data_Set_1_frame.pkl\n",
      "Cleaning dataset 2\n",
      "Writing Dataset 2 to d:\\Coding\\Thesis\\Data_Files\\Primates\\Genetics\\Homo_sapiens\\Cleaned_Data/Data_Set_2_cleaned_dict.pkl\n",
      "Converting Dataset 2 to a dataframe\n",
      "Writing converted Dataset 2 to d:\\Coding\\Thesis\\Data_Files\\Primates\\Genetics\\Homo_sapiens\\Cleaned_Data/Data_Set_2_frame.pkl\n"
     ]
    }
   ],
   "source": [
    "select_data(cwd.parent / \"Data_Files\" / \"Primates\" / \"Genetics\" / \"Homo_sapiens\" / \"HomoSapiens.pkl\", cwd.parent / \"Data_Files\" / \"Primates\" / \"Genetics\" / \"Homo_sapiens\" / \"Cleaned_Data\", histogram_method = False)"
   ]
  },
  {
   "cell_type": "code",
   "execution_count": 2,
   "metadata": {},
   "outputs": [],
   "source": [
    "NormalData(cwd.parent / \"Data_Files\" / \"Primates\" / \"Genetics\" / \"Homo_sapiens\" / \"Cleaned_Data\" / \"Data_Set_1_cleaned_dict.pkl\",\n",
    "           cwd.parent / \"Data_Files\" / \"Primates\" / \"Genetics\" / \"Homo_sapiens\" / \"Exon_Intron_Data\" / \"Exon.xlsx\",\n",
    "           cwd.parent / \"Data_Files\" / \"Primates\" / \"Genetics\" / \"Homo_sapiens\" / \"Exon_Intron_Data\" / \"Intron.xlsx\",\n",
    "           min_length = 20)\n",
    "\n",
    "# path = cwd.parent / \"Data_Files\" / \"Primates\" / \"Genetics\" / \"Homo_sapiens\" / \"Exon_Intron_Data\" / \"Exon.xlsx\"\n",
    "# path.parent.mkdir(parents=True, exist_ok=True)"
   ]
  }
 ],
 "metadata": {
  "kernelspec": {
   "display_name": "thesis",
   "language": "python",
   "name": "python3"
  },
  "language_info": {
   "codemirror_mode": {
    "name": "ipython",
    "version": 3
   },
   "file_extension": ".py",
   "mimetype": "text/x-python",
   "name": "python",
   "nbconvert_exporter": "python",
   "pygments_lexer": "ipython3",
   "version": "3.10.8"
  }
 },
 "nbformat": 4,
 "nbformat_minor": 2
}
