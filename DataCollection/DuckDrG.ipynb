{
 "cells": [
  {
   "cell_type": "code",
   "execution_count": 8,
   "metadata": {},
   "outputs": [
    {
     "name": "stdout",
     "output_type": "stream",
     "text": [
      "['AGATAACTTTATGACTGTGAAATAGGTAAATAATACATTGTCCTCCGTTCTTCAAGTACCCTTACACCCCCACGACAGATCCAAGACCCCCCCGCCCCCTATGCGACCTAAAGATGACGTACATCGTAAGTACCGAATCGAAAGACGAGATAGGTCGAGGAGGGGATTGGTGGATACTCTCGTGACGGACCATTGATCCCGATCTCGGGGATCGTTGGTTACAGGGTTGATCACGGACGTAGAGTCACTTTGAACTACCCACCAGATGCACGACGGTGGAACAAAGGATCGTTGTACCATGTTTCCTCCGACCCATTAATACCATCCCTTTGAGTGGACTACACTAACCACGCGAAAGACGGAAGACGTCTCGTCTTAATACCCATTGCCGAAGATATGAATGAGTAGGGGGGATATTTTGGGGTATACCCTTCTCTCCCCGTGGCATGACACTTCGGGTTACCGATGGAGACGAGTGGGAAAGTCACGGTCCGACCGTGTAGGGTGGTTACCGACCTCAGGAATCTAGACGGGGTATTGGTTCACCAGACCGGGAAACCCACAACCCCCCGGCGGCGACAGACAACACGGGACGCCCCCCGTCGTGACGGCTAAGGACGCCATTGTAAGGTTCGATGTCTCCCCGTGCACCCAGACTCTTGTCCTCATGAAAAACCCCAAAGGCGTCGGACCCTGGGGCGTCTCCCACCCACGTCCCTCACGACCCTCCCCGAGTCACCCCCGCCCCGTTCCGTGGGGGCATCCCTTTCTCTGACTTTACCATACTCGCGACAAGACCATCGCCTAGTATCCCGTCCCCCCGACCGCCGGAGCGGAGAGAGCCCCCCGAAATCGCGGCGCCCTGAACCTCCAGAACCACTCAGCGAGCTACCAGACAAAGAATGAGAAGTGGTCGTAGAGGAGGCTCTCGCCCCCCGGCCCCATGCGACGGCCCCCCTTCTCGCCCTCCCGGCCGTAGACGACGAAGACGTCCTCCCGAAAGAC']\n",
      "None\n"
     ]
    }
   ],
   "source": [
    "import pickle\n",
    "import GeneClass as Gene\n",
    "\n",
    "species = \"Frog\"\n",
    "genome = \"xenTro9\"\n",
    "\n",
    "with open(f\"D:\\Downloads\\GeneData\\{species}\\Known_Genes_{genome}_DICT_0.pkl\", \"rb\") as file:\n",
    "    data: dict = pickle.load(file)\n",
    "\n",
    "key = list(data.keys())[0]\n",
    "\n",
    "first_gene: Gene.Gene = data[key]\n",
    "\n",
    "print(first_gene.exon_seq)\n",
    "print(first_gene.intron_seq)"
   ]
  }
 ],
 "metadata": {
  "kernelspec": {
   "display_name": "thesis",
   "language": "python",
   "name": "python3"
  },
  "language_info": {
   "codemirror_mode": {
    "name": "ipython",
    "version": 3
   },
   "file_extension": ".py",
   "mimetype": "text/x-python",
   "name": "python",
   "nbconvert_exporter": "python",
   "pygments_lexer": "ipython3",
   "version": "3.10.4"
  }
 },
 "nbformat": 4,
 "nbformat_minor": 2
}
