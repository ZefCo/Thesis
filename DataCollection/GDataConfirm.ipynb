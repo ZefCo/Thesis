{
 "cells": [
  {
   "cell_type": "code",
   "execution_count": 96,
   "metadata": {},
   "outputs": [],
   "source": [
    "import re\n",
    "import ucsc_restapi as upi\n",
    "import numpy as np\n",
    "import pathlib\n",
    "cwd = pathlib.Path.cwd()\n",
    "import pandas\n",
    "import pickle\n",
    "import random\n",
    "import GeneClass as Gene\n",
    "from GData import random_keys\n"
   ]
  },
  {
   "cell_type": "code",
   "execution_count": 97,
   "metadata": {},
   "outputs": [],
   "source": [
    "# intron = pandas.read_excel(cwd.parent / \"Data_Files\" / \"Intron.xlsx\", sheet_name = \"sheet1\")"
   ]
  },
  {
   "cell_type": "code",
   "execution_count": 98,
   "metadata": {},
   "outputs": [],
   "source": [
    "# seq = intron.loc[13, \"Intron\"]\n",
    "# qes = seq[::-1]\n",
    "# print(qes)"
   ]
  },
  {
   "cell_type": "code",
   "execution_count": 99,
   "metadata": {},
   "outputs": [],
   "source": [
    "# print(intron.loc[13,:])"
   ]
  },
  {
   "cell_type": "code",
   "execution_count": 100,
   "metadata": {},
   "outputs": [],
   "source": [
    "# qes2 = \"gtgagctgaggggatttatagggcagaacccaaaacatttagaggtatataaggcattaatatggatttaaactggctggtttgggttctgaaaggtccagaagtagaaggtggaagaaatagagattgttcttctttgtcttcatctctggttctgactaatttcatatttcccccag\".upper()\n",
    "# if qes in qes2:\n",
    "#     print(\"Bingo\")\n",
    "# elif qes[::-1] in qes2:\n",
    "#     print(\"Ognib\")\n",
    "# else:\n",
    "#     print(\"WTF\")"
   ]
  },
  {
   "cell_type": "code",
   "execution_count": 101,
   "metadata": {},
   "outputs": [],
   "source": [
    "# if seq in qes2:\n",
    "#     print(\"Bingo\")\n",
    "# elif seq[::-1] in qes2:\n",
    "#     print(\"Ognib\")\n",
    "# else:\n",
    "#     print(\"WTF\")"
   ]
  },
  {
   "cell_type": "code",
   "execution_count": 102,
   "metadata": {},
   "outputs": [],
   "source": [
    "# element_drive = pathlib.Path(\"F:\\Gene_Data_Sets\")\n",
    "# gene_drive = pathlib.Path(\"F:\\GeneData\")\n",
    "# file = element_drive / \"Data_Set_1_cleaned_dict.pkl\"\n",
    "\n",
    "# minus_dict = {}\n",
    "# minus_out = gene_drive / \"Minus.pkl\"\n",
    "# positive_dict = {}\n",
    "# positive_out = gene_drive / \"Plus.pkl\"\n",
    "\n",
    "# with open(file, \"rb\") as pfile:\n",
    "#     data_dict: dict = pickle.load(pfile)\n",
    "\n",
    "# selected_data = random_keys(data_dict, 500)\n",
    "# gene: Gene.Gene\n",
    "\n",
    "# for name, gene in selected_data.items():\n",
    "#     if gene.strand in \"-\":\n",
    "#         minus_dict[name] = gene\n",
    "#     elif gene.strand in \"+\":\n",
    "#         positive_dict[name] = gene\n",
    "\n",
    "# with open(minus_out, \"wb\") as file:\n",
    "#     pickle.dump(minus_dict, file)\n",
    "# with open(positive_out, \"wb\") as file:\n",
    "#     pickle.dump(positive_dict, file)"
   ]
  },
  {
   "cell_type": "code",
   "execution_count": 103,
   "metadata": {},
   "outputs": [],
   "source": [
    "# minus: dict = pandas.read_pickle(gene_drive / \"Minus.pkl\")  # I did this by accident and it fucking works!\n",
    "# minus_keys: tuple = tuple(minus.keys())\n",
    "# minus_values: tuple = tuple(minus.values())\n",
    "# plus: dict = pandas.read_pickle(gene_drive / \"Plus.pkl\")\n",
    "# plus_keys: tuple = tuple(plus.keys())\n",
    "# plus_values: tuple = tuple(plus.values())"
   ]
  },
  {
   "cell_type": "code",
   "execution_count": 104,
   "metadata": {},
   "outputs": [],
   "source": [
    "# plus_0: Gene.Gene\n",
    "# minus_0: Gene.Gene\n",
    "\n",
    "# plus_0 = plus_values[0]\n",
    "# minus_0 = minus_values[0]\n"
   ]
  },
  {
   "cell_type": "code",
   "execution_count": 105,
   "metadata": {},
   "outputs": [],
   "source": [
    "# with open(cwd / \"Positive.txt\", \"w\") as file:\n",
    "#     file.write(f\"{plus_0.name}\\t{plus_0.strand}\\t{plus_0.chrm}\\n\")\n",
    "#     for exon in plus_0.exon_seq:\n",
    "#         file.write(f\"{exon}\\n\\n\")\n",
    "#     file.write(\"\\n\\n\")\n",
    "#     for intron in plus_0.intron_seq:\n",
    "#         file.write(f\"{intron}\\n\\n\")"
   ]
  },
  {
   "cell_type": "code",
   "execution_count": 106,
   "metadata": {},
   "outputs": [],
   "source": [
    "# with open(cwd / \"Minus.txt\", \"w\") as file:\n",
    "#     file.write(f\"{minus_0.name}\\t{minus_0.strand}\\t{minus_0.chrm}\\n\")\n",
    "#     file.write(\"###Exons\\n\")\n",
    "#     for exon in minus_0.exon_seq:\n",
    "#         file.write(f\"{len(exon)}\\n\")\n",
    "#         file.write(f\"{exon[::-1]}\\n\\n\")\n",
    "#     file.write(\"\\n\\n###Introns\")\n",
    "#     for intron in minus_0.intron_seq:\n",
    "#         file.write(f\"{len(intron)}\\n\")\n",
    "#         file.write(f\"{intron[::-1]}\\n\\n\")\n",
    "\n",
    "#     file.write(\"\\n\\n\\n###Cords\")\n",
    "#     for crd in minus_0.exon_cords:\n",
    "#         file.write(f\"{crd}\\n\\n\")\n",
    "\n",
    "# print(vars(minus_0).keys())"
   ]
  },
  {
   "cell_type": "code",
   "execution_count": 107,
   "metadata": {},
   "outputs": [],
   "source": [
    "with open(cwd.parent / \"Data_Files\" / \"Primates\" / \"Genetics\" / \"Homo_sapiens\" / \"Antisense_Investigation.pkl\", \"rb\") as file:\n",
    "    data: dict = pickle.load(file)"
   ]
  },
  {
   "cell_type": "code",
   "execution_count": 108,
   "metadata": {},
   "outputs": [],
   "source": [
    "genes: tuple = tuple(data.values())\n",
    "gene_0: Gene.Gene = genes[0]\n",
    "gene_1: Gene.Gene = genes[1]\n"
   ]
  },
  {
   "cell_type": "code",
   "execution_count": 109,
   "metadata": {},
   "outputs": [],
   "source": [
    "name_1 = gene_1.name\n",
    "nname_1 = gene_1.ncibname\n",
    "strand_1 = gene_1.strand\n",
    "chrm_1 = gene_1.chrm"
   ]
  },
  {
   "cell_type": "code",
   "execution_count": 110,
   "metadata": {},
   "outputs": [
    {
     "name": "stdout",
     "output_type": "stream",
     "text": [
      "NOC2L NM_015658.4 - chr1\n"
     ]
    }
   ],
   "source": [
    "print(name_1, nname_1, strand_1, chrm_1)"
   ]
  },
  {
   "cell_type": "code",
   "execution_count": 111,
   "metadata": {},
   "outputs": [
    {
     "data": {
      "text/plain": [
       "['ATGGAGACCCAGACGCAGAGGCGGGGCTGGCCCCTGGGGAGCTGCAGCAGCTGGCCCAGGGGCCGGAGGACGAGCTGGAGGATCTGCAGCTCTCAGAGGACGACTGAGGCAGCCCATCTGGGGGGCCTGTAGGGGCTGCCGGGCTGGTGGCCAGTGTTTCCACCTCCCTGGCAGTCAGGCCTAGAGGCTGGCGTCTGTGCAGTTGGGGGAGGCAGTAGACACGGGACAGGCTTTATTATTTATTTTTCAGCATGAAAGACCAAACGTATCGAGATGTGGCTGCTGAAGCCCCACAGCTGTGGGCTGCTGAAGTCAGCTCCGCGGGGGAGCTGACCCTGACGTCAGCAGACCGAGACCAGTCCCAGTTCCAGGGGGAGGCCTGCAGGCCCCTGGCCCCTTCCACCACCTCTGCCCTCCGTCTGCAGACCTCGTCCATCTGCACCAGGCTCTGCCTTCACTCCCCCAAGTCTTTGAAAATTTGTTCCTTTCCTTTGAAGTCACATTTTCTTTTAAAATTTTTTGTTTTGCATCCGAAACCGAAAGAAATAAAGCGGTGGGAGGCAGGGCCATTGTGTTGA',\n",
       " 'GGATACTGAGGCCCCTGAGCACTCGGCATCAGCAGCAACTCGGAGG',\n",
       " 'CTGGAAGACCTGAACTTCCCTGAGATCAAACGAAGGAAGATGGCTGACAGGAAGGATGAGGACAGGAAGCAATTTAAAGACCTCTTTGACCTGAACAGCTCTGAAGAGGACGACACCGAGGGATTCTCGGAGAGAG',\n",
       " 'GAAGCCTGGGAGAAGCTGACCCGGGAAGAGGGGACACCCCTGACCTTGTACTACAGCCACTGGCGCAAGCTGCGTGACCGGGAGATCCAGCTGGAGATCAGTGGCAAAGAGCGG',\n",
       " 'CTGAAGTCGTTCCTCCGGGAGTGCAAGGTGGCCAACTACTGCCGGCAGGTGCAGCAGCTGCTTGGGAAGGTTCAGGAGAACTCGGCATACATCTGCAGCCGCCGCCAGAGGGTTTCCTTCGGCGTCTCTGAGCAGCAGGCAGTG',\n",
       " 'GACGGCCTGGTGGAGCAGCTGTACGACCTCACCCTGGAGTACCTGCACAGCCAGGCACACTGCATCGGCTTCCCGGAGCTGGTGCTGCCTGTGGTCCTGCAG',\n",
       " 'ATGTTCCAGCAGGTCGACTTCAACAGGAAGCCAGGGCGCATGAGCTCCAAGCCCATCAACTTCTCCGTGATCCTGAAGCTGTCCAATGTCAACCTGCAGGAGAAGGCGTACCGG',\n",
       " 'GCTCATCCCCACTGCCCGCTTCTACCCGCTGCGAATGCACTGCATCCGTGCCCTGACGCTGCTCTCGGGGAGCTCGGGGGCCTTCATCCCGGTGCTGCCTTTCATCCTGGAG',\n",
       " 'GAAACATACCAGTCTGTGTACAACTGGCAGTATGTGCACTGCCTCTTCCTGTGGTGCCGGGTCCTGAGCACTGCGGGCCCCAGCGAAGCCCTCCAGCCCTTGGTCTACCCCCTTGCCCAAGTCATCATTGGCTGTATCAA',\n",
       " 'CAAATGTACATCACGTATGTGAGGAACTGCAAGTTCACCTCGCCTGGTGCCCTCCCCTTCATCAGTTTCATGCAGTGGACCTTGACGGAGCTGCTGGCCCTGGAGCCGGGTGTGGCCTACCAGCACGCCTTCCTCTACATCCGCCAGCTCGCCATACACCTGCGCAACGCCATGACCACTCGCAAGAAG',\n",
       " 'AGAATGGTGATCGTATGGAGCACTGGGGAAGAGTCTCTGCGGGTGCTGGCTTTCCTGGTCCTCAGCAGAGTCTGCCGGCACAAGAAGGACACTTTCCTTGGCCCCGTCCTCAAG',\n",
       " 'CTGGTGTCCTGTCTGTCGGAGACGACGGTGTTGGCGGCCGTGCTGCGGCACATCAGCGTGCTGGTGCCCTGCTTCCTGACCTTCCCCAAGCAGTGCCGCATGCTGCTCAAG',\n",
       " 'GATGCTGCAGCCGTCCAGCAGCCCGCTCTGGGGGAAGCTTCGTGTGGACATCAAGGCTTACCTGGGCTCGGCCATACAG',\n",
       " 'CATTCAATGCTCTGGTTACCTTCTGCATCAGAGACCTCATTGGCTGTCTCCAGAAGCTGCTGTTTGGAAAGGTGGCAAAGGATAGCAGCAG',\n",
       " 'CAACGCCTCACTCCAAAGCTGTTCCATGAAGTGGTACAGGCGTTCCGAGCAGCTGTGGCCACCACCCGAGGGGACCAGGAAAGTGCTGAGGCCAACAAATTCCAGGTCACGGACAGTGCTG',\n",
       " 'GAAGCCAGTGAGGAGGAGGATGGAGCGGAGGAAGGAGAAGATGGGGACAGAGTCCCCAGAGGGCTGAAGGGGAAGAAGAATTCTGTTCCTGTGACCGTCGCCATGGTTGAGAGATGGAAGCAGGCAGCAAAG',\n",
       " 'CCGGCGTAAAGGCCGTGCCTCTGAGCACAAAGACCAGCTCTCTCGGCTGAAGGACAGAGACCCCGAGTTCTACAAGTTCCTGCAGGAGAATGACCAGAGCCTGCTAAACTTCAGCGACTCGGACAGCTCTGAGGAGGAAGAGGGGCCGTTCCACTCCCTGCCAGATGTGCTGGAG',\n",
       " 'GCGCCTGGCGGAGCTGACGGTGGACGAGTTCCTAGCTTCGGGCTTTGACTCCGAGTCCGAATCCGAGTCCGAAAATTCTCCACAAGCGGAGACACGGGAAGCACGCGAGGCTGCCCGGAGTCCGGATAAGCCGGGCGGGAGCCCCTCGGCCAG',\n",
       " 'GCTTCGGGTTGGTGTCATGGCAGCTGCGGGGAGCCGCAAGAG']"
      ]
     },
     "execution_count": 111,
     "metadata": {},
     "output_type": "execute_result"
    }
   ],
   "source": [
    "gene_1.exon_seq"
   ]
  },
  {
   "cell_type": "code",
   "execution_count": 112,
   "metadata": {},
   "outputs": [
    {
     "data": {
      "text/plain": [
       "58"
      ]
     },
     "execution_count": 112,
     "metadata": {},
     "output_type": "execute_result"
    }
   ],
   "source": [
    "gene_1.urls"
   ]
  }
 ],
 "metadata": {
  "kernelspec": {
   "display_name": "thesis",
   "language": "python",
   "name": "python3"
  },
  "language_info": {
   "codemirror_mode": {
    "name": "ipython",
    "version": 3
   },
   "file_extension": ".py",
   "mimetype": "text/x-python",
   "name": "python",
   "nbconvert_exporter": "python",
   "pygments_lexer": "ipython3",
   "version": "3.10.8"
  }
 },
 "nbformat": 4,
 "nbformat_minor": 2
}
