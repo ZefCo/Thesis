{
 "cells": [
  {
   "cell_type": "code",
   "execution_count": 127,
   "metadata": {},
   "outputs": [],
   "source": [
    "import re\n",
    "import ucsc_restapi as upi\n",
    "import numpy as np\n",
    "import pathlib\n",
    "cwd = pathlib.Path.cwd()\n",
    "import pandas\n",
    "import pickle\n",
    "import random\n",
    "import GeneClass as Gene\n",
    "from GData import random_keys\n"
   ]
  },
  {
   "cell_type": "code",
   "execution_count": 128,
   "metadata": {},
   "outputs": [],
   "source": [
    "# intron = pandas.read_excel(cwd.parent / \"Data_Files\" / \"Intron.xlsx\", sheet_name = \"sheet1\")"
   ]
  },
  {
   "cell_type": "code",
   "execution_count": 129,
   "metadata": {},
   "outputs": [],
   "source": [
    "# seq = intron.loc[13, \"Intron\"]\n",
    "# qes = seq[::-1]\n",
    "# print(qes)"
   ]
  },
  {
   "cell_type": "code",
   "execution_count": 130,
   "metadata": {},
   "outputs": [],
   "source": [
    "# print(intron.loc[13,:])"
   ]
  },
  {
   "cell_type": "code",
   "execution_count": 131,
   "metadata": {},
   "outputs": [],
   "source": [
    "# qes2 = \"gtgagctgaggggatttatagggcagaacccaaaacatttagaggtatataaggcattaatatggatttaaactggctggtttgggttctgaaaggtccagaagtagaaggtggaagaaatagagattgttcttctttgtcttcatctctggttctgactaatttcatatttcccccag\".upper()\n",
    "# if qes in qes2:\n",
    "#     print(\"Bingo\")\n",
    "# elif qes[::-1] in qes2:\n",
    "#     print(\"Ognib\")\n",
    "# else:\n",
    "#     print(\"WTF\")"
   ]
  },
  {
   "cell_type": "code",
   "execution_count": 132,
   "metadata": {},
   "outputs": [],
   "source": [
    "# if seq in qes2:\n",
    "#     print(\"Bingo\")\n",
    "# elif seq[::-1] in qes2:\n",
    "#     print(\"Ognib\")\n",
    "# else:\n",
    "#     print(\"WTF\")"
   ]
  },
  {
   "cell_type": "code",
   "execution_count": 133,
   "metadata": {},
   "outputs": [],
   "source": [
    "# element_drive = pathlib.Path(\"F:\\Gene_Data_Sets\")\n",
    "# gene_drive = pathlib.Path(\"F:\\GeneData\")\n",
    "# file = element_drive / \"Data_Set_1_cleaned_dict.pkl\"\n",
    "\n",
    "# minus_dict = {}\n",
    "# minus_out = gene_drive / \"Minus.pkl\"\n",
    "# positive_dict = {}\n",
    "# positive_out = gene_drive / \"Plus.pkl\"\n",
    "\n",
    "# with open(file, \"rb\") as pfile:\n",
    "#     data_dict: dict = pickle.load(pfile)\n",
    "\n",
    "# selected_data = random_keys(data_dict, 500)\n",
    "# gene: Gene.Gene\n",
    "\n",
    "# for name, gene in selected_data.items():\n",
    "#     if gene.strand in \"-\":\n",
    "#         minus_dict[name] = gene\n",
    "#     elif gene.strand in \"+\":\n",
    "#         positive_dict[name] = gene\n",
    "\n",
    "# with open(minus_out, \"wb\") as file:\n",
    "#     pickle.dump(minus_dict, file)\n",
    "# with open(positive_out, \"wb\") as file:\n",
    "#     pickle.dump(positive_dict, file)"
   ]
  },
  {
   "cell_type": "code",
   "execution_count": 134,
   "metadata": {},
   "outputs": [],
   "source": [
    "# minus: dict = pandas.read_pickle(gene_drive / \"Minus.pkl\")  # I did this by accident and it fucking works!\n",
    "# minus_keys: tuple = tuple(minus.keys())\n",
    "# minus_values: tuple = tuple(minus.values())\n",
    "# plus: dict = pandas.read_pickle(gene_drive / \"Plus.pkl\")\n",
    "# plus_keys: tuple = tuple(plus.keys())\n",
    "# plus_values: tuple = tuple(plus.values())"
   ]
  },
  {
   "cell_type": "code",
   "execution_count": 135,
   "metadata": {},
   "outputs": [],
   "source": [
    "# plus_0: Gene.Gene\n",
    "# minus_0: Gene.Gene\n",
    "\n",
    "# plus_0 = plus_values[0]\n",
    "# minus_0 = minus_values[0]\n"
   ]
  },
  {
   "cell_type": "code",
   "execution_count": 136,
   "metadata": {},
   "outputs": [],
   "source": [
    "# with open(cwd / \"Positive.txt\", \"w\") as file:\n",
    "#     file.write(f\"{plus_0.name}\\t{plus_0.strand}\\t{plus_0.chrm}\\n\")\n",
    "#     for exon in plus_0.exon_seq:\n",
    "#         file.write(f\"{exon}\\n\\n\")\n",
    "#     file.write(\"\\n\\n\")\n",
    "#     for intron in plus_0.intron_seq:\n",
    "#         file.write(f\"{intron}\\n\\n\")"
   ]
  },
  {
   "cell_type": "code",
   "execution_count": 137,
   "metadata": {},
   "outputs": [],
   "source": [
    "# with open(cwd / \"Minus.txt\", \"w\") as file:\n",
    "#     file.write(f\"{minus_0.name}\\t{minus_0.strand}\\t{minus_0.chrm}\\n\")\n",
    "#     file.write(\"###Exons\\n\")\n",
    "#     for exon in minus_0.exon_seq:\n",
    "#         file.write(f\"{len(exon)}\\n\")\n",
    "#         file.write(f\"{exon[::-1]}\\n\\n\")\n",
    "#     file.write(\"\\n\\n###Introns\")\n",
    "#     for intron in minus_0.intron_seq:\n",
    "#         file.write(f\"{len(intron)}\\n\")\n",
    "#         file.write(f\"{intron[::-1]}\\n\\n\")\n",
    "\n",
    "#     file.write(\"\\n\\n\\n###Cords\")\n",
    "#     for crd in minus_0.exon_cords:\n",
    "#         file.write(f\"{crd}\\n\\n\")\n",
    "\n",
    "# print(vars(minus_0).keys())"
   ]
  },
  {
   "cell_type": "code",
   "execution_count": 138,
   "metadata": {},
   "outputs": [],
   "source": [
    "with open(cwd.parent / \"Data_Files\" / \"Primates\" / \"Genetics\" / \"Homo_sapiens\" / \"Antisense_Investigation.pkl\", \"rb\") as file:\n",
    "    data: dict = pickle.load(file)"
   ]
  },
  {
   "cell_type": "code",
   "execution_count": 139,
   "metadata": {},
   "outputs": [],
   "source": [
    "genes: tuple = tuple(data.values())\n",
    "gene_0: Gene.Gene = genes[0]\n",
    "gene_1: Gene.Gene = genes[1]\n"
   ]
  },
  {
   "cell_type": "code",
   "execution_count": 140,
   "metadata": {},
   "outputs": [],
   "source": [
    "name_1 = gene_1.name\n",
    "nname_1 = gene_1.ncibname\n",
    "strand_1 = gene_1.strand\n",
    "chrm_1 = gene_1.chrm"
   ]
  },
  {
   "cell_type": "code",
   "execution_count": 141,
   "metadata": {},
   "outputs": [
    {
     "name": "stdout",
     "output_type": "stream",
     "text": [
      "NOC2L NM_015658.4 - chr1\n"
     ]
    }
   ],
   "source": [
    "print(name_1, nname_1, strand_1, chrm_1)"
   ]
  },
  {
   "cell_type": "code",
   "execution_count": 142,
   "metadata": {},
   "outputs": [
    {
     "data": {
      "text/plain": [
       "['ATGGAGACCCAGACGCAGAGGCGGGGCTGGCCCCTGGGGAGCTGCAGCAGCTGGCCCAGGGGCCGGAGGACGAGCTGGAGGATCTGCAGCTCTCAGAGGACGACTGAGGCAGCCCATCTGGGGGGCCTGTAGGGGCTGCCGGGCTGGTGGCCAGTGTTTCCACCTCCCTGGCAGTCAGGCCTAGAGGCTGGCGTCTGTGCAGTTGGGGGAGGCAGTAGACACGGGACAGGCTTTATTATTTATTTTTCAGCATGAAAGACCAAACGTATCGAGAGCTGGGCTGGGCTGGGCTGGTGTGGCTGCTGAAGCCCCACAGCTGTGGGCTGCTGAAGTCAGCTCCGCGGGGGAGCTGACCCTGACGTCAGCAGACCGAGACCAGTCCCAGTTCCAGGGGGAGGCCTGCAGGCCCCTGGCCCCTTCCACCACCTCTGCCCTCCGTCTGCAGACCTCGTCCATCTGCACCAGGCTCTGCCTTCACTCCCCCAAGTCTTTGAAAATTTGTTCCTTTCCTTTGAAGTCACATTTTCTTTTAAAATTTTTTGTTTTGCATCCGAAACCGAAAGAAATAAAGCGGTGGGAGGCAGGGCCATTGTGTTGA',\n",
       " 'GGATACTGAGGCCCCTGAGCACTCGGCATGGGGTGGAAGACGATGAAGAGGACGAGGAGGAGGGCGAGGAGGACAGCAGCAACTCGGAGG',\n",
       " 'CTGGAAGACCTGAACTTCCCTGAGATCAAACGAAGGAAGATGGCTGACAGGAAGGATGAGGACAGGAAGCAATTTAAAGACCTCTTTGACCTGAACAGCTCTGAAGAGGACGACACCGAGGGATTCTCGGAGAGAG',\n",
       " 'GAAGCCTGGGAGAAGCTGACCCGGGAAGAGGGGACACCCCTGACCTTGTACTACAGCCACTGGCGCAAGCTGCGTGACCGGGAGATCCAGCTGGAGATCAGTGGCAAAGAGCGG',\n",
       " 'CTGAAGTCGTTCCTCCGGGAGTGCAAGGTGGCCAACTACTGCCGGCAGGTGCAGCAGCTGCTTGGGAAGGTTCAGGAGAACTCGGCATACATCTGCAGCCGCCGCCAGAGGGTTTCCTTCGGCGTCTCTGAGCAGCAGGCAGTG',\n",
       " 'GACGGCCTGGTGGAGCAGCTGTACGACCTCACCCTGGAGTACCTGCACAGCCAGGCACACTGCATCGGCTTCCCGGAGCTGGTGCTGCCTGTGGTCCTGCAG',\n",
       " 'ATGTTCCAGCAGGTCGACTTCAACAGGAAGCCAGGGCGCATGAGCTCCAAGCCCATCAACTTCTCCGTGATCCTGAAGCTGTCCAATGTCAACCTGCAGGAGAAGGCGTACCGG',\n",
       " 'GCTCATCCCCACTGCCCGCTTCTACCCGCTGCGAATGCACTGCATCCGTGCCCTGACGCTGCTCTCGGGGAGCTCGGGGGCCTTCATCCCGGTGCTGCCTTTCATCCTGGAG',\n",
       " 'GAAACATACCAGTCTGTGTACAACTGGCAGTATGTGCACTGCCTCTTCCTGTGGTGCCGGGTCCTGAGCACTGCGGGCCCCAGCGAAGCCCTCCAGCCCTTGGTCTACCCCCTTGCCCAAGTCATCATTGGCTGTATCAA',\n",
       " 'CAAATGTACATCACGTATGTGAGGAACTGCAAGTTCACCTCGCCTGGTGCCCTCCCCTTCATCAGTTTCATGCAGTGGACCTTGACGGAGCTGCTGGCCCTGGAGCCGGGTGTGGCCTACCAGCACGCCTTCCTCTACATCCGCCAGCTCGCCATACACCTGCGCAACGCCATGACCACTCGCAAGAAG',\n",
       " 'AGAATGGTGATCGTATGGAGCACTGGGGAAGAGTCTCTGCGGGTGCTGGCTTTCCTGGTCCTCAGCAGAGTCTGCCGGCACAAGAAGGACACTTTCCTTGGCCCCGTCCTCAAG',\n",
       " 'CTGGTGTCCTGTCTGTCGGAGACGACGGTGTTGGCGGCCGTGCTGCGGCACATCAGCGTGCTGGTGCCCTGCTTCCTGACCTTCCCCAAGCAGTGCCGCATGCTGCTCAAG',\n",
       " 'GATGCTGCAGCCGTCCAGCAGCCCGCTCTGGGGGAAGCTTCGTGTGGACATCAAGGCTTACCTGGGCTCGGCCATACAG',\n",
       " 'CATTCAATGCTCTGGTTACCTTCTGCATCAGAGACCTCATTGGCTGTCTCCAGAAGCTGCTGTTTGGAAAGGTGGCAAAGGATAGCAGCAG',\n",
       " 'CAACGCCTCACTCCAAAGCTGTTCCATGAAGTGGTACAGGCGTTCCGAGCAGCTGTGGCCACCACCCGAGGGGACCAGGAAAGTGCTGAGGCCAACAAATTCCAGGTCACGGACAGTGCTG',\n",
       " 'GAAGCCAGTGAGGAGGAGGATGGAGCGGAGGAAGGAGAAGATGGGGACAGAGTCCCCAGAGGGCTGAAGGGGAAGAAGAATTCTGTTCCTGTGACCGTCGCCATGGTTGAGAGATGGAAGCAGGCAGCAAAG',\n",
       " 'CCGGCGTAAAGGCCGTGCCTCTGAGCACAAAGACCAGCTCTCTCGGCTGAAGGACAGAGACCCCGAGTTCTACAAGTTCCTGCAGGAGAATGACCAGAGCCTGCTAAACTTCAGCGACTCGGACAGCTCTGAGGAGGAAGAGGGGCCGTTCCACTCCCTGCCAGATGTGCTGGAG',\n",
       " 'GCGCCTGGCGGAGCTGACGGTGGACGAGTTCCTAGCTTCGGGCTTTGACTCCGAGTCCGAATCCGAGTCCGAAAATTCTCCACAAGCGGAGACACGGGAAGCACGCGAGGCTGCCCGGAGTCCGGATAAGCCGGGCGGGAGCCCCTCGGCCAG',\n",
       " 'GCTTCGGGTTGGTGTCATGGCAGCTGCGGGGAGCCGCAAGAG']"
      ]
     },
     "execution_count": 142,
     "metadata": {},
     "output_type": "execute_result"
    }
   ],
   "source": [
    "gene_1.exon_seq"
   ]
  },
  {
   "cell_type": "code",
   "execution_count": 143,
   "metadata": {},
   "outputs": [
    {
     "data": {
      "text/plain": [
       "{'UTR5_0': 'https://api.genome.ucsc.edu/getData/sequence?genome=hg19;chrom=chr1;start=894620;end=894636',\n",
       " 'CDS_0': 'https://api.genome.ucsc.edu/getData/sequence?genome=hg19;chrom=chr1;start=880073;end=880180',\n",
       " 'CDS_1': 'https://api.genome.ucsc.edu/getData/sequence?genome=hg19;chrom=chr1;start=880436;end=880526',\n",
       " 'CDS_2': 'https://api.genome.ucsc.edu/getData/sequence?genome=hg19;chrom=chr1;start=880897;end=881033',\n",
       " 'CDS_3': 'https://api.genome.ucsc.edu/getData/sequence?genome=hg19;chrom=chr1;start=881552;end=881666',\n",
       " 'CDS_4': 'https://api.genome.ucsc.edu/getData/sequence?genome=hg19;chrom=chr1;start=881781;end=881925',\n",
       " 'CDS_5': 'https://api.genome.ucsc.edu/getData/sequence?genome=hg19;chrom=chr1;start=883510;end=883612',\n",
       " 'CDS_6': 'https://api.genome.ucsc.edu/getData/sequence?genome=hg19;chrom=chr1;start=883869;end=883983',\n",
       " 'CDS_7': 'https://api.genome.ucsc.edu/getData/sequence?genome=hg19;chrom=chr1;start=886506;end=886618',\n",
       " 'CDS_8': 'https://api.genome.ucsc.edu/getData/sequence?genome=hg19;chrom=chr1;start=887379;end=887519',\n",
       " 'CDS_9': 'https://api.genome.ucsc.edu/getData/sequence?genome=hg19;chrom=chr1;start=887791;end=887980',\n",
       " 'CDS_10': 'https://api.genome.ucsc.edu/getData/sequence?genome=hg19;chrom=chr1;start=888554;end=888668',\n",
       " 'CDS_11': 'https://api.genome.ucsc.edu/getData/sequence?genome=hg19;chrom=chr1;start=889161;end=889272',\n",
       " 'CDS_12': 'https://api.genome.ucsc.edu/getData/sequence?genome=hg19;chrom=chr1;start=889383;end=889462',\n",
       " 'CDS_13': 'https://api.genome.ucsc.edu/getData/sequence?genome=hg19;chrom=chr1;start=891302;end=891393',\n",
       " 'CDS_14': 'https://api.genome.ucsc.edu/getData/sequence?genome=hg19;chrom=chr1;start=891474;end=891595',\n",
       " 'CDS_15': 'https://api.genome.ucsc.edu/getData/sequence?genome=hg19;chrom=chr1;start=892273;end=892405',\n",
       " 'CDS_16': 'https://api.genome.ucsc.edu/getData/sequence?genome=hg19;chrom=chr1;start=892478;end=892653',\n",
       " 'CDS_17': 'https://api.genome.ucsc.edu/getData/sequence?genome=hg19;chrom=chr1;start=894308;end=894461',\n",
       " 'CDS_18': 'https://api.genome.ucsc.edu/getData/sequence?genome=hg19;chrom=chr1;start=894594;end=894620',\n",
       " 'UTR3_0': 'https://api.genome.ucsc.edu/getData/sequence?genome=hg19;chrom=chr1;start=879582;end=880073',\n",
       " 'Exon_0': 'https://api.genome.ucsc.edu/getData/sequence?genome=hg19;chrom=chr1;start=879582;end=880180',\n",
       " 'Exon_1': 'https://api.genome.ucsc.edu/getData/sequence?genome=hg19;chrom=chr1;start=880436;end=880526',\n",
       " 'Exon_2': 'https://api.genome.ucsc.edu/getData/sequence?genome=hg19;chrom=chr1;start=880897;end=881033',\n",
       " 'Exon_3': 'https://api.genome.ucsc.edu/getData/sequence?genome=hg19;chrom=chr1;start=881552;end=881666',\n",
       " 'Exon_4': 'https://api.genome.ucsc.edu/getData/sequence?genome=hg19;chrom=chr1;start=881781;end=881925',\n",
       " 'Exon_5': 'https://api.genome.ucsc.edu/getData/sequence?genome=hg19;chrom=chr1;start=883510;end=883612',\n",
       " 'Exon_6': 'https://api.genome.ucsc.edu/getData/sequence?genome=hg19;chrom=chr1;start=883869;end=883983',\n",
       " 'Exon_7': 'https://api.genome.ucsc.edu/getData/sequence?genome=hg19;chrom=chr1;start=886506;end=886618',\n",
       " 'Exon_8': 'https://api.genome.ucsc.edu/getData/sequence?genome=hg19;chrom=chr1;start=887379;end=887519',\n",
       " 'Exon_9': 'https://api.genome.ucsc.edu/getData/sequence?genome=hg19;chrom=chr1;start=887791;end=887980',\n",
       " 'Exon_10': 'https://api.genome.ucsc.edu/getData/sequence?genome=hg19;chrom=chr1;start=888554;end=888668',\n",
       " 'Exon_11': 'https://api.genome.ucsc.edu/getData/sequence?genome=hg19;chrom=chr1;start=889161;end=889272',\n",
       " 'Exon_12': 'https://api.genome.ucsc.edu/getData/sequence?genome=hg19;chrom=chr1;start=889383;end=889462',\n",
       " 'Exon_13': 'https://api.genome.ucsc.edu/getData/sequence?genome=hg19;chrom=chr1;start=891302;end=891393',\n",
       " 'Exon_14': 'https://api.genome.ucsc.edu/getData/sequence?genome=hg19;chrom=chr1;start=891474;end=891595',\n",
       " 'Exon_15': 'https://api.genome.ucsc.edu/getData/sequence?genome=hg19;chrom=chr1;start=892273;end=892405',\n",
       " 'Exon_16': 'https://api.genome.ucsc.edu/getData/sequence?genome=hg19;chrom=chr1;start=892478;end=892653',\n",
       " 'Exon_17': 'https://api.genome.ucsc.edu/getData/sequence?genome=hg19;chrom=chr1;start=894308;end=894461',\n",
       " 'Exon_18': 'https://api.genome.ucsc.edu/getData/sequence?genome=hg19;chrom=chr1;start=894594;end=894636',\n",
       " 'Intr_0': 'https://api.genome.ucsc.edu/getData/sequence?genome=hg19;chrom=chr1;start=880180;end=880436',\n",
       " 'Intr_1': 'https://api.genome.ucsc.edu/getData/sequence?genome=hg19;chrom=chr1;start=880526;end=880897',\n",
       " 'Intr_2': 'https://api.genome.ucsc.edu/getData/sequence?genome=hg19;chrom=chr1;start=881033;end=881552',\n",
       " 'Intr_3': 'https://api.genome.ucsc.edu/getData/sequence?genome=hg19;chrom=chr1;start=881666;end=881781',\n",
       " 'Intr_4': 'https://api.genome.ucsc.edu/getData/sequence?genome=hg19;chrom=chr1;start=881925;end=883510',\n",
       " 'Intr_5': 'https://api.genome.ucsc.edu/getData/sequence?genome=hg19;chrom=chr1;start=883612;end=883869',\n",
       " 'Intr_6': 'https://api.genome.ucsc.edu/getData/sequence?genome=hg19;chrom=chr1;start=883983;end=886506',\n",
       " 'Intr_7': 'https://api.genome.ucsc.edu/getData/sequence?genome=hg19;chrom=chr1;start=886618;end=887379',\n",
       " 'Intr_8': 'https://api.genome.ucsc.edu/getData/sequence?genome=hg19;chrom=chr1;start=887519;end=887791',\n",
       " 'Intr_9': 'https://api.genome.ucsc.edu/getData/sequence?genome=hg19;chrom=chr1;start=887980;end=888554',\n",
       " 'Intr_10': 'https://api.genome.ucsc.edu/getData/sequence?genome=hg19;chrom=chr1;start=888668;end=889161',\n",
       " 'Intr_11': 'https://api.genome.ucsc.edu/getData/sequence?genome=hg19;chrom=chr1;start=889272;end=889383',\n",
       " 'Intr_12': 'https://api.genome.ucsc.edu/getData/sequence?genome=hg19;chrom=chr1;start=889462;end=891302',\n",
       " 'Intr_13': 'https://api.genome.ucsc.edu/getData/sequence?genome=hg19;chrom=chr1;start=891393;end=891474',\n",
       " 'Intr_14': 'https://api.genome.ucsc.edu/getData/sequence?genome=hg19;chrom=chr1;start=891595;end=892273',\n",
       " 'Intr_15': 'https://api.genome.ucsc.edu/getData/sequence?genome=hg19;chrom=chr1;start=892405;end=892478',\n",
       " 'Intr_16': 'https://api.genome.ucsc.edu/getData/sequence?genome=hg19;chrom=chr1;start=892653;end=894308',\n",
       " 'Intr_17': 'https://api.genome.ucsc.edu/getData/sequence?genome=hg19;chrom=chr1;start=894461;end=894594'}"
      ]
     },
     "execution_count": 143,
     "metadata": {},
     "output_type": "execute_result"
    },
    {
     "ename": "",
     "evalue": "",
     "output_type": "error",
     "traceback": [
      "\u001b[1;31mThe Kernel crashed while executing code in the current cell or a previous cell. \n",
      "\u001b[1;31mPlease review the code in the cell(s) to identify a possible cause of the failure. \n",
      "\u001b[1;31mClick <a href='https://aka.ms/vscodeJupyterKernelCrash'>here</a> for more info. \n",
      "\u001b[1;31mView Jupyter <a href='command:jupyter.viewOutput'>log</a> for further details."
     ]
    }
   ],
   "source": [
    "gene_1.urls"
   ]
  }
 ],
 "metadata": {
  "kernelspec": {
   "display_name": "thesis",
   "language": "python",
   "name": "python3"
  },
  "language_info": {
   "codemirror_mode": {
    "name": "ipython",
    "version": 3
   },
   "file_extension": ".py",
   "mimetype": "text/x-python",
   "name": "python",
   "nbconvert_exporter": "python",
   "pygments_lexer": "ipython3",
   "version": "3.10.8"
  }
 },
 "nbformat": 4,
 "nbformat_minor": 2
}
