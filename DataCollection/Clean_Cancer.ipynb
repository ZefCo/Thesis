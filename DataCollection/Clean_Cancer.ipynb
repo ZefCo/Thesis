{
 "cells": [
  {
   "cell_type": "code",
   "execution_count": 1,
   "metadata": {},
   "outputs": [],
   "source": [
    "import pathlib\n",
    "cwd = pathlib.Path.cwd()\n",
    "import pandas\n",
    "import re"
   ]
  },
  {
   "cell_type": "code",
   "execution_count": 2,
   "metadata": {},
   "outputs": [],
   "source": [
    "min_pos = 250\n",
    "min_ant = 250\n",
    "\n",
    "ut_cancer_file = cwd.parent / \"Data_Files\" / \"UTData_fs.csv\"\n",
    "ut_cancer_raw = cwd.parent / \"Data_Files\" / \"Cancer_UTData_fs_RAW.xlsx\"\n",
    "ut_cancer_clean = cwd.parent / \"Data_Files\" / f\"Cancer_UTData_fs_{min_pos}-{min_ant}.xlsx\"\n",
    "\n",
    "uh_cancer_file = cwd.parent / \"Data_Files\" / \"Fusion_AllConfidence.pkl\"\n",
    "uh_cancer_raw = cwd.parent / \"Data_Files\" / \"Cancer_UHData_RAW.xlsx\"\n",
    "uh_cancer_clean = cwd.parent / \"Data_Files\" / f\"Cancer_UHData_{min_pos}-{min_ant}.xlsx\""
   ]
  },
  {
   "cell_type": "code",
   "execution_count": 3,
   "metadata": {},
   "outputs": [],
   "source": [
    "def import_data_and_save(file_path: pathlib.Path, new_file_path: pathlib.Path, *args, **kwargs) -> pandas.DataFrame:\n",
    "    '''\n",
    "    '''\n",
    "    data: pandas.DataFrame\n",
    "    if file_path.suffix in \".csv\":\n",
    "        data = pandas.read_csv(file_path, *args, **kwargs)\n",
    "        data.to_excel(new_file_path, sheet_name = \"Sheet 1\")\n",
    "\n",
    "    elif file_path.suffix in \".xlsx\":\n",
    "        data = pandas.read_excel(file_path, *args, **kwargs)\n",
    "\n",
    "    elif file_path.suffix in \".pkl\":\n",
    "        data = pandas.read_pickle(file_path, *args, **kwargs)\n",
    "        data.to_excel(new_file_path, sheet_name = \"Sheet 1\")\n",
    "\n",
    "    else:\n",
    "        data = None\n",
    "\n",
    "    return data"
   ]
  },
  {
   "cell_type": "code",
   "execution_count": 4,
   "metadata": {},
   "outputs": [],
   "source": [
    "def filter_length(data: pandas.DataFrame, min_pos: int = 6, min_ant: int = 6):\n",
    "    '''\n",
    "    filters the data by length.\n",
    "    '''\n",
    "    data[\"Ant_Seq_Len\"] = data[\"Anterior_Seq\"].apply(lambda x: len(x) if isinstance(x, str) else pandas.NA)\n",
    "    data[\"Pos_Seq_Len\"] = data[\"Posterior_Seq\"].apply(lambda x: len(x) if isinstance(x, str) else pandas.NA)\n",
    "    data = data[(data[\"Ant_Seq_Len\"] > 0) & (data[\"Pos_Seq_Len\"] > 0)]\n",
    "\n",
    "    data[f\"Anterior_{min_pos}\"] = data[\"Anterior_Seq\"].apply(lambda x: x[0: min_ant] if len(x) >= min_ant else pandas.NA)\n",
    "    data[f\"Posterior_{min_ant}\"] = data[\"Posterior_Seq\"].apply(lambda x: x[len(x) - min_pos: len(x)] if len(x) >= min_pos else pandas.NA)\n",
    "\n",
    "    data.dropna()\n",
    "    data = data.reset_index()\n",
    "\n",
    "    return data"
   ]
  },
  {
   "cell_type": "code",
   "execution_count": 5,
   "metadata": {},
   "outputs": [
    {
     "name": "stdout",
     "output_type": "stream",
     "text": [
      "['Henst', 'Tenst', 'DataType', 'Source', 'Ctype', 'Hgene', 'Hchr', 'Hbp', 'Hstrand', 'Tgene', 'Tchr', 'Tbp', 'Tstrand', 'BreakPoint', 'Seq', 'Hseq', 'Tseq', 'Length', 'Unnamed: 18', 'Unnamed: 19']\n"
     ]
    }
   ],
   "source": [
    "ut_cancer = import_data_and_save(ut_cancer_file, ut_cancer_raw)\n",
    "\n",
    "print(list(ut_cancer.columns))"
   ]
  },
  {
   "cell_type": "code",
   "execution_count": 6,
   "metadata": {},
   "outputs": [
    {
     "name": "stdout",
     "output_type": "stream",
     "text": [
      "['CANCER TYPE', 'Shipment Number', 'XS_MODEL', '#gene1', 'gene2', 'strand1(gene/fusion)', 'strand2(gene/fusion)', 'breakpoint1', 'breakpoint2', 'site1', 'site2', 'type', 'split_reads1', 'split_reads2', 'discordant_mates', 'coverage1', 'coverage2', 'confidence', 'reading_frame', 'tags', 'retained_protein_domains', 'closest_genomic_breakpoint1', 'closest_genomic_breakpoint2', 'gene_id1', 'gene_id2', 'transcript_id1', 'transcript_id2', 'direction1', 'direction2', 'filters', 'fusion_transcript', 'peptide_sequence', 'read_identifiers', 'Tail', 'Head']\n",
      "(17377, 35)\n"
     ]
    }
   ],
   "source": [
    "uh_cancer = import_data_and_save(uh_cancer_file, uh_cancer_raw)\n",
    "\n",
    "print(list(uh_cancer.columns))\n",
    "print(uh_cancer.shape)"
   ]
  },
  {
   "cell_type": "code",
   "execution_count": 7,
   "metadata": {},
   "outputs": [],
   "source": [
    "new_columns = [\"Posterior_ENST\", \"Anterior_ENST\", \"Cancer_Type\", \"Posterior_Name\", \"Anterior_Name\", \"Posterior_Strand\", \"Anterior_Strand\", \"Posterior_Chrm\", \"Anterior_Chrm\", \"Posterior_Seq\", \"Anterior_Seq\", \"Full_Seq\"]\n",
    "old_columns_ut = [\"Henst\", \"Tenst\", \"Ctype\", \"Hgene\", \"Tgene\", \"Hstrand\", \"Tstrand\", \"Hchr\", \"Tchr\", \"Hseq\", \"Tseq\", \"Seq\"]\n",
    "old_columns_uh = [\"transcript_id1\", \"transcript_id2\", \"CANCER TYPE\", '#gene1', \"gene2\", \"strand1(gene/fusion)\", \"strand2(gene/fusion)\", \"Head_Chrm\", \"Tail_Chrm\", \"Head\", \"Tail\", \"fusion_transcript\"]\n",
    "\n",
    "new_columns_ut = {old: new_columns[i] for i, old in enumerate(old_columns_ut)}\n",
    "new_columns_uh = {old: new_columns[i] for i, old in enumerate(old_columns_uh)}"
   ]
  },
  {
   "cell_type": "code",
   "execution_count": 8,
   "metadata": {},
   "outputs": [
    {
     "name": "stdout",
     "output_type": "stream",
     "text": [
      "{'Henst': 'Posterior_ENST', 'Tenst': 'Anterior_ENST', 'Ctype': 'Cancer_Type', 'Hgene': 'Posterior_Name', 'Tgene': 'Anterior_Name', 'Hstrand': 'Posterior_Strand', 'Tstrand': 'Anterior_Strand', 'Hchr': 'Posterior_Chrm', 'Tchr': 'Anterior_Chrm', 'Hseq': 'Posterior_Seq', 'Tseq': 'Anterior_Seq', 'Seq': 'Full_Seq'}\n"
     ]
    }
   ],
   "source": [
    "print(new_columns_ut)"
   ]
  },
  {
   "cell_type": "code",
   "execution_count": 9,
   "metadata": {},
   "outputs": [
    {
     "name": "stdout",
     "output_type": "stream",
     "text": [
      "{'transcript_id1': 'Posterior_ENST', 'transcript_id2': 'Anterior_ENST', 'CANCER TYPE': 'Cancer_Type', '#gene1': 'Posterior_Name', 'gene2': 'Anterior_Name', 'strand1(gene/fusion)': 'Posterior_Strand', 'strand2(gene/fusion)': 'Anterior_Strand', 'Head_Chrm': 'Posterior_Chrm', 'Tail_Chrm': 'Anterior_Chrm', 'Head': 'Posterior_Seq', 'Tail': 'Anterior_Seq', 'fusion_transcript': 'Full_Seq'}\n"
     ]
    }
   ],
   "source": [
    "print(new_columns_uh)"
   ]
  },
  {
   "cell_type": "code",
   "execution_count": 10,
   "metadata": {},
   "outputs": [
    {
     "name": "stderr",
     "output_type": "stream",
     "text": [
      "C:\\Users\\tokyo\\AppData\\Local\\Temp\\ipykernel_9180\\2438321110.py:9: SettingWithCopyWarning: \n",
      "A value is trying to be set on a copy of a slice from a DataFrame.\n",
      "Try using .loc[row_indexer,col_indexer] = value instead\n",
      "\n",
      "See the caveats in the documentation: https://pandas.pydata.org/pandas-docs/stable/user_guide/indexing.html#returning-a-view-versus-a-copy\n",
      "  data[f\"Anterior_{min_pos}\"] = data[\"Anterior_Seq\"].apply(lambda x: x[0: min_ant] if len(x) >= min_ant else pandas.NA)\n",
      "C:\\Users\\tokyo\\AppData\\Local\\Temp\\ipykernel_9180\\2438321110.py:10: SettingWithCopyWarning: \n",
      "A value is trying to be set on a copy of a slice from a DataFrame.\n",
      "Try using .loc[row_indexer,col_indexer] = value instead\n",
      "\n",
      "See the caveats in the documentation: https://pandas.pydata.org/pandas-docs/stable/user_guide/indexing.html#returning-a-view-versus-a-copy\n",
      "  data[f\"Posterior_{min_ant}\"] = data[\"Posterior_Seq\"].apply(lambda x: x[len(x) - min_pos: len(x)] if len(x) >= min_pos else pandas.NA)\n"
     ]
    },
    {
     "name": "stdout",
     "output_type": "stream",
     "text": [
      "(56458, 25)\n",
      "['index', 'Posterior_ENST', 'Anterior_ENST', 'DataType', 'Source', 'Cancer_Type', 'Posterior_Name', 'Posterior_Chrm', 'Hbp', 'Posterior_Strand', 'Anterior_Name', 'Anterior_Chrm', 'Tbp', 'Anterior_Strand', 'BreakPoint', 'Full_Seq', 'Posterior_Seq', 'Anterior_Seq', 'Length', 'Unnamed: 18', 'Unnamed: 19', 'Ant_Seq_Len', 'Pos_Seq_Len', 'Anterior_250', 'Posterior_250']\n"
     ]
    }
   ],
   "source": [
    "ut_cancer_claned = ut_cancer.rename(columns = new_columns_ut)\n",
    "\n",
    "ut_cancer_claned = filter_length(ut_cancer_claned, min_ant = min_ant, min_pos = min_pos)\n",
    "\n",
    "print(ut_cancer_claned.shape)\n",
    "print(list(ut_cancer_claned.columns))"
   ]
  },
  {
   "cell_type": "code",
   "execution_count": 11,
   "metadata": {},
   "outputs": [
    {
     "name": "stdout",
     "output_type": "stream",
     "text": [
      "(17377, 42)\n"
     ]
    }
   ],
   "source": [
    "uh_cancer_claned = uh_cancer.rename(columns = new_columns_uh)\n",
    "uh_cancer_claned[\"Posterior_Chrm\"] = \"Unknown\"\n",
    "uh_cancer_claned[\"Anterior_Chrm\"] = \"Unknown\"\n",
    "uh_cancer_claned = filter_length(uh_cancer_claned, min_pos = min_pos, min_ant = min_ant)\n",
    "print(uh_cancer_claned.shape)\n"
   ]
  },
  {
   "cell_type": "code",
   "execution_count": 12,
   "metadata": {},
   "outputs": [],
   "source": [
    "new_columns.append(f\"Posterior_{min_pos}\")\n",
    "new_columns.append(f\"Anterior_{min_pos}\")"
   ]
  },
  {
   "cell_type": "code",
   "execution_count": 13,
   "metadata": {},
   "outputs": [],
   "source": [
    "ut_cancer_claned = ut_cancer_claned[new_columns]"
   ]
  },
  {
   "cell_type": "code",
   "execution_count": 14,
   "metadata": {},
   "outputs": [],
   "source": [
    "uh_cancer_claned = uh_cancer_claned[new_columns]"
   ]
  },
  {
   "cell_type": "code",
   "execution_count": 15,
   "metadata": {},
   "outputs": [
    {
     "name": "stdout",
     "output_type": "stream",
     "text": [
      "    Posterior_ENST    Anterior_ENST Cancer_Type Posterior_Name Anterior_Name  \\\n",
      "0  ENST00000370243  ENST00000370225        UCEC          BCAR3         ABCA4   \n",
      "1  ENST00000370247  ENST00000370225        UCEC          BCAR3         ABCA4   \n",
      "2  ENST00000379446  ENST00000340645        UCEC          NEDD9        GOLGB1   \n",
      "3  ENST00000379446  ENST00000393667        UCEC          NEDD9        GOLGB1   \n",
      "4  ENST00000379433  ENST00000340645        UCEC          NEDD9        GOLGB1   \n",
      "\n",
      "  Posterior_Strand Anterior_Strand Posterior_Chrm Anterior_Chrm  \\\n",
      "0                -               -           chr1          chr1   \n",
      "1                -               -           chr1          chr1   \n",
      "2                -               -           chr6          chr3   \n",
      "3                -               -           chr6          chr3   \n",
      "4                -               -           chr6          chr3   \n",
      "\n",
      "                                       Posterior_Seq  \\\n",
      "0  GAGCGCGCTGGGACTCCCCGAGACGTGGCCCACGGCGGGGAGCGCT...   \n",
      "1  AGACTAGCCTGGGAGAAGGAGCCGACTCACTCCCCCGGCTGCCGAC...   \n",
      "2  ACAACAGTGAGCTCAGAGACTTGAGGGAGGCGCTGCGACTGACAAG...   \n",
      "3  ACAACAGTGAGCTCAGAGACTTGAGGGAGGCGCTGCGACTGACAAG...   \n",
      "4  GGGAGGCGCTGCGACTGACAAGCGGCTCTGCCCGGGACCTTCTCGC...   \n",
      "\n",
      "                                        Anterior_Seq  \\\n",
      "0  GGAGTACCCCTGTGGCAACTCAACACCCTGGAAGACTCCTTCTGTG...   \n",
      "1  GGAGTACCCCTGTGGCAACTCAACACCCTGGAAGACTCCTTCTGTG...   \n",
      "2  TTCTCTCAGCTACTGGAAGAGAAAAACACCCTTTCCATTCAGCTCT...   \n",
      "3  TTCTCTCAGCTACTGGAAGAGAAAAACACCCTTTCCATTCAGCTCT...   \n",
      "4  TTCTCTCAGCTACTGGAAGAGAAAAACACCCTTTCCATTCAGCTCT...   \n",
      "\n",
      "                                            Full_Seq  \\\n",
      "0  GAGCGCGCTGGGACTCCCCGAGACGTGGCCCACGGCGGGGAGCGCT...   \n",
      "1  AGACTAGCCTGGGAGAAGGAGCCGACTCACTCCCCCGGCTGCCGAC...   \n",
      "2  ACAACAGTGAGCTCAGAGACTTGAGGGAGGCGCTGCGACTGACAAG...   \n",
      "3  ACAACAGTGAGCTCAGAGACTTGAGGGAGGCGCTGCGACTGACAAG...   \n",
      "4  GGGAGGCGCTGCGACTGACAAGCGGCTCTGCCCGGGACCTTCTCGC...   \n",
      "\n",
      "                                       Posterior_250  \\\n",
      "0  TCCCCGGCCTGGTGCGCTGCTACGTGGGCAACCGCCGGCCCATCTC...   \n",
      "1  TCCCCGGCCTGGTGCGCTGCTACGTGGGCAACCGCCGGCCCATCTC...   \n",
      "2  TGCCTCCAGTCACGAGCAGCCTGCCTCTGGACTGATGCAGCAGACC...   \n",
      "3  TGCCTCCAGTCACGAGCAGCCTGCCTCTGGACTGATGCAGCAGACC...   \n",
      "4  TGCCTCCAGTCACGAGCAGCCTGCCTCTGGACTGATGCAGCAGACC...   \n",
      "\n",
      "                                        Anterior_250  \n",
      "0  GGAGTACCCCTGTGGCAACTCAACACCCTGGAAGACTCCTTCTGTG...  \n",
      "1  GGAGTACCCCTGTGGCAACTCAACACCCTGGAAGACTCCTTCTGTG...  \n",
      "2  TTCTCTCAGCTACTGGAAGAGAAAAACACCCTTTCCATTCAGCTCT...  \n",
      "3  TTCTCTCAGCTACTGGAAGAGAAAAACACCCTTTCCATTCAGCTCT...  \n",
      "4  TTCTCTCAGCTACTGGAAGAGAAAAACACCCTTTCCATTCAGCTCT...  \n"
     ]
    }
   ],
   "source": [
    "print(ut_cancer_claned.head())"
   ]
  },
  {
   "cell_type": "code",
   "execution_count": 16,
   "metadata": {},
   "outputs": [],
   "source": [
    "ut_cancer_claned.to_excel(ut_cancer_clean, sheet_name = \"Sheet 1\")"
   ]
  },
  {
   "cell_type": "code",
   "execution_count": 17,
   "metadata": {},
   "outputs": [
    {
     "ename": "",
     "evalue": "",
     "output_type": "error",
     "traceback": [
      "\u001b[1;31mThe Kernel crashed while executing code in the current cell or a previous cell. \n",
      "\u001b[1;31mPlease review the code in the cell(s) to identify a possible cause of the failure. \n",
      "\u001b[1;31mClick <a href='https://aka.ms/vscodeJupyterKernelCrash'>here</a> for more info. \n",
      "\u001b[1;31mView Jupyter <a href='command:jupyter.viewOutput'>log</a> for further details."
     ]
    }
   ],
   "source": [
    "uh_cancer_claned.to_excel(uh_cancer_clean, sheet_name = \"Sheet 1\")"
   ]
  }
 ],
 "metadata": {
  "kernelspec": {
   "display_name": "thesis",
   "language": "python",
   "name": "python3"
  },
  "language_info": {
   "codemirror_mode": {
    "name": "ipython",
    "version": 3
   },
   "file_extension": ".py",
   "mimetype": "text/x-python",
   "name": "python",
   "nbconvert_exporter": "python",
   "pygments_lexer": "ipython3",
   "version": "3.10.8"
  }
 },
 "nbformat": 4,
 "nbformat_minor": 2
}
