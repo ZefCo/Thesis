{
 "cells": [
  {
   "cell_type": "code",
   "execution_count": 51,
   "metadata": {},
   "outputs": [],
   "source": [
    "import pandas\n",
    "import pickle\n",
    "import pathlib\n",
    "cwd = pathlib.Path.cwd()\n",
    "import random\n",
    "import re\n",
    "import numpy\n",
    "import matplotlib.pyplot as plt\n",
    "\n",
    "total_exons = 10_000\n",
    "total_introns = 10_000\n",
    "total_ep = 20_000"
   ]
  },
  {
   "cell_type": "markdown",
   "metadata": {},
   "source": [
    "Generates three datasets:\n",
    "\n",
    "1) an exon dataset\n",
    "2) an intron dataset\n",
    "3) an equal probability dataset of lengths between 20 and 2000 (randomly labeled as exons and introns)."
   ]
  },
  {
   "cell_type": "code",
   "execution_count": 52,
   "metadata": {},
   "outputs": [],
   "source": [
    "def gen_seq(kmer: int = 6):\n",
    "    '''\n",
    "    '''\n",
    "    if kmer < 0:\n",
    "        kmer = abs(kmer)\n",
    "    if kmer == 0:\n",
    "        kmer = 6\n",
    "\n",
    "    seq = \"\"\n",
    "\n",
    "    for _ in range(kmer):\n",
    "        n = gen_nuc()\n",
    "        seq = f\"{n}{seq}\"\n",
    "\n",
    "    return seq\n",
    "\n",
    "\n",
    "\n",
    "def gen_nuc():\n",
    "    '''\n",
    "    Generates a nucleotide. The reason it generates the nucleotide rather then the number (which would appear to be more convienent) is because\n",
    "    this allows me to save the sequences, look at them later, and use the existing scripts easily.\n",
    "    '''\n",
    "    n = random.randint(1, 4)\n",
    "\n",
    "    if n == 1:\n",
    "        return \"A\"\n",
    "    elif n == 2:\n",
    "        return \"G\"\n",
    "    elif n == 3:\n",
    "        return \"T\"\n",
    "    else:\n",
    "        return \"C\"\n",
    "    \n",
    "\n",
    "def gen_length(average: int = 120, sigma: int = 25):\n",
    "    '''\n",
    "    Generates the length, using a gaussian distribution.\n",
    "\n",
    "    By trail and error: exons -> 120 and 25, introns -> 1000, 200\n",
    "    '''\n",
    "\n",
    "    return int(numpy.random.normal(average, scale = sigma))\n",
    "\n",
    "\n",
    "def gen_region():\n",
    "    '''\n",
    "    randomly chooses exon or intron\n",
    "    '''\n",
    "    r = random.randint(1, 2)\n",
    "\n",
    "    return \"exon\" if r == 1 else \"intron\""
   ]
  },
  {
   "cell_type": "markdown",
   "metadata": {},
   "source": [
    "Generates Exon data"
   ]
  },
  {
   "cell_type": "code",
   "execution_count": 53,
   "metadata": {},
   "outputs": [
    {
     "name": "stdout",
     "output_type": "stream",
     "text": [
      "                                                 Seq Length Classificaion\n",
      "0  TCTAAGGTTGCTCTACAGGTGTTTATTTGACACCCACCAGAGTGCA...    141          exon\n",
      "1  CTCTTGACAGACATGTCATCCCGGCATCCGGATCCCGCGTAAGGGG...    113          exon\n",
      "2  GCACACTATCCCCCCACGCGGACCCGAGCTCACCAGAATTAAAGTG...    110          exon\n",
      "3  ACGTACTGGTCATCCTCTCCACTAACTATCGGTATGTAATCCTCTG...    146          exon\n",
      "4  AAAGTTCTATGCGCTTGTATCACTATTAGTCAAAGGTATGGCAGTT...    111          exon\n"
     ]
    }
   ],
   "source": [
    "random_exons = pandas.DataFrame(pandas.NA, columns=[\"Seq\", \"Length\", \"Classificaion\"], index=[x for x in range(total_exons)])\n",
    "\n",
    "for e in range(total_exons):\n",
    "    l = gen_length()\n",
    "    random_exons.loc[e, \"Seq\"] = gen_seq(kmer = l)\n",
    "    random_exons.loc[e, \"Length\"] = l\n",
    "    random_exons.loc[e, \"Classificaion\"] = \"exon\"\n",
    "\n",
    "print(random_exons.head())"
   ]
  },
  {
   "cell_type": "markdown",
   "metadata": {},
   "source": [
    "Generates Intron Data"
   ]
  },
  {
   "cell_type": "code",
   "execution_count": 54,
   "metadata": {},
   "outputs": [
    {
     "name": "stdout",
     "output_type": "stream",
     "text": [
      "                                                 Seq Length Classificaion\n",
      "0  GCAAAAGACGGCATTGGGATGTGCACTTAATTGGAGTTTAGTTCCT...    777        intron\n",
      "1  GCGGTAGTGTAAGGCGTGGAATGCAGATATTAAACTTGCCTACGGT...    943        intron\n",
      "2  AAGAGAGGGCACTCAAAGAGGCCGGTAATTCTTTGAGAATCTCTTA...   1411        intron\n",
      "3  GACTCGCAATATCTAGCGATCTACTTCCTCAATGAACGTTCCGCTT...    973        intron\n",
      "4  ATCGCTCGAGTGTGGCACGGGGCCACATCTTTCCGGGGTTAGAAGC...   1224        intron\n"
     ]
    }
   ],
   "source": [
    "random_introns = pandas.DataFrame(pandas.NA, columns=[\"Seq\", \"Length\", \"Classificaion\"], index=[x for x in range(total_introns)])\n",
    "\n",
    "for i in range(total_introns):\n",
    "    l = gen_length(average = 1000, sigma = 200)\n",
    "    random_introns.loc[i, \"Seq\"] = gen_seq(kmer = l)\n",
    "    random_introns.loc[i, \"Length\"] = l\n",
    "    random_introns.loc[i, \"Classificaion\"] = \"intron\"\n",
    "\n",
    "print(random_introns.head())"
   ]
  },
  {
   "cell_type": "markdown",
   "metadata": {},
   "source": [
    "Generates \"Equal Probability\" data"
   ]
  },
  {
   "cell_type": "code",
   "execution_count": 55,
   "metadata": {},
   "outputs": [
    {
     "name": "stdout",
     "output_type": "stream",
     "text": [
      "                                                 Seq Length Classificaion\n",
      "0  GACACGGCGGTTGTGGATCAAAATTTGCATCGACATTTGCGTTCGA...   1662          exon\n",
      "1  CGCTATCTAACGAAAGGTAGGGCCGTGCGTGTGCGCTTTTGTCGAC...   1581        intron\n",
      "2  GTAGCGACTACTTCGTCCTTCGAAGATCCCCGACAACACTTCGACT...   1546          exon\n",
      "3  ACTAGGACGTCAAAAGGCAACAGTAAATGAGTCCACGTGCAGGCCT...    839        intron\n",
      "4  ACTCCGCCGCGGGGTGAGGTTCTCTCGCTGCCGAGTCTGTGCCCTA...     87          exon\n"
     ]
    }
   ],
   "source": [
    "random_ep = pandas.DataFrame(pandas.NA, columns=[\"Seq\", \"Length\", \"Classificaion\"], index=[x for x in range(total_ep)])\n",
    "\n",
    "for ep in range(total_ep):\n",
    "    l = random.randint(12, 2000)\n",
    "    random_ep.loc[ep, \"Seq\"] = gen_seq(kmer = l)\n",
    "    random_ep.loc[ep, \"Length\"] = l\n",
    "    random_ep.loc[ep, \"Classificaion\"] = gen_region()\n",
    "\n",
    "print(random_ep.head())"
   ]
  },
  {
   "cell_type": "code",
   "execution_count": 56,
   "metadata": {},
   "outputs": [
    {
     "ename": "",
     "evalue": "",
     "output_type": "error",
     "traceback": [
      "\u001b[1;31mThe Kernel crashed while executing code in the current cell or a previous cell. \n",
      "\u001b[1;31mPlease review the code in the cell(s) to identify a possible cause of the failure. \n",
      "\u001b[1;31mClick <a href='https://aka.ms/vscodeJupyterKernelCrash'>here</a> for more info. \n",
      "\u001b[1;31mView Jupyter <a href='command:jupyter.viewOutput'>log</a> for further details."
     ]
    }
   ],
   "source": [
    "random_exons.to_pickle(cwd.parent / \"Data_Files\" / \"Random_Exon_Seq.pkl\")\n",
    "random_introns.to_pickle(cwd.parent / \"Data_Files\" / \"Ranomd_Intron_Seq.pkl\")\n",
    "random_ep.to_pickle(cwd.parent / \"Data_Files\"/ \"Ranomd_EP_Seq.pkl\")"
   ]
  }
 ],
 "metadata": {
  "kernelspec": {
   "display_name": "thesis",
   "language": "python",
   "name": "python3"
  },
  "language_info": {
   "codemirror_mode": {
    "name": "ipython",
    "version": 3
   },
   "file_extension": ".py",
   "mimetype": "text/x-python",
   "name": "python",
   "nbconvert_exporter": "python",
   "pygments_lexer": "ipython3",
   "version": "3.10.8"
  }
 },
 "nbformat": 4,
 "nbformat_minor": 2
}
