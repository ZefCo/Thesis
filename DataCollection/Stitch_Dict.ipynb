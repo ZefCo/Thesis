{
 "cells": [
  {
   "cell_type": "code",
   "execution_count": 1,
   "metadata": {},
   "outputs": [],
   "source": [
    "import pandas\n",
    "import re\n",
    "import pathlib\n",
    "cwd = pathlib.Path.cwd()\n",
    "# import Permutations as perm\n",
    "import GeneClass as Gene\n",
    "import pickle\n",
    "import requests\n",
    "import random\n",
    "import os\n",
    "import Stitch_Dict as SD\n",
    "import glob"
   ]
  },
  {
   "cell_type": "code",
   "execution_count": 2,
   "metadata": {},
   "outputs": [],
   "source": [
    "# temp path\n",
    "directory = pathlib.Path(\"E:\\Data_Files\\Homo_sapiens\")\n",
    "file_extension = \"pkl\"\n",
    "output_file_path = cwd.parent / \"Data_Files\" / \"Primates\" / \"Homo_Sapiens\" / \"HS_Dict.pkl\""
   ]
  },
  {
   "cell_type": "code",
   "execution_count": 3,
   "metadata": {},
   "outputs": [],
   "source": [
    "def deep_merge(*args, **kwargs):\n",
    "    '''\n",
    "    Takes in N number of dicts. Merges them into a new dict if the key is not already present.\n",
    "    '''\n",
    "    return_dict: dict = dict()\n",
    "\n",
    "    d: dict\n",
    "    for d in args:\n",
    "        for key, value in d.items():\n",
    "            if key not in return_dict.keys():\n",
    "                return_dict[key] = value\n",
    "\n",
    "    return return_dict"
   ]
  },
  {
   "cell_type": "code",
   "execution_count": 4,
   "metadata": {},
   "outputs": [],
   "source": [
    "list_of_dicts_paths = []\n",
    "for file in glob.glob(str(directory / f\"*.{file_extension}\")):\n",
    "    list_of_dicts_paths.append(file)"
   ]
  },
  {
   "cell_type": "code",
   "execution_count": 7,
   "metadata": {},
   "outputs": [
    {
     "name": "stdout",
     "output_type": "stream",
     "text": [
      "pickle data was truncated\n",
      "E:\\Data_Files\\Homo_sapiens\\Antisense_Investigation_v2.pkl\n",
      "Ran out of input\n",
      "E:\\Data_Files\\Homo_sapiens\\Sense_Investigation_v2.pkl\n"
     ]
    }
   ],
   "source": [
    "list_of_dicts = []\n",
    "for p in list_of_dicts_paths:\n",
    "    with open(p, \"rb\") as file:\n",
    "        try:\n",
    "            d = pickle.load(file)\n",
    "        except Exception as e:\n",
    "            print(e)\n",
    "            print(p)\n",
    "            continue\n",
    "        list_of_dicts.append(d)"
   ]
  },
  {
   "cell_type": "code",
   "execution_count": null,
   "metadata": {},
   "outputs": [],
   "source": [
    "master_dict: dict = deep_merge(list_of_dicts)"
   ]
  },
  {
   "cell_type": "code",
   "execution_count": null,
   "metadata": {},
   "outputs": [],
   "source": [
    "with open(output_file_path, \"wb\") as file:\n",
    "    pickle.dump(master_dict)"
   ]
  },
  {
   "cell_type": "code",
   "execution_count": 13,
   "metadata": {},
   "outputs": [
    {
     "ename": "UnpicklingError",
     "evalue": "pickle data was truncated",
     "output_type": "error",
     "traceback": [
      "\u001b[1;31m---------------------------------------------------------------------------\u001b[0m",
      "\u001b[1;31mUnpicklingError\u001b[0m                           Traceback (most recent call last)",
      "Cell \u001b[1;32mIn[13], line 4\u001b[0m\n\u001b[0;32m      2\u001b[0m \u001b[38;5;28;01mwith\u001b[39;00m \u001b[38;5;28mopen\u001b[39m(\u001b[38;5;124m\"\u001b[39m\u001b[38;5;124mE:\u001b[39m\u001b[38;5;124m\\\u001b[39m\u001b[38;5;124mData_Files\u001b[39m\u001b[38;5;124m\\\u001b[39m\u001b[38;5;124mHomo_sapiens\u001b[39m\u001b[38;5;124m\\\u001b[39m\u001b[38;5;124mAntisense_Investigation_v2.pkl\u001b[39m\u001b[38;5;124m\"\u001b[39m, \u001b[38;5;124m\"\u001b[39m\u001b[38;5;124mrb\u001b[39m\u001b[38;5;124m\"\u001b[39m) \u001b[38;5;28;01mas\u001b[39;00m file:\n\u001b[0;32m      3\u001b[0m     something \u001b[38;5;241m=\u001b[39m pickle\u001b[38;5;241m.\u001b[39mUnpickler(file)\n\u001b[1;32m----> 4\u001b[0m     anti_scores \u001b[38;5;241m=\u001b[39m \u001b[43msomething\u001b[49m\u001b[38;5;241;43m.\u001b[39;49m\u001b[43mload\u001b[49m\u001b[43m(\u001b[49m\u001b[43m)\u001b[49m\n\u001b[0;32m      5\u001b[0m \u001b[38;5;28mprint\u001b[39m(anti_scores)\n",
      "\u001b[1;31mUnpicklingError\u001b[0m: pickle data was truncated"
     ]
    }
   ],
   "source": [
    "anti_scores = {}\n",
    "with open(\"E:\\Data_Files\\Homo_sapiens\\Antisense_Investigation_v2.pkl\", \"rb\") as file:\n",
    "    something = pickle.Unpickler(file)\n",
    "    anti_scores = something.load()\n",
    "print(anti_scores)"
   ]
  },
  {
   "cell_type": "code",
   "execution_count": 14,
   "metadata": {},
   "outputs": [
    {
     "ename": "EOFError",
     "evalue": "Ran out of input",
     "output_type": "error",
     "traceback": [
      "\u001b[1;31m---------------------------------------------------------------------------\u001b[0m",
      "\u001b[1;31mEOFError\u001b[0m                                  Traceback (most recent call last)",
      "Cell \u001b[1;32mIn[14], line 3\u001b[0m\n\u001b[0;32m      1\u001b[0m sense_scores \u001b[38;5;241m=\u001b[39m {}\n\u001b[0;32m      2\u001b[0m \u001b[38;5;28;01mwith\u001b[39;00m \u001b[38;5;28mopen\u001b[39m(\u001b[38;5;124m\"\u001b[39m\u001b[38;5;124mE:\u001b[39m\u001b[38;5;124m\\\u001b[39m\u001b[38;5;124mData_Files\u001b[39m\u001b[38;5;124m\\\u001b[39m\u001b[38;5;124mHomo_sapiens\u001b[39m\u001b[38;5;124m\\\u001b[39m\u001b[38;5;124mSense_Investigation_v2.pkl\u001b[39m\u001b[38;5;124m\"\u001b[39m, \u001b[38;5;124m\"\u001b[39m\u001b[38;5;124mrb\u001b[39m\u001b[38;5;124m\"\u001b[39m) \u001b[38;5;28;01mas\u001b[39;00m file:\n\u001b[1;32m----> 3\u001b[0m     something_else \u001b[38;5;241m=\u001b[39m \u001b[43mpickle\u001b[49m\u001b[38;5;241;43m.\u001b[39;49m\u001b[43mload\u001b[49m\u001b[43m(\u001b[49m\u001b[43mfile\u001b[49m\u001b[43m)\u001b[49m\n\u001b[0;32m      4\u001b[0m     sense_scores \u001b[38;5;241m=\u001b[39m something_else\u001b[38;5;241m.\u001b[39mload()\n\u001b[0;32m      6\u001b[0m \u001b[38;5;28mprint\u001b[39m(sense_scores)\n",
      "\u001b[1;31mEOFError\u001b[0m: Ran out of input"
     ]
    }
   ],
   "source": [
    "sense_scores = {}\n",
    "with open(\"E:\\Data_Files\\Homo_sapiens\\Sense_Investigation_v2.pkl\", \"rb\") as file:\n",
    "    something_else = pickle.load(file)\n",
    "    sense_scores = something_else.load()\n",
    "\n",
    "print(sense_scores)"
   ]
  },
  {
   "cell_type": "code",
   "execution_count": null,
   "metadata": {},
   "outputs": [],
   "source": []
  }
 ],
 "metadata": {
  "kernelspec": {
   "display_name": "thesis",
   "language": "python",
   "name": "python3"
  },
  "language_info": {
   "codemirror_mode": {
    "name": "ipython",
    "version": 3
   },
   "file_extension": ".py",
   "mimetype": "text/x-python",
   "name": "python",
   "nbconvert_exporter": "python",
   "pygments_lexer": "ipython3",
   "version": "3.10.8"
  }
 },
 "nbformat": 4,
 "nbformat_minor": 2
}
